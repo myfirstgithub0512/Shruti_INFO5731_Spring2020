{
  "nbformat": 4,
  "nbformat_minor": 0,
  "metadata": {
    "colab": {
      "name": "Copy of Copy of Copy of Copy of   In_class_exercise_05.ipynb",
      "provenance": [],
      "collapsed_sections": [],
      "include_colab_link": true
    },
    "kernelspec": {
      "name": "python3",
      "display_name": "Python 3"
    }
  },
  "cells": [
    {
      "cell_type": "markdown",
      "metadata": {
        "id": "view-in-github",
        "colab_type": "text"
      },
      "source": [
        "<a href=\"https://colab.research.google.com/github/myfirstgithub0512/Shruti_INFO5731_Spring2020/blob/master/Copy_of_Copy_of_Copy_of_Copy_of_In_class_exercise_05.ipynb\" target=\"_parent\"><img src=\"https://colab.research.google.com/assets/colab-badge.svg\" alt=\"Open In Colab\"/></a>"
      ]
    },
    {
      "cell_type": "markdown",
      "metadata": {
        "id": "z7TahL04sVvR",
        "colab_type": "text"
      },
      "source": [
        "# **The fifth in-class-exercise**"
      ]
    },
    {
      "cell_type": "markdown",
      "metadata": {
        "id": "ejyZITr8sjnh",
        "colab_type": "text"
      },
      "source": [
        "## **1. Rule-based information extraction**\n",
        "\n",
        "Use any keywords related to data science, natural language processing, machine learning to search from google scholar, get the **titles** of 100 articles (either by web scraping or manually) about this topic, define a set of patterns to extract the research questions/problems, methods/algorithms/models, datasets, applications, or any other important information about this topic. "
      ]
    },
    {
      "cell_type": "code",
      "metadata": {
        "id": "-bNpzqhYSn9d",
        "colab_type": "code",
        "colab": {
          "base_uri": "https://localhost:8080/",
          "height": 35
        },
        "outputId": "4e1c9b38-e59d-4218-b19a-ff3fa3402628"
      },
      "source": [
        "## NOTE: Below solution successfully reads 100 titles after searching for \"machine learning algorithms\"\n",
        "## However in Google Colab sometimes output shows while sometimes it doesn't. I am not exactly sure why this happens.\n",
        "## I did save the output earlier when displayed all the 100 titles and have attached file with this in class exercise's submission.\n",
        "## File Name : ListOfTitles.txt\n",
        "\n",
        "import requests\n",
        "import json\n",
        "from bs4 import BeautifulSoup\n",
        "\n",
        "results = []\n",
        "for i in range(10):\n",
        "#    url= 'https://scholar.google.com/scholar?start={}&q=machine+learning&hl=en&as_sdt=0,44&as_vis=1'.format(i)\n",
        "    url ='https://scholar.google.com/scholar?start={}&q=machine+learning+algorithms+filetype:pdf&hl=en&as_sdt=0,44'.format(i)\n",
        "    pageContent = requests.get(url)\n",
        "    page = BeautifulSoup(pageContent.content, 'html.parser')\n",
        "    for entry in page.find_all(\"h3\", attrs={\"class\": \"gs_rt\"}):\n",
        "        results.append({\"title\": entry.a.text})\n",
        "\n",
        "print((results))"
      ],
      "execution_count": 4,
      "outputs": [
        {
          "output_type": "stream",
          "text": [
            "[]\n"
          ],
          "name": "stdout"
        }
      ]
    },
    {
      "cell_type": "code",
      "metadata": {
        "id": "cNI0Z0rSW4Xp",
        "colab_type": "code",
        "colab": {
          "base_uri": "https://localhost:8080/",
          "height": 156
        },
        "outputId": "b02ba250-1b95-4315-def1-a1ad82dad434"
      },
      "source": [
        "import re\n",
        "import string\n",
        "import nltk\n",
        "import spacy\n",
        "import pandas as pd\n",
        "import numpy as np\n",
        "import math\n",
        "from tqdm import tqdm\n",
        "\n",
        "from spacy.matcher import Matcher\n",
        "from spacy.tokens import Span\n",
        "from spacy import displacy\n",
        "\n",
        "pd.set_option('display.max_colwidth', 200)\n",
        "\n",
        "nlp = spacy.load(\"en_core_web_sm\")\n",
        "\n",
        "text = \"Map-reduce for machine learning on multicore\"  ## Adding one Title and writing pattern for it\n",
        "\n",
        "doc =nlp(text)\n",
        "\n",
        "# print token, dependency, POS tag\n",
        "for tok in doc:\n",
        "  print(tok.text, \"-->\",tok.dep_,\"-->\", tok.pos_)\n",
        "\n",
        "#instantiate a new Matcher class object\n",
        "matcher = Matcher(nlp.vocab)\n",
        "\n",
        "#define the pattern\n",
        "pattern = [{'LOWER': 'Map', 'POS': 'PROPN'},{'LOWER': 'multicore', 'POS': 'NOUN'}]\n",
        "\n",
        "#add the pattern to the previously created matcher object\n",
        "matcher.add(\"Matching\", None, pattern)\n",
        "\n",
        "#call the matcher object the document object and it will return #match_id, start and stop indexes of the matched words\n",
        "matches = matcher(doc)\n",
        "#print the matched results and extract out the results\n",
        "for match_id, start, end in matches:\n",
        "    # Get the string representation\n",
        "    string_id = nlp.vocab.strings[match_id]  \n",
        "    span = doc[start:end]  # The matched span\n",
        "    print(match_id, string_id, start, end, span.text)\n",
        "\n",
        "#pattern = [{'POS':'NOUN'},\n",
        "#           {'LOWER': 'such'},\n",
        "#           {'LOWER': 'as'},\n",
        "#           {'POS': 'PROPN'} #proper noun]"
      ],
      "execution_count": 9,
      "outputs": [
        {
          "output_type": "stream",
          "text": [
            "Map --> compound --> PROPN\n",
            "- --> punct --> PUNCT\n",
            "reduce --> ROOT --> NOUN\n",
            "for --> prep --> ADP\n",
            "machine --> pobj --> NOUN\n",
            "learning --> advcl --> VERB\n",
            "on --> prep --> ADP\n",
            "multicore --> pobj --> NOUN\n"
          ],
          "name": "stdout"
        }
      ]
    },
    {
      "cell_type": "code",
      "metadata": {
        "id": "uedzip0dUT7p",
        "colab_type": "code",
        "colab": {}
      },
      "source": [
        ""
      ],
      "execution_count": 0,
      "outputs": []
    },
    {
      "cell_type": "markdown",
      "metadata": {
        "id": "Dq_7VGmrsum4",
        "colab_type": "text"
      },
      "source": [
        "## **2. Domain-specific information extraction**\n",
        "\n",
        "For the legal case used in the data cleaning exercise: [01-05-1 Adams v Tanner.txt](https://raw.githubusercontent.com/unt-iialab/INFO5731_Spring2020/master/In_class_exercise/01-05-1%20%20Adams%20v%20Tanner.txt), use [legalNLP](https://lexpredict-lexnlp.readthedocs.io/en/latest/modules/extract/extract.html#nlp-based-extraction-methods) to extract the following inforation from the text (if the information is not exist, just print None):\n",
        "\n",
        "(1) acts, e.g., “section 1 of the Advancing Hope Act, 1986”\n",
        "\n",
        "(2) amounts, e.g., “ten pounds” or “5.8 megawatts”\n",
        "\n",
        "(3) citations, e.g., “10 U.S. 100” or “1998 S. Ct. 1”\n",
        "\n",
        "(4) companies, e.g., “Lexpredict LLC”\n",
        "\n",
        "(5) conditions, e.g., “subject to …” or “unless and until …”\n",
        "\n",
        "(6) constraints, e.g., “no more than”\n",
        "\n",
        "(7) copyright, e.g., “(C) Copyright 2000 Acme”\n",
        "\n",
        "(8) courts, e.g., “Supreme Court of New York”\n",
        "\n",
        "(9) CUSIP, e.g., “392690QT3”\n",
        "\n",
        "(10) dates, e.g., “June 1, 2017” or “2018-01-01”\n",
        "\n",
        "(11) definitions, e.g., “Term shall mean …”\n",
        "\n",
        "(12) distances, e.g., “fifteen miles”\n",
        "\n",
        "(13) durations, e.g., “ten years” or “thirty days”\n",
        "\n",
        "(14) geographic and geopolitical entities, e.g., “New York” or “Norway”\n",
        "\n",
        "(15) money and currency usages, e.g., “$5” or “10 Euro”\n",
        "\n",
        "(16) percents and rates, e.g., “10%” or “50 bps”\n",
        "\n",
        "(17) PII, e.g., “212-212-2121” or “999-999-9999”\n",
        "\n",
        "(18) ratios, e.g.,” 3:1” or “four to three”\n",
        "\n",
        "(19) regulations, e.g., “32 CFR 170”\n",
        "\n",
        "(20) trademarks, e.g., “MyApp (TM)”\n",
        "\n",
        "(21) URLs, e.g., “http://acme.com/”\n",
        "\n",
        "(22) addresses, e.g., “1999 Mount Read Blvd, Rochester, NY, USA, 14615”\n",
        "\n",
        "(23) persons, e.g., “John Doe"
      ]
    },
    {
      "cell_type": "code",
      "metadata": {
        "id": "qc7NtJrLx5tS",
        "colab_type": "code",
        "colab": {}
      },
      "source": [
        ""
      ],
      "execution_count": 0,
      "outputs": []
    },
    {
      "cell_type": "code",
      "metadata": {
        "id": "smURIXX7Q4sn",
        "colab_type": "code",
        "outputId": "61b5a4fd-79fe-4b1f-8cc7-f478e5d5a2dd",
        "colab": {
          "base_uri": "https://localhost:8080/",
          "height": 35
        }
      },
      "source": [
        "#!pip install lexnlp\n",
        "import nltk\n",
        "import spacy\n",
        "import lexnlp.extract.en.acts\n",
        "\n",
        "acts_list=[]\n",
        "with open('/content/01-05-1  Adams v Tanner.txt', 'r') as f:\n",
        " for line in f:\n",
        "       y = line.split(\" \\n \")\n",
        "       acts = lexnlp.extract.en.acts.get_act_list(line)\n",
        "       if len(acts)>0:\n",
        "         acts_list.append(acts)\n",
        "#         print(acts)\n",
        "if len(acts_list) == 0:\n",
        "  print(None)\n",
        "else:\n",
        "  print(acts_list)  "
      ],
      "execution_count": 0,
      "outputs": [
        {
          "output_type": "stream",
          "text": [
            "None\n"
          ],
          "name": "stdout"
        }
      ]
    },
    {
      "cell_type": "code",
      "metadata": {
        "id": "O_5SWG0f-Z07",
        "colab_type": "code",
        "outputId": "f33b7913-13cb-4988-9838-474431e10ebe",
        "colab": {
          "base_uri": "https://localhost:8080/",
          "height": 1000
        }
      },
      "source": [
        "import nltk\n",
        "nltk.download('punkt')\n",
        "nltk.download('averaged_perceptron_tagger')\n",
        "nltk.download('wordnet')\n",
        "import lexnlp.extract.en.amounts\n",
        "with open('/content/01-05-1  Adams v Tanner.txt', 'r') as f:\n",
        "  for line in f:\n",
        "       y = line.split(\" \\n \")\n",
        "       amounts =list(lexnlp.extract.en.amounts.get_amounts(line))\n",
        "       if len(amounts)>0:\n",
        "           print(amounts)"
      ],
      "execution_count": 0,
      "outputs": [
        {
          "output_type": "stream",
          "text": [
            "[nltk_data] Downloading package punkt to /root/nltk_data...\n",
            "[nltk_data]   Unzipping tokenizers/punkt.zip.\n",
            "[nltk_data] Downloading package averaged_perceptron_tagger to\n",
            "[nltk_data]     /root/nltk_data...\n",
            "[nltk_data]   Unzipping taggers/averaged_perceptron_tagger.zip.\n",
            "[nltk_data] Downloading package wordnet to /root/nltk_data...\n",
            "[nltk_data]   Unzipping corpora/wordnet.zip.\n"
          ],
          "name": "stderr"
        },
        {
          "output_type": "stream",
          "text": [
            "[5.0, 740.0]\n",
            "[1843.0]\n",
            "Warning: parsing empty text\n",
            "Warning: parsing empty text\n",
            "[2.0]\n",
            "Warning: parsing empty text\n",
            "Warning: parsing empty text\n",
            "[1.0]\n",
            "[4.0]\n",
            "Warning: parsing empty text\n",
            "Warning: parsing empty text\n",
            "[2.0]\n",
            "[1821.0]\n",
            "[5.0]\n",
            "[1.0, 1840.0, 3777, 80.0, 100.0, 30, 1839.0, 741.0, 22, 1840.0, 14000, 120, 1, 1840.0, 3, 4]\n",
            "[1]\n",
            "[1.0, 1840.0, 2.0, 1.0, 361.0, 1.0, 307.0, 6.0, 604.0, 1.0, 2.0, 418.0, 422.0, 7.0, 34.0, 41.0, 167.0, 742.0, 3.0, 112.0, 207.0, 3.0, 338.0, 424.0, 5.0, 26.0, 13.0, 235.0, 8.0, 693.0, 4.0]\n",
            "[1821.0, 167.0]\n",
            "Warning: parsing empty text\n",
            "Warning: parsing empty text\n",
            "[2.0, 2.0, 216.0, 3.0, 66.0, 4.0, 130.0]\n",
            "[29.0, 2.0, 241.0, 2.0, 332.0, 2.0, 422.0, 9.0, 112.0, 743.0, 9.0, 39.0, 14000]\n",
            "[1840.0]\n",
            "Warning: parsing empty text\n",
            "Warning: parsing empty text\n",
            "[744.0, 5.0, 182.0]\n",
            "[3.0, 368.0, 1.0, 397.0, 6.0, 604.0, 1, 1821.0, 167.0, 745.0]\n",
            "[4.0]\n",
            "[746.0]\n",
            "Warning: parsing empty text\n",
            "Warning: parsing empty text\n",
            "[4.0, 210.0, 46.0]\n",
            "[747.0]\n",
            "[5.0]\n",
            "[5.0, 740.0, 1843.0, 284.0]\n",
            "[2019.0]\n",
            "Warning: parsing empty text\n",
            "Warning: parsing empty text\n",
            "[9.0]\n",
            "[1.0]\n",
            "[55.0, 266.0, 271.0]\n",
            "[1876.0]\n",
            "[2.0]\n",
            "[47.0, 362.0, 376.0]\n",
            "[1872.0]\n",
            "[3.0]\n",
            "[45.0, 329.0, 334.0]\n",
            "[1871.0]\n",
            "[4.0]\n",
            "[31.0, 526.0, 527.0]\n",
            "[1858.0]\n",
            "[5.0]\n",
            "[21.0, 333.0, 335.0]\n",
            "[1852.0]\n",
            "[6.0]\n",
            "[8.0, 145.0, 147.0]\n",
            "[1857.0]\n",
            "[7.0]\n",
            "[65.0, 256.0, 258.0]\n",
            "[3]\n",
            "[1880.0]\n",
            "[8.0]\n",
            "[4.0, 913.0, 914.0]\n",
            "[1887.0]\n",
            "[9.0]\n",
            "[103.0, 464.0]\n",
            "[1936.0]\n",
            "Warning: parsing empty text\n",
            "Warning: parsing empty text\n",
            "[3.0]\n",
            "[1.0]\n",
            "[9.0, 39.0, 1828.0]\n",
            "[2.0]\n",
            "[2.0]\n",
            "[5.0, 182.0, 1837.0]\n",
            "Warning: parsing empty text\n",
            "Warning: parsing empty text\n",
            "[2.0]\n",
            "[3.0]\n",
            "[9.0, 108.0, 1812.0]\n",
            "[6, 1]\n",
            "[2.0]\n"
          ],
          "name": "stdout"
        }
      ]
    },
    {
      "cell_type": "code",
      "metadata": {
        "id": "ayLV-Jc1-Zo0",
        "colab_type": "code",
        "outputId": "f98aa6e1-a041-40f9-bb92-fedf36f1fa05",
        "colab": {
          "base_uri": "https://localhost:8080/",
          "height": 260
        }
      },
      "source": [
        "import lexnlp.extract.en.citations\n",
        "with open('/content/01-05-1  Adams v Tanner.txt', 'r') as f:\n",
        " for line in f:\n",
        "       y = line.split(\" \\n \")\n",
        "       citations = list(lexnlp.extract.en.citations.get_citations(line))\n",
        "       if len(citations)>0:\n",
        "           print(citations)"
      ],
      "execution_count": 0,
      "outputs": [
        {
          "output_type": "stream",
          "text": [
            "[(5, 'Ala.', 'Alabama Reports', 740, None, None, None)]\n",
            "[(5, 'Ala.', 'Alabama Reports', 740, '1843', None, None)]\n",
            "[(55, 'Ala.', 'Alabama Reports', 266, '271', None, None)]\n",
            "[(47, 'Ala.', 'Alabama Reports', 362, '376', None, None)]\n",
            "[(45, 'Ala.', 'Alabama Reports', 329, '334', None, None)]\n",
            "[(31, 'Ala.', 'Alabama Reports', 526, '527', None, None)]\n",
            "[(21, 'Ala.', 'Alabama Reports', 333, '335', None, None)]\n",
            "[(8, 'Cal.', 'California Reports', 145, '147', None, None)]\n",
            "[(65, 'Ala.', 'Alabama Reports', 256, '258', None, None)]\n",
            "[(4, 'S.W.', 'South Western Reporter', 913, '914', None, None)]\n",
            "[(103, 'A.L.R.', 'American Law Reports', 464, None, None, None)]\n",
            "[(9, 'Cow.', \"Cowen's Reports\", 39, None, None, None)]\n",
            "[(5, 'Port.', 'Alabama Reports, Porter', 182, None, None, None)]\n",
            "[(9, 'Johns.', \"Johnson's Reports\", 108, None, None, None)]\n"
          ],
          "name": "stdout"
        }
      ]
    },
    {
      "cell_type": "code",
      "metadata": {
        "id": "D-eCrDvI-Zcg",
        "colab_type": "code",
        "outputId": "c0a01493-7eaf-4614-b0da-c0d2a4c8b92b",
        "colab": {
          "base_uri": "https://localhost:8080/",
          "height": 35
        }
      },
      "source": [
        "import lexnlp.extract.en.entities.nltk_re\n",
        "\n",
        "with open('/content/01-05-1  Adams v Tanner.txt', 'r') as f:\n",
        " for line in f:\n",
        "       y = line.split(\" \\n \")\n",
        "       companies = list(lexnlp.extract.en.entities.nltk_re.get_companies(line))\n",
        "       if len(companies)>0:\n",
        "          print(companies)"
      ],
      "execution_count": 0,
      "outputs": [
        {
          "output_type": "stream",
          "text": [
            "[Lehman, Durr Co, (4, 22)]\n"
          ],
          "name": "stdout"
        }
      ]
    },
    {
      "cell_type": "code",
      "metadata": {
        "id": "DtmKTM7O-ZP2",
        "colab_type": "code",
        "outputId": "9514566e-fb4a-4483-e9b9-a9f1946e8529",
        "colab": {
          "base_uri": "https://localhost:8080/",
          "height": 349
        }
      },
      "source": [
        "import lexnlp.extract.en.conditions\n",
        "with open('/content/01-05-1  Adams v Tanner.txt', 'r') as f:\n",
        " for line in f:\n",
        "       y = line.split(\" \\n \")\n",
        "       conditions = list(lexnlp.extract.en.conditions.get_conditions(line))\n",
        "       if len(conditions)>0:\n",
        "          print(conditions)"
      ],
      "execution_count": 0,
      "outputs": [
        {
          "output_type": "stream",
          "text": [
            "[('until', 'Under St.1821, prohibiting a levy on a crop', ''), ('until', 'on a growing crop, nor does such lien attach', '')]\n",
            "[('if', 'It was proved by the claimants, by the production of a written contract, that Harrison, on the twenty-second of May, 1840, in consideration that the claimants were involved, as indorsers for Burton & Harrison of Sumter county, and were then exposed to an execution, amounting to upwards of fourteen thousand dollars, bargained and sold to the claimants all his growing crop of cotton &c., consisting of one hundred and twenty acres, &c. Allen Harrison promised and obliged himself to give up his crop to the use of the claimants at any time to save them from suffering as his indorsers;', ''), ('when', 'The claimants came from Tennessee, (where they resided) about the first of September, 1840, bringing with them three or four white laborers, and took possession of the crop and slaves, and with the latter, and white laborers, gathered the cotton, prepared it for market, and', '')]\n",
            "[('if', 'The court charged the jury, that the plaintiff had no lien by virtue of his judgment, and execution on the growing crop; that Harrison had a right to convey it, without being in any manner restrained by them; that the writing adduced, was a sale of the crop, but', ''), ('when', 'it was not, and the lien of the fieri facias would have attached upon it,', ''), ('if', 'gathered, yet', ''), ('not subject to', 'the claimants obtained possession on the first of September, and controlled the gathering of the crop, then no lien attached, and it was', '')]\n",
            "[('until', 'Rep, 693;] and', '')]\n",
            "[('until', '167,] which declares it to be lawful to levy an execution on a planted crop,', '')]\n",
            "[('if', 'It is admitted that the contract between the defendant in execution, and the claimants, was in good faith,', '')]\n",
            "[('when', 'The defendant in execution might at any time have divested the interest which the contract vested in the claimants, by discharging their liability as his indorsers, or a judgment creditor might have satisfied the lien, and', '')]\n",
            "[('unless', 'We will then consider the writing under which the claimants assert a right, as a mortgage with a power to take possession any time during the year,', '')]\n",
            "[('if', 'Conceding the truth of the facts stated in the bill of exceptions, and we think it will not follow, that the possession of the claimants is a nullity, and that the case must be considered as', ''), ('if', 'The contract contains an express undertaking to give up the crop at any time the claimants might require it for their indemnity, and', ''), ('if', 'they took possession of it in the absence of the grantor, (though without his consent,)', ''), ('if', 'he subsequently acquiesced in it, the inference would be,', '')]\n",
            "[('subject to', 'Mr. Dane, in remarking upon this point, says, “The American editor of Bacon’s Abridgment, says, ‘Wheat growing in the ground is a chattel, and', ''), ('until', 'The first section of the act of 1821, “To prevent sheriffs and other officers from levying executions in certain cases, enacts, that “It shall not be lawful for any sheriff or other officer, to levy a writ of fieri facias or other execution on the planted crop of a debtor, or person against whom an execution may issue,', ''), ('until', 'Now here is an express inhibition to levy an execution on a crop while it remains on, or in the ground, and', ''), ('until', 'If so, the act cited, will only have the effect of keeping the right to levy it in abeyance', ''), ('if', 'The lien and the right to levy are intimately connected, and', ''), ('until', 'That it was competent for the legislature to have made it unlawful to levy an execution on particular property,', ''), ('until', 'If the object was merely to suspend the sale,', ''), ('as soon as', 'The idea that the lien attached upon the planted crop', ''), ('until', 'the execution was delivered to the sheriff, though the right to levy it was postponed', ''), ('if', 'They do not refer to the lien,', ''), ('until', 'they did they would postpone it', ''), ('until', 'the crop was gathered; but it is the levy they relate to and postpone', '')]\n",
            "[('until', '**4 The right to levy an execution on a planted crop, then, being expressly taken away by the statute, the lien which is connected with and consequent upon that right, never attaches', '')]\n",
            "[('if', 'The circuit judge may have mistaken the law in supposing that the contract was a sale, but', ''), ('when', 'There is no assumption of any material fact in the charge; but the possession of the claimant, the time', ''), ('if', 'acquired, the gathering of the crop, &c., are all referred to the determination of the jury; who are instructed,', '')]\n",
            "[('until', '**4 The statute which presents the question before the court is, that “it shall not be lawful for any sheriff or other officer to levy a writ of fieei facias or other execution, on the planted crop of a debtor, or person against whom an execution may issue,', '')]\n",
            "[('subject to', 'The policy of the State, as indicated by these statutes, is undeniably that all the property of a debtor, real and personal, to which he has a legal title, shall be', ''), ('until', 'The mischief which the statute designed to remedy was, the sacrifice which would be necessarily made by the sale of an immature crop: the statute enables the debtor to retain it', '')]\n",
            "[('if', '**5', ''), ('until', 'The sheriff is forbidden to levy on a “planted crop”', ''), ('if', 'Now,', ''), ('until', 'This, I feel a thorough conviction, was not the intention of the legislature; but that it was to secure him from loss, by prohibiting a levy and sale of the crop,', ''), ('when', 'it was gathered,', '')]\n",
            "[('subject to', 'Growing crops as', '')]\n",
            "[('subject to', 'Generally, at common law, growing crops raised by annual planting, while still attached to the soil, are regarded as personal chattels,', '')]\n",
            "[('where', 'And', '')]\n"
          ],
          "name": "stdout"
        }
      ]
    },
    {
      "cell_type": "code",
      "metadata": {
        "id": "Uhi4PeKA-ZAO",
        "colab_type": "code",
        "outputId": "72c007bb-24e9-4585-d185-888076fd34e1",
        "colab": {
          "base_uri": "https://localhost:8080/",
          "height": 280
        }
      },
      "source": [
        "import lexnlp.extract.en.constraints\n",
        "with open('/content/01-05-1  Adams v Tanner.txt', 'r') as f:\n",
        " for line in f:\n",
        "       y = line.split(\" \\n \")\n",
        "       contraints = list(lexnlp.extract.en.constraints.get_constraints(line))\n",
        "       if len(contraints)>0:\n",
        "          print(contraints)"
      ],
      "execution_count": 0,
      "outputs": [
        {
          "output_type": "stream",
          "text": [
            "[('after', 'on a growing crop, nor does such lien attach until', '')]\n",
            "[('after', '', ' and that alias and pluries fieri facias’, issued regularly up to the time levy was made; that the cotton levied on was growed on the plantation of harrison, and cultivated by the hands in his service.'), ('first of', 'the claimants came from tennessee, (where they resided) about the', '')]\n",
            "[('first of', 'the court charged the jury, that the plaintiff had no lien by virtue of his judgment, and execution on the growing crop; that harrison had a right to convey it, without being in any manner restrained by them; that the writing adduced, was a sale of the crop, but if it was not, and the lien of the fieri facias would have attached upon it, when gathered, yet if the claimants obtained possession on the', '')]\n",
            "[('after', 'it merely inhibits the levy, but the lien attaches, and a levy and sale may be made', '')]\n",
            "[('more than', 'taking this to be clear *744 law, and it will be seen, that the defendant in execution at the time of the levy had nothing', '')]\n",
            "[('before', 'it has been frequently mooted whether, at common law, corn, &c.,', '')]\n",
            "[('before', '**4 the statute which presents the question', '')]\n",
            "[('after', 'now, if the view taken by the majority of the court, is correct, the right secured to the plaintiff in execution, of levying on the crop', '')]\n",
            "[('before', 'tried', '')]\n",
            "[('before', 'tried', '')]\n",
            "[('before', 'tried', '')]\n",
            "[('before', 'tried', '')]\n",
            "[('before', 'tried', '')]\n",
            "[('before', 'tried', '')]\n"
          ],
          "name": "stdout"
        }
      ]
    },
    {
      "cell_type": "code",
      "metadata": {
        "id": "-EoxWKdZDqD2",
        "colab_type": "code",
        "outputId": "225962dd-c9c4-4b48-95cd-5673618fea71",
        "colab": {
          "base_uri": "https://localhost:8080/",
          "height": 35
        }
      },
      "source": [
        "import lexnlp.extract.en.copyright\n",
        "with open('/content/01-05-1  Adams v Tanner.txt', 'r') as f:\n",
        " for line in f:\n",
        "       y = line.split(\" \\n \")\n",
        "       copyrights = list(lexnlp.extract.en.copyright.get_copyright(line))\n",
        "       if len(copyrights)>0:\n",
        "          print(copyrights)"
      ],
      "execution_count": 0,
      "outputs": [
        {
          "output_type": "stream",
          "text": [
            "[('©', '2019', 'Thomson Reuters. No')]\n"
          ],
          "name": "stdout"
        }
      ]
    },
    {
      "cell_type": "code",
      "metadata": {
        "id": "o06rrPYTDpwP",
        "colab_type": "code",
        "outputId": "6d7c3e9d-99b7-4f81-e13f-11ef51b4a58c",
        "colab": {
          "base_uri": "https://localhost:8080/",
          "height": 72
        }
      },
      "source": [
        "# Load court configuration data automatically from LexPredict legal dictionaries\n",
        "#!pip install lexnlp\n",
        "import pandas\n",
        "import lexnlp.extract.en.courts\n",
        "from lexnlp.extract.en.dict_entities import entity_config\n",
        "\n",
        "#text = \"To be heard in either E.D. Va. or S.D.N.Y.\"\n",
        "court_df = pandas.read_csv(\"https://raw.githubusercontent.com/LexPredict/lexpredict-legal-dictionary/1.0.5/en/legal/us_courts.csv\")\n",
        "#create config objects\n",
        "court_config_data = []\n",
        "for _, row in court_df.iterrows():\n",
        "  c = entity_config(row[\"Court ID\"], row[\"Court Name\"], 0, row[\"Alias\"].split(\";\") if not pandas.isnull(row[\"Alias\"]) else [])\n",
        " #court_config_data.append(c)\n",
        "\n",
        "court_config_data = [entity_config(0, \"Supreme Court of Alabama\", 0, [\"S.C.O.A Al.\"]),\n",
        "                     entity_config(1, \"Western District of Virginia\", 0, [\"W.D. Va.\"])]\n",
        "with open('/content/01-05-1  Adams v Tanner.txt', 'r') as f:\n",
        "    for line in f:\n",
        "        y = line.split(\" \\n \")\n",
        "        for entity, alias in lexnlp.extract.en.courts.get_courts(line, court_config_data):\n",
        "          print(\"entity=\", entity)\n",
        "          print(\"alias=\", alias)\n"
      ],
      "execution_count": 0,
      "outputs": [
        {
          "output_type": "stream",
          "text": [
            "entity= (0, 'Supreme Court of Alabama', 0, [('Supreme Court of Alabama', None, False, None, ' supreme court of alabama '), ('S.C.O.A Al.', None, False, None, ' s . c . o . a al . ')])\n",
            "alias= ('Supreme Court of Alabama', None, False, None, ' supreme court of alabama ')\n"
          ],
          "name": "stdout"
        }
      ]
    },
    {
      "cell_type": "code",
      "metadata": {
        "id": "wBVVb4DbDpd5",
        "colab_type": "code",
        "outputId": "cea0d212-b389-4ff3-adb7-d7f7d5351278",
        "colab": {
          "base_uri": "https://localhost:8080/",
          "height": 35
        }
      },
      "source": [
        "import lexnlp.extract.en.cusip\n",
        "\n",
        "with open('/content/01-05-1  Adams v Tanner.txt', 'r') as f:\n",
        "    for line in f:\n",
        "        y = line.split(\" \\n \")\n",
        "        cusipNum =list(lexnlp.extract.en.cusip.get_cusip(line))\n",
        "        if len(cusipNum)>0:\n",
        "           print(cusipNum)\n",
        "    print(\"None\")"
      ],
      "execution_count": 0,
      "outputs": [
        {
          "output_type": "stream",
          "text": [
            "None\n"
          ],
          "name": "stdout"
        }
      ]
    },
    {
      "cell_type": "code",
      "metadata": {
        "id": "_xhMKXvf2C1J",
        "colab_type": "code",
        "outputId": "cfcd1bc4-47b6-4212-e4e2-f738d6166837",
        "colab": {
          "base_uri": "https://localhost:8080/",
          "height": 104
        }
      },
      "source": [
        "import lexnlp.extract.en.dates\n",
        "\n",
        "\n",
        "with open('/content/01-05-1  Adams v Tanner.txt', 'r') as f:\n",
        "    for line in f:\n",
        "        y = line.split(\" \\n \")\n",
        "        dts =list(lexnlp.extract.en.dates.get_dates(line))\n",
        "        if len(dts)>0:\n",
        "           print(dts)\n",
        "   "
      ],
      "execution_count": 0,
      "outputs": [
        {
          "output_type": "stream",
          "text": [
            "[datetime.date(1840, 11, 1), datetime.date(1839, 10, 1), datetime.date(1840, 5, 1), datetime.date(1840, 9, 1)]\n",
            "[datetime.date(1840, 5, 1)]\n",
            "[datetime.date(1840, 5, 1)]\n",
            "[datetime.date(2020, 12, 1)]\n",
            "[datetime.date(1887, 5, 1)]\n"
          ],
          "name": "stdout"
        }
      ]
    },
    {
      "cell_type": "code",
      "metadata": {
        "id": "1fkcsC1_2CeW",
        "colab_type": "code",
        "outputId": "02446c9d-7af4-4682-812e-6862b355f53d",
        "colab": {
          "base_uri": "https://localhost:8080/",
          "height": 35
        }
      },
      "source": [
        "import lexnlp.extract.en.definitions\n",
        "\n",
        "with open('/content/01-05-1  Adams v Tanner.txt', 'r') as f:\n",
        "    for line in f:\n",
        "        y = line.split(\" \\n \")\n",
        "        definition =list(lexnlp.extract.en.definitions.get_definitions(line))\n",
        "        if len(definition)>0:\n",
        "           print(definition)\n",
        "    print(\"None\")"
      ],
      "execution_count": 0,
      "outputs": [
        {
          "output_type": "stream",
          "text": [
            "None\n"
          ],
          "name": "stdout"
        }
      ]
    },
    {
      "cell_type": "code",
      "metadata": {
        "id": "FYGTx8fkZLjf",
        "colab_type": "code",
        "outputId": "fe907892-41d2-4718-e3e8-1b95dfae851c",
        "colab": {
          "base_uri": "https://localhost:8080/",
          "height": 35
        }
      },
      "source": [
        "import lexnlp.extract.en.distances\n",
        "distances_list=[]\n",
        "with open('/content/01-05-1  Adams v Tanner.txt', 'r') as f:\n",
        "    for line in f:\n",
        "        y = line.split(\" \\n \")\n",
        "        dist =list(lexnlp.extract.en.distances.get_distances(line))\n",
        "        if len(dist)>0:\n",
        "           distances_list.append(dist)\n",
        "if len(distances_list) == 0:\n",
        "  print(None)\n",
        "else:\n",
        "  print(distances_list)            \n"
      ],
      "execution_count": 0,
      "outputs": [
        {
          "output_type": "stream",
          "text": [
            "None\n"
          ],
          "name": "stdout"
        }
      ]
    },
    {
      "cell_type": "code",
      "metadata": {
        "id": "aJPv9K-WZLWa",
        "colab_type": "code",
        "outputId": "8d6fadf4-dc64-44c4-b8eb-24a0beea8144",
        "colab": {
          "base_uri": "https://localhost:8080/",
          "height": 52
        }
      },
      "source": [
        "import lexnlp.extract.en.durations\n",
        "with open('/content/01-05-1  Adams v Tanner.txt', 'r') as f:\n",
        "    for line in f:\n",
        "        y = line.split(\" \\n \")\n",
        "        durations =list(lexnlp.extract.en.durations.get_durations(line))\n",
        "        if len(durations)>0:\n",
        "           print(durations)\n"
      ],
      "execution_count": 0,
      "outputs": [
        {
          "output_type": "stream",
          "text": [
            "[('second', 20.0, 0.00023148148148148146)]\n",
            "[('year', 6.0, 2190.0)]\n"
          ],
          "name": "stdout"
        }
      ]
    },
    {
      "cell_type": "code",
      "metadata": {
        "id": "DhpFt4DlZLLj",
        "colab_type": "code",
        "outputId": "f394e6fc-60e3-48bd-859c-6944c36dd416",
        "colab": {
          "base_uri": "https://localhost:8080/",
          "height": 69
        }
      },
      "source": [
        "\n",
        "# https://pandas.pydata.org/pandas-docs/stable/reference/api/pandas.DataFrame.itertuples.html\n",
        "# https://github.com/LexPredict/lexpredict-lexnlp/blob/master/test_data/lexnlp/extract/en/tests/test_geoentities/geoentities.csv\n",
        "#!pip install lexnlp\n",
        "import lexnlp\n",
        "import os\n",
        "from lexnlp.extract.common.base_path import lexnlp_test_path\n",
        "from lexnlp.extract.en.dict_entities import get_entity_name, \\\n",
        "    prepare_alias_blacklist_dict\n",
        "from lexnlp.extract.en.geoentities import get_geoentities, load_entities_dict_by_path\n",
        "import pandas\n",
        "import lexnlp.extract.en.courts\n",
        "from lexnlp.extract.en.dict_entities import entity_config\n",
        "\n",
        "\n",
        "geoentities_df = pandas.read_csv(\"/content/geoentities.csv\",encoding=\"ISO-8859-1\",error_bad_lines=False)\n",
        "# Create config objects\n",
        "geoentities_config_data = []\n",
        "\n",
        "for row in geoentities_df.itertuples(index=True, name='Pandas'):\n",
        "  c = entity_config(row[2],row[3])\n",
        "  geoentities_config_data.append(c)\n",
        "\n",
        "\n",
        "with open('/content/01-05-1  Adams v Tanner.txt', 'r') as f:\n",
        "    for line in f:\n",
        "        y = line.split(\" \\n \")\n",
        "        dur =list(lexnlp.extract.en.geoentities.get_geoentities(line,geoentities_config_data))\n",
        "        if len(dur)>0:\n",
        "           print(dur)"
      ],
      "execution_count": 0,
      "outputs": [
        {
          "output_type": "stream",
          "text": [
            "[((254, 'Alabama', 0, [('Alabama', None, False, None, ' alabama ')]), ('Alabama', None, False, None, ' alabama '))]\n",
            "[((296, 'Tennessee', 0, [('Tennessee', None, False, None, ' tennessee ')]), ('Tennessee', None, False, None, ' tennessee '))]\n",
            "[((240, 'United States', 0, [('United States', None, False, None, ' united states ')]), ('United States', None, False, None, ' united states '))]\n"
          ],
          "name": "stdout"
        }
      ]
    },
    {
      "cell_type": "code",
      "metadata": {
        "id": "XASyDSTlZK6I",
        "colab_type": "code",
        "outputId": "9207b10c-37a6-47e2-b510-fc4475c10efe",
        "colab": {
          "base_uri": "https://localhost:8080/",
          "height": 52
        }
      },
      "source": [
        "import lexnlp.extract.en.money\n",
        "with open('/content/01-05-1  Adams v Tanner.txt', 'r') as f:\n",
        "    for line in f:\n",
        "        y = line.split(\" \\n \")\n",
        "        money = list(lexnlp.extract.en.money.get_money(line))\n",
        "        if len(money)>0:\n",
        "           print(money)"
      ],
      "execution_count": 0,
      "outputs": [
        {
          "output_type": "stream",
          "text": [
            "[(100.0, 'USD'), (14000, 'USD')]\n",
            "[(14000, 'USD')]\n"
          ],
          "name": "stdout"
        }
      ]
    },
    {
      "cell_type": "code",
      "metadata": {
        "id": "nE8zi54ZZK2x",
        "colab_type": "code",
        "outputId": "84728b4e-a47b-4d3d-bfdf-259412cd3e6e",
        "colab": {
          "base_uri": "https://localhost:8080/",
          "height": 35
        }
      },
      "source": [
        "import lexnlp.extract.en.percents\n",
        "percents_list=[]\n",
        "with open('/content/01-05-1  Adams v Tanner.txt', 'r') as f:\n",
        "    for line in f:\n",
        "        y = line.split(\" \\n \")\n",
        "        percent = list(lexnlp.extract.en.percents.get_percents(line))\n",
        "        if len(percent)>0:\n",
        "           percents_list.append(percent)\n",
        "if len(percents_list) == 0:\n",
        "  print(None)\n",
        "else:\n",
        "  print(percents_list)         "
      ],
      "execution_count": 0,
      "outputs": [
        {
          "output_type": "stream",
          "text": [
            "None\n"
          ],
          "name": "stdout"
        }
      ]
    },
    {
      "cell_type": "code",
      "metadata": {
        "id": "IhDHCGWZZKl4",
        "colab_type": "code",
        "outputId": "3c913a10-a127-4b72-ac3c-14b10268e4f8",
        "colab": {
          "base_uri": "https://localhost:8080/",
          "height": 35
        }
      },
      "source": [
        "import lexnlp.extract.en.pii\n",
        "phone_numlist=[]\n",
        "with open('/content/01-05-1  Adams v Tanner.txt', 'r') as f:\n",
        "    for line in f:\n",
        "        y = line.split(\" \\n \")\n",
        "        phone = list(lexnlp.extract.en.pii.get_pii(line))\n",
        "        if len(phone)>0:\n",
        "           phone_numlist.append(phone)\n",
        "if len(phone_numlist) == 0:\n",
        "  print(None)\n",
        "else:\n",
        "  print(phone_numlist)    "
      ],
      "execution_count": 0,
      "outputs": [
        {
          "output_type": "stream",
          "text": [
            "None\n"
          ],
          "name": "stdout"
        }
      ]
    },
    {
      "cell_type": "code",
      "metadata": {
        "id": "OhUwvE0BZKOp",
        "colab_type": "code",
        "outputId": "26722cf6-66d7-4dce-e179-04c89ee18a5d",
        "colab": {
          "base_uri": "https://localhost:8080/",
          "height": 35
        }
      },
      "source": [
        "\n",
        "import lexnlp.extract.en.ratios\n",
        "ratio_list=[]\n",
        "with open('/content/01-05-1  Adams v Tanner.txt', 'r') as f:\n",
        "    for line in f:\n",
        "        y = line.split(\" \\n \")\n",
        "        ratio = list(lexnlp.extract.en.ratios.get_ratios(line))\n",
        "        if len(ratio)>0:\n",
        "           ratio_list.append(ratio)\n",
        "if len(ratio_list) == 0:\n",
        "  print(None)\n",
        "else:\n",
        "  print(ratio_list)"
      ],
      "execution_count": 0,
      "outputs": [
        {
          "output_type": "stream",
          "text": [
            "None\n"
          ],
          "name": "stdout"
        }
      ]
    },
    {
      "cell_type": "code",
      "metadata": {
        "id": "vMp9a36EZJ0F",
        "colab_type": "code",
        "outputId": "bf8fca6f-03c9-4ae0-98e9-2c23f8e34f46",
        "colab": {
          "base_uri": "https://localhost:8080/",
          "height": 35
        }
      },
      "source": [
        "import lexnlp.extract.en.regulations\n",
        "regulations_list=[]\n",
        "with open('/content/01-05-1  Adams v Tanner.txt', 'r') as f:\n",
        "    for line in f:\n",
        "        y = line.split(\" \\n \")\n",
        "        regulations = list(lexnlp.extract.en.regulations.get_regulations(line))\n",
        "        if len(regulations)>0:\n",
        "           regulations_list.append(regulations)\n",
        "if len(regulations_list) == 0:\n",
        "  print(None)\n",
        "else:\n",
        "  print(regulations_list)"
      ],
      "execution_count": 0,
      "outputs": [
        {
          "output_type": "stream",
          "text": [
            "None\n"
          ],
          "name": "stdout"
        }
      ]
    },
    {
      "cell_type": "code",
      "metadata": {
        "id": "H5krPcP1j1Cu",
        "colab_type": "code",
        "outputId": "c121272f-a42d-4c4c-80bb-97c76776293a",
        "colab": {
          "base_uri": "https://localhost:8080/",
          "height": 35
        }
      },
      "source": [
        "# !pip install lexnlp\n",
        " import lexnlp.extract.en.trademarks\n",
        " trademarks_list=[]\n",
        " with open('/content/01-05-1  Adams v Tanner.txt', 'r') as f:\n",
        "    for line in f:\n",
        "        y = line.split(\" \\n \")\n",
        "        trademark = list(lexnlp.extract.en.trademarks.get_trademarks(line))\n",
        "        if len(trademark)>0:\n",
        "          trademarks_list.append(trademark)\n",
        "if len(trademarks_list) == 0:\n",
        "  print(None)\n",
        "else:\n",
        "  print(trademarks_list)"
      ],
      "execution_count": 0,
      "outputs": [
        {
          "output_type": "stream",
          "text": [
            "None\n"
          ],
          "name": "stdout"
        }
      ]
    },
    {
      "cell_type": "code",
      "metadata": {
        "id": "o7lhLH_Lj02n",
        "colab_type": "code",
        "outputId": "ab36541c-ca50-48de-d2cc-7e48ac9ac2e6",
        "colab": {
          "base_uri": "https://localhost:8080/",
          "height": 35
        }
      },
      "source": [
        "import lexnlp.extract.en.urls\n",
        "urls_list=[]\n",
        "with open('/content/01-05-1  Adams v Tanner.txt', 'r') as f:\n",
        "    for line in f:\n",
        "        y = line.split(\" \\n \")\n",
        "        urls = list(lexnlp.extract.en.urls.get_urls(line))\n",
        "        if len(urls)>0:\n",
        "           urls_list.append(urls)\n",
        "if len(urls_list) == 0:\n",
        "  print(None)\n",
        "else:\n",
        "  print(urls_list)"
      ],
      "execution_count": 0,
      "outputs": [
        {
          "output_type": "stream",
          "text": [
            "None\n"
          ],
          "name": "stdout"
        }
      ]
    },
    {
      "cell_type": "code",
      "metadata": {
        "id": "_KYRHe88j0mO",
        "colab_type": "code",
        "outputId": "45d90991-fa2e-4d9b-aa74-74b4c16cf8b9",
        "colab": {
          "base_uri": "https://localhost:8080/",
          "height": 52
        }
      },
      "source": [
        "!pip install pyap\n",
        "import re\n",
        "import pyap\n",
        "from pyap import utils\n",
        "from pyap.packages import six\n",
        "import pyap.source_US.data as data_us\n",
        "\n",
        "address_list=[]\n",
        "with open('/content/01-05-1  Adams v Tanner.txt', 'r') as f:\n",
        "    for line in f:\n",
        "        y = line.split(\" \\n \")\n",
        "        address = pyap.parse(line, country='US')\n",
        "        if address:    #Checking if address is not empty and adding to address list\n",
        "          address_list.append(address)\n",
        "if len(address_list) == 0:\n",
        "  print(\"No addresses found\")\n",
        "else:\n",
        "  print(address_list)"
      ],
      "execution_count": 0,
      "outputs": [
        {
          "output_type": "stream",
          "text": [
            "Requirement already satisfied: pyap in /usr/local/lib/python3.6/dist-packages (0.2.0)\n",
            "No addresses found\n"
          ],
          "name": "stdout"
        }
      ]
    },
    {
      "cell_type": "code",
      "metadata": {
        "id": "Ne9Fxz7Rj0WW",
        "colab_type": "code",
        "outputId": "0ba910c3-6ffd-4794-abef-9e167eff62de",
        "colab": {
          "base_uri": "https://localhost:8080/",
          "height": 55
        }
      },
      "source": [
        "import spacy\n",
        "import re\n",
        "\n",
        "nlp = spacy.load(\"en_core_web_sm\")\n",
        "persons_names =[]\n",
        "#persons_names =set()\n",
        "\n",
        "with open('/content/01-05-1  Adams v Tanner.txt', 'r') as f:\n",
        "    for line in f:\n",
        "        y = line.split(\" \\n \")\n",
        "        doc = nlp(line)\n",
        "        for ent in doc.ents:\n",
        "          if(ent.label_ == 'PERSON'):\n",
        "              numArray = re.findall(r'[0-9]+', ent.text) #Checking if name found contains numbers, then to remove that\n",
        "              if(len(numArray) == 0):\n",
        "                persons_names.append(ent.text)\n",
        "\n",
        "persons_names = list( dict.fromkeys(persons_names)) #Removing duplicate names\n",
        "print((persons_names))"
      ],
      "execution_count": 0,
      "outputs": [
        {
          "output_type": "stream",
          "text": [
            "['Lien', 'Allen Harrison', 'Harrison', 'R. H. SMITH', 'Chit', 'Con', 'W. M. MURPHY', 'W. G. JONES', 'C. J.\\n', 'Chitty on Con', 'Stewart', 'Doughty', 'Austin', 'Sawyer', 'Perkins', 'Mayfield', 'Dane', 'Wheat', 'Hurtell', 'Booker', 'M. J. SAFFOLD', 'Marshall', 'JOHN D. CUNNINGHAM', 'McKenzie', 'S. D. HALE', 'Evans', 'A. B. MOORE', 'Bowman', 'Jacob S. Cohen', 'Cohen', 'Jul Term', 'L. WHITLOCK', 'W.']\n"
          ],
          "name": "stdout"
        }
      ]
    }
  ]
}