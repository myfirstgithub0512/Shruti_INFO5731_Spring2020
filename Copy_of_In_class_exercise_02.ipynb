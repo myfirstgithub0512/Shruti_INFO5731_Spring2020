{
  "nbformat": 4,
  "nbformat_minor": 0,
  "metadata": {
    "colab": {
      "name": "Copy of In_class_exercise_02.ipynb",
      "provenance": [],
      "collapsed_sections": [],
      "include_colab_link": true
    },
    "kernelspec": {
      "name": "python3",
      "display_name": "Python 3"
    }
  },
  "cells": [
    {
      "cell_type": "markdown",
      "metadata": {
        "id": "view-in-github",
        "colab_type": "text"
      },
      "source": [
        "<a href=\"https://colab.research.google.com/github/myfirstgithub0512/Shruti_INFO5731_Spring2020/blob/master/Copy_of_In_class_exercise_02.ipynb\" target=\"_parent\"><img src=\"https://colab.research.google.com/assets/colab-badge.svg\" alt=\"Open In Colab\"/></a>"
      ]
    },
    {
      "cell_type": "markdown",
      "metadata": {
        "id": "oo5bsEh2eeWi",
        "colab_type": "text"
      },
      "source": [
        "# **The second In-class-exercise**\n"
      ]
    },
    {
      "cell_type": "markdown",
      "metadata": {
        "id": "2sPQ58dIeqgp",
        "colab_type": "text"
      },
      "source": [
        "(1) Write a Python program to find the duplicate elements in a given array of integers. Return -1 If there are no such elements."
      ]
    },
    {
      "cell_type": "code",
      "metadata": {
        "id": "mnrvKMFTeoJR",
        "colab_type": "code",
        "outputId": "de654b8f-2c77-455b-a598-1dae7c736143",
        "colab": {
          "base_uri": "https://localhost:8080/",
          "height": 35
        }
      },
      "source": [
        "def checkduplicate(a):\n",
        "  duplicates = []\n",
        "  for e in range(0,len(a)):\n",
        "    for f in range(e+1,len(a)):\n",
        "      if(a[e]==a[f] and a[e] not in duplicates):\n",
        "        duplicates.append(a[e])\n",
        "  if(len(duplicates) > 0):\n",
        "   return(duplicates)\n",
        "  else:\n",
        "   print (-1)\n",
        "\n",
        "#a = [80,86,86,15,15,60,60]\n",
        "a = [34,44,54]\n",
        "\n",
        "checkduplicate(a)\n",
        "\n",
        "\n"
      ],
      "execution_count": 0,
      "outputs": [
        {
          "output_type": "stream",
          "text": [
            "-1\n"
          ],
          "name": "stdout"
        }
      ]
    },
    {
      "cell_type": "markdown",
      "metadata": {
        "id": "YYrH6n6IhZoQ",
        "colab_type": "text"
      },
      "source": [
        "(2) Write a Python program to select all the Sundays of a specified year.\n",
        "\n"
      ]
    },
    {
      "cell_type": "code",
      "metadata": {
        "id": "OSfPLd23eLpX",
        "colab_type": "code",
        "outputId": "9546bc20-5167-4f0e-9253-d69c9da9f82a",
        "colab": {
          "base_uri": "https://localhost:8080/",
          "height": 919
        }
      },
      "source": [
        "from datetime import date, timedelta\n",
        "def all_sunday(year):\n",
        "# January 1st of the given year\n",
        "   dt = date(year,1,1) \n",
        "# First Sunday of the given year\n",
        "   dt += timedelta(days =6 -dt.weekday())\n",
        "   while dt.year == year:\n",
        "     yield dt\n",
        "     dt += timedelta(days = 7)\n",
        "for sun in all_sunday(2020):\n",
        "    print(sun)\n",
        "\n",
        "\n",
        "\n",
        "\n"
      ],
      "execution_count": 0,
      "outputs": [
        {
          "output_type": "stream",
          "text": [
            "2020-01-05\n",
            "2020-01-12\n",
            "2020-01-19\n",
            "2020-01-26\n",
            "2020-02-02\n",
            "2020-02-09\n",
            "2020-02-16\n",
            "2020-02-23\n",
            "2020-03-01\n",
            "2020-03-08\n",
            "2020-03-15\n",
            "2020-03-22\n",
            "2020-03-29\n",
            "2020-04-05\n",
            "2020-04-12\n",
            "2020-04-19\n",
            "2020-04-26\n",
            "2020-05-03\n",
            "2020-05-10\n",
            "2020-05-17\n",
            "2020-05-24\n",
            "2020-05-31\n",
            "2020-06-07\n",
            "2020-06-14\n",
            "2020-06-21\n",
            "2020-06-28\n",
            "2020-07-05\n",
            "2020-07-12\n",
            "2020-07-19\n",
            "2020-07-26\n",
            "2020-08-02\n",
            "2020-08-09\n",
            "2020-08-16\n",
            "2020-08-23\n",
            "2020-08-30\n",
            "2020-09-06\n",
            "2020-09-13\n",
            "2020-09-20\n",
            "2020-09-27\n",
            "2020-10-04\n",
            "2020-10-11\n",
            "2020-10-18\n",
            "2020-10-25\n",
            "2020-11-01\n",
            "2020-11-08\n",
            "2020-11-15\n",
            "2020-11-22\n",
            "2020-11-29\n",
            "2020-12-06\n",
            "2020-12-13\n",
            "2020-12-20\n",
            "2020-12-27\n"
          ],
          "name": "stdout"
        }
      ]
    },
    {
      "cell_type": "markdown",
      "metadata": {
        "id": "UIpziZ6Sjie-",
        "colab_type": "text"
      },
      "source": [
        "(3) Python files reading and writing. Download the “[exercise_02_data _collection.zip](https://github.com/unt-iialab/INFO5731_Spring2020/blob/master/In_class_exercise/exercise_02_data_collection.zip)” to your local and un-zip it.\n",
        "\n",
        "*   Write a program to read all the txt files and save the sentences in all the files into one csv file with two columns, the first column is sentence id (txt file name+sentence line number), the second column is the sentence text content.\n",
        "*   Remove all the punctuations from the sentences, save the processed sentences into a new column in the same csv file.\n",
        "*   Ask the user to enter a word, return all the sentences that include this word, three kinds of information should be returned: sentence id, sentence text content, the count that user input word appear in the sentence..\n",
        "\n"
      ]
    },
    {
      "cell_type": "code",
      "metadata": {
        "id": "f3CUsrWOj1Xy",
        "colab_type": "code",
        "outputId": "667e6e01-a35e-4821-b6eb-328607a13113",
        "colab": {
          "base_uri": "https://localhost:8080/",
          "height": 245
        }
      },
      "source": [
        "from google.colab import files\n",
        "\n",
        "#uploadingFiles =files.upload()\n",
        "i =0\n",
        "for i in range(1,100):\n",
        "  filehandle =open('ARTHROTEC.'+str(i)+'.txt')\n",
        "while True:\n",
        "    # read a single line\n",
        "    line = filehandle.readline()\n",
        "    if not line:\n",
        "        break\n",
        "    print(line)\n",
        "\n",
        "# close the pointer to that file\n",
        "filehandle.close()\n",
        "\n"
      ],
      "execution_count": 0,
      "outputs": [
        {
          "output_type": "stream",
          "text": [
            "If I take the pill on an empty stomach I get a very faint sensation of queasiness .\n",
            "\n",
            "almost to faint to notice.\n",
            "\n",
            "However, I also get diarrhoea at least twice a day.\n",
            "\n",
            "There are no gas pains and no other symptoms, so it's inconvenient more than anything else.\n",
            "\n",
            "When I am on holiday at the coast I am pain free, mostly, so don't take any Arthrotec, but when I get back to a drier climate the pain is severe, so Arthrotec is very important to me and my quality of life.\n",
            "\n",
            "It also allows me to sleep.\n",
            "\n"
          ],
          "name": "stdout"
        }
      ]
    },
    {
      "cell_type": "markdown",
      "metadata": {
        "id": "-12cqmJEpZOh",
        "colab_type": "text"
      },
      "source": [
        "(4) Install packages nltk, numpy, scipy, pandas, and sklearn on Google Colab. Write a program to test whether they are installed successfully. "
      ]
    },
    {
      "cell_type": "code",
      "metadata": {
        "id": "f1pn1Zl2qK77",
        "colab_type": "code",
        "outputId": "736679ac-3872-467b-91f7-e342187696f1",
        "colab": {
          "base_uri": "https://localhost:8080/",
          "height": 35
        }
      },
      "source": [
        "#%pip install nltk\n",
        "#%pip install numpy\n",
        "#%pip install scipy\n",
        "#%pip install pandas\n",
        "#%pip install sklearn\n",
        "\n",
        "# Testing if nltk is installed successfully\n",
        "#import nltk\n",
        "\n",
        "#nltk.download()\n",
        "#sentence = \"I am working in Google Colab.\"\n",
        "#frequencyDist =nltk.FreqDist()\n",
        "#for i in nltk.word_tokenize(sentence):\n",
        "#      frequencyDist[i.lower()] += 1\n",
        "#print(frequencyDist)\n",
        "\n",
        "#Testing if numpy is working\n",
        "import numpy as np\n",
        "\n",
        "#my_multidimensional_array = [[1,2,3], [4,5,6], [7,8,9]]\n",
        "#np.array(my_multidimensional_array)\n",
        "\n",
        "#Testing if scipy is working\n",
        "#import scipy\n",
        "\n",
        "#exp =scipy.exp([3,50])\n",
        "\n",
        "#Testing if pandas are working\n",
        "#import pandas as pd\n",
        "\n",
        "#data = {\n",
        "#    'Test 1 Scores': [90, 92, 89, 100], \n",
        "#    'Test 2 Scores': [89, 87, 95, 94]\n",
        "#}\n",
        "\n",
        "#scores =pd.DataFrame(data)\n",
        "#scores\n",
        "\n",
        "#Testing if sklearn is working\n",
        "\n",
        "import sklearn\n",
        "# Loading a dataset called digits\n",
        "digits= datasets.load_digits()\n",
        "# Print shape of data to confirm data is loaded\n",
        "print(digits.data.shape)\n",
        "\n",
        "\n",
        "\n",
        "\n",
        "\n",
        "\n",
        "\n",
        "\n"
      ],
      "execution_count": 0,
      "outputs": [
        {
          "output_type": "stream",
          "text": [
            "(1797, 64)\n"
          ],
          "name": "stdout"
        }
      ]
    }
  ]
}