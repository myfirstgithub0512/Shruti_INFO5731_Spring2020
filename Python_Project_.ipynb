{
  "nbformat": 4,
  "nbformat_minor": 0,
  "metadata": {
    "colab": {
      "name": "Python Project .ipynb",
      "provenance": [],
      "collapsed_sections": [],
      "authorship_tag": "ABX9TyP9lC4FV3HycE1Okao5JswB",
      "include_colab_link": true
    },
    "kernelspec": {
      "name": "python3",
      "display_name": "Python 3"
    }
  },
  "cells": [
    {
      "cell_type": "markdown",
      "metadata": {
        "id": "view-in-github",
        "colab_type": "text"
      },
      "source": [
        "<a href=\"https://colab.research.google.com/github/myfirstgithub0512/Shruti_INFO5731_Spring2020/blob/master/Python_Project_.ipynb\" target=\"_parent\"><img src=\"https://colab.research.google.com/assets/colab-badge.svg\" alt=\"Open In Colab\"/></a>"
      ]
    },
    {
      "cell_type": "code",
      "metadata": {
        "id": "PDsm6aAeA1r-",
        "colab_type": "code",
        "outputId": "39385555-8a35-4f65-9e1e-e024a6839bc9",
        "colab": {
          "base_uri": "https://localhost:8080/",
          "height": 398
        }
      },
      "source": [
        "#https://link.springer.com/article/10.1007/BF03392791\n",
        "###### Install these three for refextract ######\n",
        "#!pip install refextract\n",
        "#!pip install python-magic==0.4.15\n",
        "#!apt-get install libmagic-dev\n",
        "#https://stackoverflow.com/questions/56677215/error-in-trying-to-install-use-python-magic-in-google-colab\n",
        "################################################\n",
        "\n",
        "#!pip uninstall python-magic\n",
        "#!pip install python-magic-bin==0.4.14\n",
        "#!pip install python-libmagic\n",
        "#!brew install libmagic\n",
        "#!pip show python-magic\n",
        "#!pip install python-magic\n",
        "\n",
        "import magic\n",
        "import os.path\n",
        "from pathlib import Path\n",
        "from refextract import extract_references_from_file\n",
        "\n",
        "path=Path(\"/content/Vol-3-n-2-127-138.pdf\")\n",
        "print(path)\n",
        "print(os.path.basename(path))\n",
        "reference = extract_references_from_file(path)\n",
        "print(references[0])"
      ],
      "execution_count": 0,
      "outputs": [
        {
          "output_type": "stream",
          "text": [
            "/content/Vol-3-n-2-127-138.pdf\n",
            "Vol-3-n-2-127-138.pdf\n"
          ],
          "name": "stdout"
        },
        {
          "output_type": "error",
          "ename": "ArgumentError",
          "evalue": "ignored",
          "traceback": [
            "\u001b[0;31m---------------------------------------------------------------------------\u001b[0m",
            "\u001b[0;31mArgumentError\u001b[0m                             Traceback (most recent call last)",
            "\u001b[0;32m<ipython-input-95-73350f36e1d8>\u001b[0m in \u001b[0;36m<module>\u001b[0;34m()\u001b[0m\n\u001b[1;32m      8\u001b[0m \u001b[0mprint\u001b[0m\u001b[0;34m(\u001b[0m\u001b[0mpath\u001b[0m\u001b[0;34m)\u001b[0m\u001b[0;34m\u001b[0m\u001b[0;34m\u001b[0m\u001b[0m\n\u001b[1;32m      9\u001b[0m \u001b[0mprint\u001b[0m\u001b[0;34m(\u001b[0m\u001b[0mos\u001b[0m\u001b[0;34m.\u001b[0m\u001b[0mpath\u001b[0m\u001b[0;34m.\u001b[0m\u001b[0mbasename\u001b[0m\u001b[0;34m(\u001b[0m\u001b[0mpath\u001b[0m\u001b[0;34m)\u001b[0m\u001b[0;34m)\u001b[0m\u001b[0;34m\u001b[0m\u001b[0;34m\u001b[0m\u001b[0m\n\u001b[0;32m---> 10\u001b[0;31m \u001b[0mreference\u001b[0m \u001b[0;34m=\u001b[0m \u001b[0mextract_references_from_file\u001b[0m\u001b[0;34m(\u001b[0m\u001b[0mpath\u001b[0m\u001b[0;34m)\u001b[0m\u001b[0;34m\u001b[0m\u001b[0;34m\u001b[0m\u001b[0m\n\u001b[0m\u001b[1;32m     11\u001b[0m \u001b[0mprint\u001b[0m\u001b[0;34m(\u001b[0m\u001b[0mreferences\u001b[0m\u001b[0;34m[\u001b[0m\u001b[0;36m0\u001b[0m\u001b[0;34m]\u001b[0m\u001b[0;34m)\u001b[0m\u001b[0;34m\u001b[0m\u001b[0;34m\u001b[0m\u001b[0m\n",
            "\u001b[0;32m/usr/local/lib/python3.6/dist-packages/refextract/references/api.py\u001b[0m in \u001b[0;36mextract_references_from_file\u001b[0;34m(path, recid, reference_format, linker_callback, override_kbs_files)\u001b[0m\n\u001b[1;32m    126\u001b[0m         \u001b[0;32mraise\u001b[0m \u001b[0mFullTextNotAvailableError\u001b[0m\u001b[0;34m(\u001b[0m\u001b[0;34mu\"File not found: '{0}'\"\u001b[0m\u001b[0;34m.\u001b[0m\u001b[0mformat\u001b[0m\u001b[0;34m(\u001b[0m\u001b[0mpath\u001b[0m\u001b[0;34m)\u001b[0m\u001b[0;34m)\u001b[0m\u001b[0;34m\u001b[0m\u001b[0;34m\u001b[0m\u001b[0m\n\u001b[1;32m    127\u001b[0m \u001b[0;34m\u001b[0m\u001b[0m\n\u001b[0;32m--> 128\u001b[0;31m     \u001b[0mdocbody\u001b[0m \u001b[0;34m=\u001b[0m \u001b[0mget_plaintext_document_body\u001b[0m\u001b[0;34m(\u001b[0m\u001b[0mpath\u001b[0m\u001b[0;34m)\u001b[0m\u001b[0;34m\u001b[0m\u001b[0;34m\u001b[0m\u001b[0m\n\u001b[0m\u001b[1;32m    129\u001b[0m     \u001b[0mreflines\u001b[0m\u001b[0;34m,\u001b[0m \u001b[0mdummy\u001b[0m\u001b[0;34m,\u001b[0m \u001b[0mdummy\u001b[0m \u001b[0;34m=\u001b[0m \u001b[0mextract_references_from_fulltext\u001b[0m\u001b[0;34m(\u001b[0m\u001b[0mdocbody\u001b[0m\u001b[0;34m)\u001b[0m\u001b[0;34m\u001b[0m\u001b[0;34m\u001b[0m\u001b[0m\n\u001b[1;32m    130\u001b[0m     \u001b[0;32mif\u001b[0m \u001b[0;32mnot\u001b[0m \u001b[0mreflines\u001b[0m\u001b[0;34m:\u001b[0m\u001b[0;34m\u001b[0m\u001b[0;34m\u001b[0m\u001b[0m\n",
            "\u001b[0;32m/usr/local/lib/python3.6/dist-packages/refextract/references/engine.py\u001b[0m in \u001b[0;36mget_plaintext_document_body\u001b[0;34m(fpath, keep_layout)\u001b[0m\n\u001b[1;32m   1392\u001b[0m     \"\"\"\n\u001b[1;32m   1393\u001b[0m     \u001b[0mtextbody\u001b[0m \u001b[0;34m=\u001b[0m \u001b[0;34m[\u001b[0m\u001b[0;34m]\u001b[0m\u001b[0;34m\u001b[0m\u001b[0;34m\u001b[0m\u001b[0m\n\u001b[0;32m-> 1394\u001b[0;31m     \u001b[0mmime_type\u001b[0m \u001b[0;34m=\u001b[0m \u001b[0mmagic\u001b[0m\u001b[0;34m.\u001b[0m\u001b[0mfrom_file\u001b[0m\u001b[0;34m(\u001b[0m\u001b[0mfpath\u001b[0m\u001b[0;34m,\u001b[0m \u001b[0mmime\u001b[0m\u001b[0;34m=\u001b[0m\u001b[0;32mTrue\u001b[0m\u001b[0;34m)\u001b[0m\u001b[0;34m\u001b[0m\u001b[0;34m\u001b[0m\u001b[0m\n\u001b[0m\u001b[1;32m   1395\u001b[0m \u001b[0;34m\u001b[0m\u001b[0m\n\u001b[1;32m   1396\u001b[0m     \u001b[0;32mif\u001b[0m \u001b[0mmime_type\u001b[0m \u001b[0;34m==\u001b[0m \u001b[0;34m\"text/plain\"\u001b[0m\u001b[0;34m:\u001b[0m\u001b[0;34m\u001b[0m\u001b[0;34m\u001b[0m\u001b[0m\n",
            "\u001b[0;32m/usr/local/lib/python3.6/dist-packages/magic.py\u001b[0m in \u001b[0;36mfrom_file\u001b[0;34m(filename, mime)\u001b[0m\n\u001b[1;32m    134\u001b[0m     \"\"\"\n\u001b[1;32m    135\u001b[0m     \u001b[0mm\u001b[0m \u001b[0;34m=\u001b[0m \u001b[0m_get_magic_type\u001b[0m\u001b[0;34m(\u001b[0m\u001b[0mmime\u001b[0m\u001b[0;34m)\u001b[0m\u001b[0;34m\u001b[0m\u001b[0;34m\u001b[0m\u001b[0m\n\u001b[0;32m--> 136\u001b[0;31m     \u001b[0;32mreturn\u001b[0m \u001b[0mm\u001b[0m\u001b[0;34m.\u001b[0m\u001b[0mfrom_file\u001b[0m\u001b[0;34m(\u001b[0m\u001b[0mfilename\u001b[0m\u001b[0;34m)\u001b[0m\u001b[0;34m\u001b[0m\u001b[0;34m\u001b[0m\u001b[0m\n\u001b[0m\u001b[1;32m    137\u001b[0m \u001b[0;34m\u001b[0m\u001b[0m\n\u001b[1;32m    138\u001b[0m \u001b[0;32mdef\u001b[0m \u001b[0mfrom_buffer\u001b[0m\u001b[0;34m(\u001b[0m\u001b[0mbuffer\u001b[0m\u001b[0;34m,\u001b[0m \u001b[0mmime\u001b[0m\u001b[0;34m=\u001b[0m\u001b[0;32mFalse\u001b[0m\u001b[0;34m)\u001b[0m\u001b[0;34m:\u001b[0m\u001b[0;34m\u001b[0m\u001b[0;34m\u001b[0m\u001b[0m\n",
            "\u001b[0;32m/usr/local/lib/python3.6/dist-packages/magic.py\u001b[0m in \u001b[0;36mfrom_file\u001b[0;34m(self, filename)\u001b[0m\n\u001b[1;32m     88\u001b[0m         \u001b[0;32mwith\u001b[0m \u001b[0mself\u001b[0m\u001b[0;34m.\u001b[0m\u001b[0mlock\u001b[0m\u001b[0;34m:\u001b[0m\u001b[0;34m\u001b[0m\u001b[0;34m\u001b[0m\u001b[0m\n\u001b[1;32m     89\u001b[0m             \u001b[0;32mtry\u001b[0m\u001b[0;34m:\u001b[0m\u001b[0;34m\u001b[0m\u001b[0;34m\u001b[0m\u001b[0m\n\u001b[0;32m---> 90\u001b[0;31m                 \u001b[0;32mreturn\u001b[0m \u001b[0mmaybe_decode\u001b[0m\u001b[0;34m(\u001b[0m\u001b[0mmagic_file\u001b[0m\u001b[0;34m(\u001b[0m\u001b[0mself\u001b[0m\u001b[0;34m.\u001b[0m\u001b[0mcookie\u001b[0m\u001b[0;34m,\u001b[0m \u001b[0mfilename\u001b[0m\u001b[0;34m)\u001b[0m\u001b[0;34m)\u001b[0m\u001b[0;34m\u001b[0m\u001b[0;34m\u001b[0m\u001b[0m\n\u001b[0m\u001b[1;32m     91\u001b[0m             \u001b[0;32mexcept\u001b[0m \u001b[0mMagicException\u001b[0m \u001b[0;32mas\u001b[0m \u001b[0me\u001b[0m\u001b[0;34m:\u001b[0m\u001b[0;34m\u001b[0m\u001b[0;34m\u001b[0m\u001b[0m\n\u001b[1;32m     92\u001b[0m                 \u001b[0;32mreturn\u001b[0m \u001b[0mself\u001b[0m\u001b[0;34m.\u001b[0m\u001b[0m_handle509Bug\u001b[0m\u001b[0;34m(\u001b[0m\u001b[0me\u001b[0m\u001b[0;34m)\u001b[0m\u001b[0;34m\u001b[0m\u001b[0;34m\u001b[0m\u001b[0m\n",
            "\u001b[0;32m/usr/local/lib/python3.6/dist-packages/magic.py\u001b[0m in \u001b[0;36mmagic_file\u001b[0;34m(cookie, filename)\u001b[0m\n\u001b[1;32m    245\u001b[0m \u001b[0;34m\u001b[0m\u001b[0m\n\u001b[1;32m    246\u001b[0m \u001b[0;32mdef\u001b[0m \u001b[0mmagic_file\u001b[0m\u001b[0;34m(\u001b[0m\u001b[0mcookie\u001b[0m\u001b[0;34m,\u001b[0m \u001b[0mfilename\u001b[0m\u001b[0;34m)\u001b[0m\u001b[0;34m:\u001b[0m\u001b[0;34m\u001b[0m\u001b[0;34m\u001b[0m\u001b[0m\n\u001b[0;32m--> 247\u001b[0;31m     \u001b[0;32mreturn\u001b[0m \u001b[0m_magic_file\u001b[0m\u001b[0;34m(\u001b[0m\u001b[0mcookie\u001b[0m\u001b[0;34m,\u001b[0m \u001b[0mcoerce_filename\u001b[0m\u001b[0;34m(\u001b[0m\u001b[0mfilename\u001b[0m\u001b[0;34m)\u001b[0m\u001b[0;34m)\u001b[0m\u001b[0;34m\u001b[0m\u001b[0;34m\u001b[0m\u001b[0m\n\u001b[0m\u001b[1;32m    248\u001b[0m \u001b[0;34m\u001b[0m\u001b[0m\n\u001b[1;32m    249\u001b[0m \u001b[0m_magic_buffer\u001b[0m \u001b[0;34m=\u001b[0m \u001b[0mlibmagic\u001b[0m\u001b[0;34m.\u001b[0m\u001b[0mmagic_buffer\u001b[0m\u001b[0;34m\u001b[0m\u001b[0;34m\u001b[0m\u001b[0m\n",
            "\u001b[0;31mArgumentError\u001b[0m: argument 2: <class 'TypeError'>: wrong type"
          ]
        }
      ]
    },
    {
      "cell_type": "code",
      "metadata": {
        "id": "wTcPd1d8PEKk",
        "colab_type": "code",
        "outputId": "70142198-926a-46d3-cd9b-c18a5a0d46f7",
        "colab": {
          "base_uri": "https://localhost:8080/",
          "height": 124
        }
      },
      "source": [
        "import urllib.request\n",
        "import re\n",
        "from bs4 import BeautifulSoup\n",
        "\n",
        "homepage =(\" https://link.springer.com/article/10.1007/BF03392791\")\n",
        "with urllib.request.urlopen(homepage) as f:\n",
        " webpage = f.read()\n",
        " soup = BeautifulSoup(webpage)\n",
        " #print(soup)\n",
        "\n",
        " week = soup.find(id=\"Bib1-section\")\n",
        " print(week)\n",
        " #period_tags = week.select(\".data-container-section\")\n",
        "\n",
        " #r = week.find_all(class_=\"c-article-references\")\n",
        " #c-article-section__content\n",
        " #print(r)\n",
        "\n",
        " #periods_names = soup.find(class_ =\"c-article-references\").get_text()\n",
        "\n",
        "\n",
        "########################################\n",
        "##periods_names = soup.find(class_ =\"c-article-references\").get_text()\n",
        "#print(periods_names)\n",
        "\n",
        "import pandas as pd\n",
        "weather = pd.DataFrame(\n",
        "    {'periods': periods_names\n",
        "     },index=[0])\n",
        "#print(weather)\n",
        "weather.to_csv('weather_report.csv')\n",
        "\n",
        "\n",
        "\n",
        "\n",
        "#periods_citation = soup.find(data_=\"references\").get_text()\n",
        "#print(periods_citation)\n",
        "########################################################\n",
        " "
      ],
      "execution_count": 0,
      "outputs": [
        {
          "output_type": "stream",
          "text": [
            "<div class=\"c-article-section\" id=\"Bib1-section\"><h2 class=\"c-article-section__title u-h2 js-section-title js-c-reading-companion-sections-item\" id=\"Bib1\">References</h2><div class=\"c-article-section__content\" id=\"Bib1-content\"><div data-container-section=\"references\"><ol class=\"c-article-references\"><li class=\"c-article-references__item js-c-reading-companion-references-item\" itemprop=\"citation\" itemscope=\"itemscope\" itemtype=\"http://schema.org/ScholarlyArticle\"><meta content=\"J. Michael, \" itemprop=\"author\"/><meta content=\"1982\" itemprop=\"datePublished\"/><meta content=\"Michael, J. (1982). Distinguishing between discriminative and motivational functions of stimuli. Journal of th\" itemprop=\"headline\"/><p class=\"c-article-references__text\" id=\"ref-CR1\">Michael, J. (1982). Distinguishing between discriminative and motivational functions of stimuli. <i>Journal of the Experimental Analysis of Behavior</i>, <i>37</i>, 149–155.</p><ul class=\"c-article-references__links u-hide-print\"><li><a aria-label=\"View reference 1\" data-track=\"click\" data-track-action=\"outbound reference\" data-track-category=\"article body\" data-track-label=\"link\" href=\"https://doi.org/10.1901%2Fjeab.1982.37-149\">Article</a></li><li><a aria-label=\"View reference 1 on PubMed\" data-track=\"click\" data-track-action=\"outbound reference\" data-track-category=\"article body\" data-track-label=\"link\" href=\"http://www.ncbi.nlm.nih.gov/entrez/query.fcgi?cmd=Retrieve&amp;db=PubMed&amp;dopt=Abstract&amp;list_uids=7057126\" rel=\"nofollow\">PubMed</a></li><li><a aria-label=\"View reference 1 on PubMed Central\" data-track=\"click\" data-track-action=\"outbound reference\" data-track-category=\"article body\" data-track-label=\"link\" href=\"http://www.ncbi.nlm.nih.gov/pmc/articles/PMC1333126\" rel=\"nofollow\">PubMed Central</a></li><li><a aria-label=\"Search for reference 1 on Google Scholar\" data-track=\"click\" data-track-action=\"outbound reference\" data-track-category=\"article body\" data-track-label=\"link\" href=\"http://scholar.google.com/scholar_lookup?&amp;title=Distinguishing%20between%20discriminative%20and%20motivational%20functions%20of%20stimuli&amp;journal=Journal%20of%20the%20Experimental%20Analysis%20of%20Behavior&amp;volume=37&amp;pages=149-155&amp;publication_year=1982&amp;author=Michael%2CJ\">\n",
            "                        Google Scholar</a></li></ul></li><li class=\"c-article-references__item js-c-reading-companion-references-item\" itemprop=\"citation\" itemscope=\"itemscope\" itemtype=\"http://schema.org/Book\"><meta content=\"BF. Skinner, \" itemprop=\"author\"/><meta content=\"1957\" itemprop=\"datePublished\"/><meta content=\"Skinner, B. F. (1957). Verbal behavior. New York: Appleton-Century-Crofts.\" itemprop=\"headline\"/><p class=\"c-article-references__text\" id=\"ref-CR2\">Skinner, B. F. (1957). <i>Verbal behavior</i>. New York: Appleton-Century-Crofts.</p><ul class=\"c-article-references__links u-hide-print\"><li><a aria-label=\"Search for reference 2 on Google Scholar\" data-track=\"click\" data-track-action=\"outbound reference\" data-track-category=\"article body\" data-track-label=\"link\" href=\"http://scholar.google.com/scholar_lookup?&amp;title=Verbal%20behavior&amp;publication_year=1957&amp;author=Skinner%2CBF\">\n",
            "                        Google Scholar</a></li></ul></li><li class=\"c-article-references__item js-c-reading-companion-references-item\" itemprop=\"citation\" itemscope=\"itemscope\" itemtype=\"http://schema.org/Book\"><meta content=\"WC. Stokoe, DC. Casterline, CG. Croneberg, \" itemprop=\"author\"/><meta content=\"1965\" itemprop=\"datePublished\"/><meta content=\"Stokoe, W. C., Casterline, D. C., &amp; Croneberg, C. G. (1965). A dictionary of American Sign Language on linguis\" itemprop=\"headline\"/><p class=\"c-article-references__text\" id=\"ref-CR3\">Stokoe, W. C., Casterline, D. C., &amp; Croneberg, C. G. (1965). <i>A dictionary of American Sign Language on linguistic principles</i>. Washington: Gallaudet College Press.</p><ul class=\"c-article-references__links u-hide-print\"><li><a aria-label=\"Search for reference 3 on Google Scholar\" data-track=\"click\" data-track-action=\"outbound reference\" data-track-category=\"article body\" data-track-label=\"link\" href=\"http://scholar.google.com/scholar_lookup?&amp;title=A%20dictionary%20of%20American%20Sign%20Language%20on%20linguistic%20principles&amp;publication_year=1965&amp;author=Stokoe%2CWC&amp;author=Casterline%2CDC&amp;author=Croneberg%2CCG\">\n",
            "                        Google Scholar</a></li></ul></li><li class=\"c-article-references__item js-c-reading-companion-references-item\" itemprop=\"citation\" itemscope=\"itemscope\" itemtype=\"http://schema.org/ScholarlyArticle\"><meta content=\"EA. Vargas, \" itemprop=\"author\"/><meta content=\"1982\" itemprop=\"datePublished\"/><meta content=\"Vargas, E. A. (1982). Intraverbal behavior: The codic, duplic, and sequelic subtypes. The Analysis of Verbal B\" itemprop=\"headline\"/><p class=\"c-article-references__text\" id=\"ref-CR4\">Vargas, E. A. (1982). Intraverbal behavior: The codic, duplic, and sequelic subtypes. <i>The Analysis of Verbal Behavior</i>, <i>1</i>, 5–7.</p><ul class=\"c-article-references__links u-hide-print\"><li><a aria-label=\"Search for reference 4 on Google Scholar\" data-track=\"click\" data-track-action=\"outbound reference\" data-track-category=\"article body\" data-track-label=\"link\" href=\"http://scholar.google.com/scholar_lookup?&amp;title=Intraverbal%20behavior%3A%20The%20codic%2C%20duplic%2C%20and%20sequelic%20subtypes&amp;journal=The%20Analysis%20of%20Verbal%20Behavior&amp;volume=1&amp;pages=5-7&amp;publication_year=1982&amp;author=Vargas%2CEA\">\n",
            "                        Google Scholar</a></li></ul></li></ol><p class=\"c-article-references__download u-hide-print\"><a data-track=\"click\" data-track-action=\"download citation references\" data-track-category=\"article body\" data-track-label=\"link\" href=\"/article/10.1007/BF03392791-references.ris\">Download references<svg class=\"u-icon\" height=\"16\" width=\"16\"><use xlink:href=\"#global-icon-download\" xmlns:xlink=\"http://www.w3.org/1999/xlink\"></use></svg></a></p></div></div></div>\n"
          ],
          "name": "stdout"
        }
      ]
    },
    {
      "cell_type": "code",
      "metadata": {
        "id": "FXRX65pqQIQO",
        "colab_type": "code",
        "outputId": "d474a0c9-001f-40a7-c471-c548cc944332",
        "colab": {
          "base_uri": "https://localhost:8080/",
          "height": 401
        }
      },
      "source": [
        "#!pip install pdfplumber\n",
        "#!pip install pdfminer\n",
        "import requests\n",
        "import pdfminer\n",
        "import pdfplumber\n",
        "import pandas as pd\n",
        "def download_file(url):\n",
        "    local_filename = url.split(\"/\")[-1]\n",
        "\n",
        "    with requests.get(url)as r:\n",
        "      with open (local_filename, 'wb') as f: \n",
        "       f.write(r.content)\n",
        "    return local_filename\n",
        "\n",
        "ap_url = \"http://rmac-mx.org/wp-content/uploads/2013/06/Vol-3-n-2-127-138.pdf\"\n",
        "ap = download_file(ap_url)\n",
        "\n",
        "with pdfplumber.open(ap) as pdf:\n",
        "  page = pdf.pages[11]\n",
        "  text = page.extract_text()\n",
        "  print(text)\n",
        "\n",
        "\n",
        "\n"
      ],
      "execution_count": 0,
      "outputs": [
        {
          "output_type": "error",
          "ename": "PDFSyntaxError",
          "evalue": "ignored",
          "traceback": [
            "\u001b[0;31m---------------------------------------------------------------------------\u001b[0m",
            "\u001b[0;31mPDFSyntaxError\u001b[0m                            Traceback (most recent call last)",
            "\u001b[0;32m<ipython-input-99-4061888d4c44>\u001b[0m in \u001b[0;36m<module>\u001b[0;34m()\u001b[0m\n\u001b[1;32m     14\u001b[0m \u001b[0map\u001b[0m \u001b[0;34m=\u001b[0m \u001b[0mdownload_file\u001b[0m\u001b[0;34m(\u001b[0m\u001b[0map_url\u001b[0m\u001b[0;34m)\u001b[0m\u001b[0;34m\u001b[0m\u001b[0;34m\u001b[0m\u001b[0m\n\u001b[1;32m     15\u001b[0m \u001b[0;34m\u001b[0m\u001b[0m\n\u001b[0;32m---> 16\u001b[0;31m \u001b[0;32mwith\u001b[0m \u001b[0mpdfplumber\u001b[0m\u001b[0;34m.\u001b[0m\u001b[0mopen\u001b[0m\u001b[0;34m(\u001b[0m\u001b[0map\u001b[0m\u001b[0;34m)\u001b[0m \u001b[0;32mas\u001b[0m \u001b[0mpdf\u001b[0m\u001b[0;34m:\u001b[0m\u001b[0;34m\u001b[0m\u001b[0;34m\u001b[0m\u001b[0m\n\u001b[0m\u001b[1;32m     17\u001b[0m   \u001b[0mpage\u001b[0m \u001b[0;34m=\u001b[0m \u001b[0mpdf\u001b[0m\u001b[0;34m.\u001b[0m\u001b[0mpages\u001b[0m\u001b[0;34m[\u001b[0m\u001b[0;36m11\u001b[0m\u001b[0;34m]\u001b[0m\u001b[0;34m\u001b[0m\u001b[0;34m\u001b[0m\u001b[0m\n\u001b[1;32m     18\u001b[0m   \u001b[0mtext\u001b[0m \u001b[0;34m=\u001b[0m \u001b[0mpage\u001b[0m\u001b[0;34m.\u001b[0m\u001b[0mextract_text\u001b[0m\u001b[0;34m(\u001b[0m\u001b[0;34m)\u001b[0m\u001b[0;34m\u001b[0m\u001b[0;34m\u001b[0m\u001b[0m\n",
            "\u001b[0;32m/usr/local/lib/python3.6/dist-packages/pdfplumber/pdf.py\u001b[0m in \u001b[0;36mopen\u001b[0;34m(cls, path, **kwargs)\u001b[0m\n\u001b[1;32m     46\u001b[0m     \u001b[0;34m@\u001b[0m\u001b[0mclassmethod\u001b[0m\u001b[0;34m\u001b[0m\u001b[0;34m\u001b[0m\u001b[0m\n\u001b[1;32m     47\u001b[0m     \u001b[0;32mdef\u001b[0m \u001b[0mopen\u001b[0m\u001b[0;34m(\u001b[0m\u001b[0mcls\u001b[0m\u001b[0;34m,\u001b[0m \u001b[0mpath\u001b[0m\u001b[0;34m,\u001b[0m \u001b[0;34m**\u001b[0m\u001b[0mkwargs\u001b[0m\u001b[0;34m)\u001b[0m\u001b[0;34m:\u001b[0m\u001b[0;34m\u001b[0m\u001b[0;34m\u001b[0m\u001b[0m\n\u001b[0;32m---> 48\u001b[0;31m         \u001b[0;32mreturn\u001b[0m \u001b[0mcls\u001b[0m\u001b[0;34m(\u001b[0m\u001b[0mopen\u001b[0m\u001b[0;34m(\u001b[0m\u001b[0mpath\u001b[0m\u001b[0;34m,\u001b[0m \u001b[0;34m\"rb\"\u001b[0m\u001b[0;34m)\u001b[0m\u001b[0;34m,\u001b[0m \u001b[0;34m**\u001b[0m\u001b[0mkwargs\u001b[0m\u001b[0;34m)\u001b[0m\u001b[0;34m\u001b[0m\u001b[0;34m\u001b[0m\u001b[0m\n\u001b[0m\u001b[1;32m     49\u001b[0m \u001b[0;34m\u001b[0m\u001b[0m\n\u001b[1;32m     50\u001b[0m     \u001b[0;32mdef\u001b[0m \u001b[0mprocess_page\u001b[0m\u001b[0;34m(\u001b[0m\u001b[0mself\u001b[0m\u001b[0;34m,\u001b[0m \u001b[0mpage\u001b[0m\u001b[0;34m)\u001b[0m\u001b[0;34m:\u001b[0m\u001b[0;34m\u001b[0m\u001b[0;34m\u001b[0m\u001b[0m\n",
            "\u001b[0;32m/usr/local/lib/python3.6/dist-packages/pdfplumber/pdf.py\u001b[0m in \u001b[0;36m__init__\u001b[0;34m(self, stream, pages, laparams, precision, password)\u001b[0m\n\u001b[1;32m     26\u001b[0m         \u001b[0mself\u001b[0m\u001b[0;34m.\u001b[0m\u001b[0mprecision\u001b[0m \u001b[0;34m=\u001b[0m \u001b[0mprecision\u001b[0m\u001b[0;34m\u001b[0m\u001b[0;34m\u001b[0m\u001b[0m\n\u001b[1;32m     27\u001b[0m         \u001b[0mrsrcmgr\u001b[0m \u001b[0;34m=\u001b[0m \u001b[0mPDFResourceManager\u001b[0m\u001b[0;34m(\u001b[0m\u001b[0;34m)\u001b[0m\u001b[0;34m\u001b[0m\u001b[0;34m\u001b[0m\u001b[0m\n\u001b[0;32m---> 28\u001b[0;31m         \u001b[0mself\u001b[0m\u001b[0;34m.\u001b[0m\u001b[0mdoc\u001b[0m \u001b[0;34m=\u001b[0m \u001b[0mPDFDocument\u001b[0m\u001b[0;34m(\u001b[0m\u001b[0mPDFParser\u001b[0m\u001b[0;34m(\u001b[0m\u001b[0mstream\u001b[0m\u001b[0;34m)\u001b[0m\u001b[0;34m,\u001b[0m \u001b[0mpassword\u001b[0m \u001b[0;34m=\u001b[0m \u001b[0mpassword\u001b[0m\u001b[0;34m)\u001b[0m\u001b[0;34m\u001b[0m\u001b[0;34m\u001b[0m\u001b[0m\n\u001b[0m\u001b[1;32m     29\u001b[0m         \u001b[0mself\u001b[0m\u001b[0;34m.\u001b[0m\u001b[0mmetadata\u001b[0m \u001b[0;34m=\u001b[0m \u001b[0;34m{\u001b[0m\u001b[0;34m}\u001b[0m\u001b[0;34m\u001b[0m\u001b[0;34m\u001b[0m\u001b[0m\n\u001b[1;32m     30\u001b[0m         \u001b[0;32mfor\u001b[0m \u001b[0minfo\u001b[0m \u001b[0;32min\u001b[0m \u001b[0mself\u001b[0m\u001b[0;34m.\u001b[0m\u001b[0mdoc\u001b[0m\u001b[0;34m.\u001b[0m\u001b[0minfo\u001b[0m\u001b[0;34m:\u001b[0m\u001b[0;34m\u001b[0m\u001b[0;34m\u001b[0m\u001b[0m\n",
            "\u001b[0;32m/usr/local/lib/python3.6/dist-packages/pdfminer/pdfdocument.py\u001b[0m in \u001b[0;36m__init__\u001b[0;34m(self, parser, password, caching, fallback)\u001b[0m\n\u001b[1;32m    582\u001b[0m         \u001b[0;32melse\u001b[0m\u001b[0;34m:\u001b[0m\u001b[0;34m\u001b[0m\u001b[0;34m\u001b[0m\u001b[0m\n\u001b[1;32m    583\u001b[0m             \u001b[0;32mraise\u001b[0m \u001b[0mPDFSyntaxError\u001b[0m\u001b[0;34m(\u001b[0m\u001b[0;34m'No /Root object! - Is this really a PDF?'\u001b[0m\u001b[0;34m)\u001b[0m\u001b[0;34m\u001b[0m\u001b[0;34m\u001b[0m\u001b[0m\n\u001b[0;32m--> 584\u001b[0;31m         \u001b[0;32mif\u001b[0m \u001b[0mself\u001b[0m\u001b[0;34m.\u001b[0m\u001b[0mcatalog\u001b[0m\u001b[0;34m.\u001b[0m\u001b[0mget\u001b[0m\u001b[0;34m(\u001b[0m\u001b[0;34m'Type'\u001b[0m\u001b[0;34m)\u001b[0m \u001b[0;32mis\u001b[0m \u001b[0;32mnot\u001b[0m \u001b[0mLITERAL_CATALOG\u001b[0m\u001b[0;34m:\u001b[0m\u001b[0;34m\u001b[0m\u001b[0;34m\u001b[0m\u001b[0m\n\u001b[0m\u001b[1;32m    585\u001b[0m             \u001b[0;32mif\u001b[0m \u001b[0mSTRICT\u001b[0m\u001b[0;34m:\u001b[0m\u001b[0;34m\u001b[0m\u001b[0;34m\u001b[0m\u001b[0m\n\u001b[1;32m    586\u001b[0m                 \u001b[0;32mraise\u001b[0m \u001b[0mPDFSyntaxError\u001b[0m\u001b[0;34m(\u001b[0m\u001b[0;34m'Catalog not found!'\u001b[0m\u001b[0;34m)\u001b[0m\u001b[0;34m\u001b[0m\u001b[0;34m\u001b[0m\u001b[0m\n",
            "\u001b[0;31mPDFSyntaxError\u001b[0m: No /Root object! - Is this really a PDF?"
          ]
        }
      ]
    },
    {
      "cell_type": "code",
      "metadata": {
        "id": "T6kBnX08wgKS",
        "colab_type": "code",
        "outputId": "70703364-eb8b-4588-bdf9-0b853b4a3b4f",
        "colab": {
          "base_uri": "https://localhost:8080/",
          "height": 401
        }
      },
      "source": [
        "#!pip install pdfplumber\n",
        "#!pip install pdfminer\n",
        "import pdfplumber\n",
        "\n",
        "with pdfplumber.open(\"/content/Vol-3-n-2-127-138.pdf\") as pdf:\n",
        "    first_page = pdf.pages[0]\n",
        "\n",
        "import pdfplumber\n",
        "pdf = pdfplumber.open('/content/Vol-3-n-2-127-138.pdf')\n",
        "page = pdf.pages[0]\n",
        "print(page)\n",
        "text = page.extract_text()\n",
        "print(text)\n"
      ],
      "execution_count": 0,
      "outputs": [
        {
          "output_type": "error",
          "ename": "PDFSyntaxError",
          "evalue": "ignored",
          "traceback": [
            "\u001b[0;31m---------------------------------------------------------------------------\u001b[0m",
            "\u001b[0;31mPDFSyntaxError\u001b[0m                            Traceback (most recent call last)",
            "\u001b[0;32m<ipython-input-112-3a8ce9307954>\u001b[0m in \u001b[0;36m<module>\u001b[0;34m()\u001b[0m\n\u001b[1;32m      1\u001b[0m \u001b[0;32mimport\u001b[0m \u001b[0mpdfplumber\u001b[0m\u001b[0;34m\u001b[0m\u001b[0;34m\u001b[0m\u001b[0m\n\u001b[1;32m      2\u001b[0m \u001b[0;34m\u001b[0m\u001b[0m\n\u001b[0;32m----> 3\u001b[0;31m \u001b[0;32mwith\u001b[0m \u001b[0mpdfplumber\u001b[0m\u001b[0;34m.\u001b[0m\u001b[0mopen\u001b[0m\u001b[0;34m(\u001b[0m\u001b[0;34m\"/content/Vol-3-n-2-127-138.pdf\"\u001b[0m\u001b[0;34m)\u001b[0m \u001b[0;32mas\u001b[0m \u001b[0mpdf\u001b[0m\u001b[0;34m:\u001b[0m\u001b[0;34m\u001b[0m\u001b[0;34m\u001b[0m\u001b[0m\n\u001b[0m\u001b[1;32m      4\u001b[0m     \u001b[0mfirst_page\u001b[0m \u001b[0;34m=\u001b[0m \u001b[0mpdf\u001b[0m\u001b[0;34m.\u001b[0m\u001b[0mpages\u001b[0m\u001b[0;34m[\u001b[0m\u001b[0;36m0\u001b[0m\u001b[0;34m]\u001b[0m\u001b[0;34m\u001b[0m\u001b[0;34m\u001b[0m\u001b[0m\n\u001b[1;32m      5\u001b[0m \u001b[0;34m\u001b[0m\u001b[0m\n",
            "\u001b[0;32m/usr/local/lib/python3.6/dist-packages/pdfplumber/pdf.py\u001b[0m in \u001b[0;36mopen\u001b[0;34m(cls, path, **kwargs)\u001b[0m\n\u001b[1;32m     46\u001b[0m     \u001b[0;34m@\u001b[0m\u001b[0mclassmethod\u001b[0m\u001b[0;34m\u001b[0m\u001b[0;34m\u001b[0m\u001b[0m\n\u001b[1;32m     47\u001b[0m     \u001b[0;32mdef\u001b[0m \u001b[0mopen\u001b[0m\u001b[0;34m(\u001b[0m\u001b[0mcls\u001b[0m\u001b[0;34m,\u001b[0m \u001b[0mpath\u001b[0m\u001b[0;34m,\u001b[0m \u001b[0;34m**\u001b[0m\u001b[0mkwargs\u001b[0m\u001b[0;34m)\u001b[0m\u001b[0;34m:\u001b[0m\u001b[0;34m\u001b[0m\u001b[0;34m\u001b[0m\u001b[0m\n\u001b[0;32m---> 48\u001b[0;31m         \u001b[0;32mreturn\u001b[0m \u001b[0mcls\u001b[0m\u001b[0;34m(\u001b[0m\u001b[0mopen\u001b[0m\u001b[0;34m(\u001b[0m\u001b[0mpath\u001b[0m\u001b[0;34m,\u001b[0m \u001b[0;34m\"rb\"\u001b[0m\u001b[0;34m)\u001b[0m\u001b[0;34m,\u001b[0m \u001b[0;34m**\u001b[0m\u001b[0mkwargs\u001b[0m\u001b[0;34m)\u001b[0m\u001b[0;34m\u001b[0m\u001b[0;34m\u001b[0m\u001b[0m\n\u001b[0m\u001b[1;32m     49\u001b[0m \u001b[0;34m\u001b[0m\u001b[0m\n\u001b[1;32m     50\u001b[0m     \u001b[0;32mdef\u001b[0m \u001b[0mprocess_page\u001b[0m\u001b[0;34m(\u001b[0m\u001b[0mself\u001b[0m\u001b[0;34m,\u001b[0m \u001b[0mpage\u001b[0m\u001b[0;34m)\u001b[0m\u001b[0;34m:\u001b[0m\u001b[0;34m\u001b[0m\u001b[0;34m\u001b[0m\u001b[0m\n",
            "\u001b[0;32m/usr/local/lib/python3.6/dist-packages/pdfplumber/pdf.py\u001b[0m in \u001b[0;36m__init__\u001b[0;34m(self, stream, pages, laparams, precision, password)\u001b[0m\n\u001b[1;32m     26\u001b[0m         \u001b[0mself\u001b[0m\u001b[0;34m.\u001b[0m\u001b[0mprecision\u001b[0m \u001b[0;34m=\u001b[0m \u001b[0mprecision\u001b[0m\u001b[0;34m\u001b[0m\u001b[0;34m\u001b[0m\u001b[0m\n\u001b[1;32m     27\u001b[0m         \u001b[0mrsrcmgr\u001b[0m \u001b[0;34m=\u001b[0m \u001b[0mPDFResourceManager\u001b[0m\u001b[0;34m(\u001b[0m\u001b[0;34m)\u001b[0m\u001b[0;34m\u001b[0m\u001b[0;34m\u001b[0m\u001b[0m\n\u001b[0;32m---> 28\u001b[0;31m         \u001b[0mself\u001b[0m\u001b[0;34m.\u001b[0m\u001b[0mdoc\u001b[0m \u001b[0;34m=\u001b[0m \u001b[0mPDFDocument\u001b[0m\u001b[0;34m(\u001b[0m\u001b[0mPDFParser\u001b[0m\u001b[0;34m(\u001b[0m\u001b[0mstream\u001b[0m\u001b[0;34m)\u001b[0m\u001b[0;34m,\u001b[0m \u001b[0mpassword\u001b[0m \u001b[0;34m=\u001b[0m \u001b[0mpassword\u001b[0m\u001b[0;34m)\u001b[0m\u001b[0;34m\u001b[0m\u001b[0;34m\u001b[0m\u001b[0m\n\u001b[0m\u001b[1;32m     29\u001b[0m         \u001b[0mself\u001b[0m\u001b[0;34m.\u001b[0m\u001b[0mmetadata\u001b[0m \u001b[0;34m=\u001b[0m \u001b[0;34m{\u001b[0m\u001b[0;34m}\u001b[0m\u001b[0;34m\u001b[0m\u001b[0;34m\u001b[0m\u001b[0m\n\u001b[1;32m     30\u001b[0m         \u001b[0;32mfor\u001b[0m \u001b[0minfo\u001b[0m \u001b[0;32min\u001b[0m \u001b[0mself\u001b[0m\u001b[0;34m.\u001b[0m\u001b[0mdoc\u001b[0m\u001b[0;34m.\u001b[0m\u001b[0minfo\u001b[0m\u001b[0;34m:\u001b[0m\u001b[0;34m\u001b[0m\u001b[0;34m\u001b[0m\u001b[0m\n",
            "\u001b[0;32m/usr/local/lib/python3.6/dist-packages/pdfminer/pdfdocument.py\u001b[0m in \u001b[0;36m__init__\u001b[0;34m(self, parser, password, caching, fallback)\u001b[0m\n\u001b[1;32m    582\u001b[0m                 \u001b[0mself\u001b[0m\u001b[0;34m.\u001b[0m\u001b[0mcatalog\u001b[0m \u001b[0;34m=\u001b[0m \u001b[0mdict_value\u001b[0m\u001b[0;34m(\u001b[0m\u001b[0mtrailer\u001b[0m\u001b[0;34m[\u001b[0m\u001b[0;34m'Root'\u001b[0m\u001b[0;34m]\u001b[0m\u001b[0;34m)\u001b[0m\u001b[0;34m\u001b[0m\u001b[0;34m\u001b[0m\u001b[0m\n\u001b[1;32m    583\u001b[0m                 \u001b[0;32mbreak\u001b[0m\u001b[0;34m\u001b[0m\u001b[0;34m\u001b[0m\u001b[0m\n\u001b[0;32m--> 584\u001b[0;31m         \u001b[0;32melse\u001b[0m\u001b[0;34m:\u001b[0m\u001b[0;34m\u001b[0m\u001b[0;34m\u001b[0m\u001b[0m\n\u001b[0m\u001b[1;32m    585\u001b[0m             \u001b[0;32mraise\u001b[0m \u001b[0mPDFSyntaxError\u001b[0m\u001b[0;34m(\u001b[0m\u001b[0;34m'No /Root object! - Is this really a PDF?'\u001b[0m\u001b[0;34m)\u001b[0m\u001b[0;34m\u001b[0m\u001b[0;34m\u001b[0m\u001b[0m\n\u001b[1;32m    586\u001b[0m         \u001b[0;32mif\u001b[0m \u001b[0mself\u001b[0m\u001b[0;34m.\u001b[0m\u001b[0mcatalog\u001b[0m\u001b[0;34m.\u001b[0m\u001b[0mget\u001b[0m\u001b[0;34m(\u001b[0m\u001b[0;34m'Type'\u001b[0m\u001b[0;34m)\u001b[0m \u001b[0;32mis\u001b[0m \u001b[0;32mnot\u001b[0m \u001b[0mLITERAL_CATALOG\u001b[0m\u001b[0;34m:\u001b[0m\u001b[0;34m\u001b[0m\u001b[0;34m\u001b[0m\u001b[0m\n",
            "\u001b[0;31mPDFSyntaxError\u001b[0m: No /Root object! - Is this really a PDF?"
          ]
        }
      ]
    },
    {
      "cell_type": "code",
      "metadata": {
        "id": "3gIw9stnjs0e",
        "colab_type": "code",
        "outputId": "515c01b1-9cf3-49ba-e237-4c7a95f44b73",
        "colab": {
          "base_uri": "https://localhost:8080/",
          "height": 69
        }
      },
      "source": [
        "!pip install PyPDF2\n",
        "import PyPDF2\n",
        "s = open('diciembre 1977 N2.pdf','rb')\n",
        "reader = PyPDF2.PdfFileReader(s)\n",
        "page = reader.getPage(0)\n",
        "pagecontent = page.extractText()\n",
        "print(pagecontent)"
      ],
      "execution_count": 0,
      "outputs": [
        {
          "output_type": "stream",
          "text": [
            "Requirement already satisfied: PyPDF2 in /usr/local/lib/python3.6/dist-packages (1.26.0)\n",
            "\n"
          ],
          "name": "stdout"
        },
        {
          "output_type": "stream",
          "text": [
            "PdfReadWarning: Xref table not zero-indexed. ID numbers for objects will be corrected. [pdf.py:1736]\n"
          ],
          "name": "stderr"
        }
      ]
    },
    {
      "cell_type": "code",
      "metadata": {
        "id": "NJ7I7EiPnykA",
        "colab_type": "code",
        "outputId": "8e411631-6ef5-4784-ccaa-c3b97e57b925",
        "colab": {
          "base_uri": "https://localhost:8080/",
          "height": 69
        }
      },
      "source": [
        "!pip install PyPDF2\n",
        "import PyPDF2\n",
        "object = open(\"/content/diciembre 1977 N2.pdf\",\"rb\")\n",
        "reader = PyPDF2.PdfFileReader(object)\n",
        "page = reader.getPage(0)\n",
        "content = page.extractText()\n",
        "print(content)"
      ],
      "execution_count": 0,
      "outputs": [
        {
          "output_type": "stream",
          "text": [
            "Requirement already satisfied: PyPDF2 in /usr/local/lib/python3.6/dist-packages (1.26.0)\n",
            "\n"
          ],
          "name": "stdout"
        },
        {
          "output_type": "stream",
          "text": [
            "PdfReadWarning: Xref table not zero-indexed. ID numbers for objects will be corrected. [pdf.py:1736]\n"
          ],
          "name": "stderr"
        }
      ]
    },
    {
      "cell_type": "code",
      "metadata": {
        "id": "Ja7hTBzA8mk5",
        "colab_type": "code",
        "outputId": "1fa507d1-075e-43e3-de37-637df099498a",
        "colab": {
          "base_uri": "https://localhost:8080/",
          "height": 35
        }
      },
      "source": [
        "from pathlib import Path\n",
        "import requests\n",
        "filename = Path('/content/diciembre1977N2.pdf')\n",
        "url = 'http://rmac-mx.org/wp-content/uploads/2013/06/Vol-3-n-2-127-138.pdf'\n",
        "response = requests.get(url)\n",
        "filename.write_bytes(response.content)"
      ],
      "execution_count": 0,
      "outputs": [
        {
          "output_type": "execute_result",
          "data": {
            "text/plain": [
              "606"
            ]
          },
          "metadata": {
            "tags": []
          },
          "execution_count": 105
        }
      ]
    },
    {
      "cell_type": "code",
      "metadata": {
        "id": "Ja4CR4qUBrAq",
        "colab_type": "code",
        "outputId": "d9768629-a340-49e2-875a-06016946a04b",
        "colab": {
          "base_uri": "https://localhost:8080/",
          "height": 1000
        }
      },
      "source": [
        "!pip install textract\n",
        "import textract\n",
        "text = textract.process('/content/diciembre1977N2.pdf', method='pdfminer')\n",
        "print(text)"
      ],
      "execution_count": 0,
      "outputs": [
        {
          "output_type": "stream",
          "text": [
            "Collecting textract\n",
            "  Downloading https://files.pythonhosted.org/packages/32/31/ef9451e6e48a1a57e337c5f20d4ef58c1a13d91560d2574c738b1320bb8d/textract-1.6.3-py3-none-any.whl\n",
            "Collecting EbookLib==0.17.1\n",
            "\u001b[?25l  Downloading https://files.pythonhosted.org/packages/00/38/7d6ab2e569a9165249619d73b7bc6be0e713a899a3bc2513814b6598a84c/EbookLib-0.17.1.tar.gz (111kB)\n",
            "\u001b[K     |████████████████████████████████| 112kB 3.8MB/s \n",
            "\u001b[?25hCollecting docx2txt==0.8\n",
            "  Downloading https://files.pythonhosted.org/packages/7d/7d/60ee3f2b16d9bfdfa72e8599470a2c1a5b759cb113c6fe1006be28359327/docx2txt-0.8.tar.gz\n",
            "Collecting pdfminer.six==20181108\n",
            "\u001b[?25l  Downloading https://files.pythonhosted.org/packages/8a/fd/6e8746e6965d1a7ea8e97253e3d79e625da5547e8f376f88de5d024bacb9/pdfminer.six-20181108-py2.py3-none-any.whl (5.6MB)\n",
            "\u001b[K     |████████████████████████████████| 5.6MB 6.4MB/s \n",
            "\u001b[?25hRequirement already satisfied: six==1.12.0 in /usr/local/lib/python3.6/dist-packages (from textract) (1.12.0)\n",
            "Collecting python-pptx==0.6.18\n",
            "\u001b[?25l  Downloading https://files.pythonhosted.org/packages/bf/86/eb979f7b0333ec769041aae36df8b9f1bd8bea5bbad44620663890dce561/python-pptx-0.6.18.tar.gz (8.9MB)\n",
            "\u001b[K     |████████████████████████████████| 8.9MB 18.3MB/s \n",
            "\u001b[?25hRequirement already satisfied: chardet==3.0.4 in /usr/local/lib/python3.6/dist-packages (from textract) (3.0.4)\n",
            "Collecting SpeechRecognition==3.8.1\n",
            "\u001b[?25l  Downloading https://files.pythonhosted.org/packages/26/e1/7f5678cd94ec1234269d23756dbdaa4c8cfaed973412f88ae8adf7893a50/SpeechRecognition-3.8.1-py2.py3-none-any.whl (32.8MB)\n",
            "\u001b[K     |████████████████████████████████| 32.8MB 118kB/s \n",
            "\u001b[?25hCollecting beautifulsoup4==4.8.0\n",
            "\u001b[?25l  Downloading https://files.pythonhosted.org/packages/1a/b7/34eec2fe5a49718944e215fde81288eec1fa04638aa3fb57c1c6cd0f98c3/beautifulsoup4-4.8.0-py3-none-any.whl (97kB)\n",
            "\u001b[K     |████████████████████████████████| 102kB 12.3MB/s \n",
            "\u001b[?25hCollecting argcomplete==1.10.0\n",
            "  Downloading https://files.pythonhosted.org/packages/4d/82/f44c9661e479207348a979b1f6f063625d11dc4ca6256af053719bbb0124/argcomplete-1.10.0-py2.py3-none-any.whl\n",
            "Collecting xlrd==1.2.0\n",
            "\u001b[?25l  Downloading https://files.pythonhosted.org/packages/b0/16/63576a1a001752e34bf8ea62e367997530dc553b689356b9879339cf45a4/xlrd-1.2.0-py2.py3-none-any.whl (103kB)\n",
            "\u001b[K     |████████████████████████████████| 112kB 55.7MB/s \n",
            "\u001b[?25hCollecting extract-msg==0.23.1\n",
            "\u001b[?25l  Downloading https://files.pythonhosted.org/packages/a1/90/84485a914ed90adb5e87df17e626be04162fbba146dfecf34643659a4633/extract_msg-0.23.1-py2.py3-none-any.whl (45kB)\n",
            "\u001b[K     |████████████████████████████████| 51kB 7.1MB/s \n",
            "\u001b[?25hRequirement already satisfied: lxml in /usr/local/lib/python3.6/dist-packages (from EbookLib==0.17.1->textract) (4.2.6)\n",
            "Requirement already satisfied: sortedcontainers in /usr/local/lib/python3.6/dist-packages (from pdfminer.six==20181108->textract) (2.1.0)\n",
            "Requirement already satisfied: pycryptodome in /usr/local/lib/python3.6/dist-packages (from pdfminer.six==20181108->textract) (3.9.7)\n",
            "Requirement already satisfied: Pillow>=3.3.2 in /usr/local/lib/python3.6/dist-packages (from python-pptx==0.6.18->textract) (7.0.0)\n",
            "Collecting XlsxWriter>=0.5.7\n",
            "\u001b[?25l  Downloading https://files.pythonhosted.org/packages/00/1f/2092a81056d36c1b6651a645aa84c1f76bcee03103072d4fe1cb58501d69/XlsxWriter-1.2.8-py2.py3-none-any.whl (141kB)\n",
            "\u001b[K     |████████████████████████████████| 143kB 51.4MB/s \n",
            "\u001b[?25hCollecting soupsieve>=1.2\n",
            "  Downloading https://files.pythonhosted.org/packages/05/cf/ea245e52f55823f19992447b008bcbb7f78efc5960d77f6c34b5b45b36dd/soupsieve-2.0-py2.py3-none-any.whl\n",
            "Collecting olefile==0.46\n",
            "\u001b[?25l  Downloading https://files.pythonhosted.org/packages/34/81/e1ac43c6b45b4c5f8d9352396a14144bba52c8fec72a80f425f6a4d653ad/olefile-0.46.zip (112kB)\n",
            "\u001b[K     |████████████████████████████████| 112kB 48.9MB/s \n",
            "\u001b[?25hRequirement already satisfied: tzlocal==1.5.1 in /usr/local/lib/python3.6/dist-packages (from extract-msg==0.23.1->textract) (1.5.1)\n",
            "Collecting imapclient==2.1.0\n",
            "\u001b[?25l  Downloading https://files.pythonhosted.org/packages/dc/39/e1c2c2c6e2356ab6ea81fcfc0a74b044b311d6a91a45300811d9a6077ef7/IMAPClient-2.1.0-py2.py3-none-any.whl (73kB)\n",
            "\u001b[K     |████████████████████████████████| 81kB 10.1MB/s \n",
            "\u001b[?25hRequirement already satisfied: pytz in /usr/local/lib/python3.6/dist-packages (from tzlocal==1.5.1->extract-msg==0.23.1->textract) (2018.9)\n",
            "Building wheels for collected packages: EbookLib, docx2txt, python-pptx, olefile\n",
            "  Building wheel for EbookLib (setup.py) ... \u001b[?25l\u001b[?25hdone\n",
            "  Created wheel for EbookLib: filename=EbookLib-0.17.1-cp36-none-any.whl size=38164 sha256=29fe6bc6ded67b770de4b13b126cbf8d3c10829b78e8ebc2cf783bcebafd3046\n",
            "  Stored in directory: /root/.cache/pip/wheels/84/11/01/951369cbbf8f96878786a1f4da68bd7ac19a5d945b38e03d54\n",
            "  Building wheel for docx2txt (setup.py) ... \u001b[?25l\u001b[?25hdone\n",
            "  Created wheel for docx2txt: filename=docx2txt-0.8-cp36-none-any.whl size=3963 sha256=9c0a99246365a1dc4cc4b3750bfe25e4d6c99ab4641844fb3808bbc2c50aece5\n",
            "  Stored in directory: /root/.cache/pip/wheels/b2/1f/26/a051209bbb77fc6bcfae2bb7e01fa0ff941b82292ab084d596\n",
            "  Building wheel for python-pptx (setup.py) ... \u001b[?25l\u001b[?25hdone\n",
            "  Created wheel for python-pptx: filename=python_pptx-0.6.18-cp36-none-any.whl size=275706 sha256=ed1a8d21ccb3c7a8d7d602b31ef8488e2df98a6badb4fd5e4db41a89670b0cfb\n",
            "  Stored in directory: /root/.cache/pip/wheels/1f/1f/2c/29acca422b420a0b5210bd2cd7e9669804520d602d2462f20b\n",
            "  Building wheel for olefile (setup.py) ... \u001b[?25l\u001b[?25hdone\n",
            "  Created wheel for olefile: filename=olefile-0.46-py2.py3-none-any.whl size=35417 sha256=36e7d3f5377c43835940b918b7d5a0025dad961e0c20e4091b2309f9456a798b\n",
            "  Stored in directory: /root/.cache/pip/wheels/4b/f4/11/bc4166107c27f07fd7bba707ffcb439619197638a1ac986df3\n",
            "Successfully built EbookLib docx2txt python-pptx olefile\n",
            "\u001b[31mERROR: pdfplumber 0.5.18 has requirement pdfminer.six==20200104, but you'll have pdfminer-six 20181108 which is incompatible.\u001b[0m\n",
            "Installing collected packages: EbookLib, docx2txt, pdfminer.six, XlsxWriter, python-pptx, SpeechRecognition, soupsieve, beautifulsoup4, argcomplete, xlrd, olefile, imapclient, extract-msg, textract\n",
            "  Found existing installation: pdfminer.six 20200104\n",
            "    Uninstalling pdfminer.six-20200104:\n",
            "      Successfully uninstalled pdfminer.six-20200104\n",
            "  Found existing installation: beautifulsoup4 4.6.3\n",
            "    Uninstalling beautifulsoup4-4.6.3:\n",
            "      Successfully uninstalled beautifulsoup4-4.6.3\n",
            "  Found existing installation: xlrd 1.1.0\n",
            "    Uninstalling xlrd-1.1.0:\n",
            "      Successfully uninstalled xlrd-1.1.0\n",
            "Successfully installed EbookLib-0.17.1 SpeechRecognition-3.8.1 XlsxWriter-1.2.8 argcomplete-1.10.0 beautifulsoup4-4.8.0 docx2txt-0.8 extract-msg-0.23.1 imapclient-2.1.0 olefile-0.46 pdfminer.six-20181108 python-pptx-0.6.18 soupsieve-2.0 textract-1.6.3 xlrd-1.2.0\n"
          ],
          "name": "stdout"
        },
        {
          "output_type": "display_data",
          "data": {
            "application/vnd.colab-display-data+json": {
              "pip_warning": {
                "packages": [
                  "pdfminer"
                ]
              }
            }
          },
          "metadata": {
            "tags": []
          }
        },
        {
          "output_type": "error",
          "ename": "ShellError",
          "evalue": "ignored",
          "traceback": [
            "\u001b[0;31m---------------------------------------------------------------------------\u001b[0m",
            "\u001b[0;31mShellError\u001b[0m                                Traceback (most recent call last)",
            "\u001b[0;32m<ipython-input-108-f097865718ac>\u001b[0m in \u001b[0;36m<module>\u001b[0;34m()\u001b[0m\n\u001b[1;32m      1\u001b[0m \u001b[0mget_ipython\u001b[0m\u001b[0;34m(\u001b[0m\u001b[0;34m)\u001b[0m\u001b[0;34m.\u001b[0m\u001b[0msystem\u001b[0m\u001b[0;34m(\u001b[0m\u001b[0;34m'pip install textract'\u001b[0m\u001b[0;34m)\u001b[0m\u001b[0;34m\u001b[0m\u001b[0;34m\u001b[0m\u001b[0m\n\u001b[1;32m      2\u001b[0m \u001b[0;32mimport\u001b[0m \u001b[0mtextract\u001b[0m\u001b[0;34m\u001b[0m\u001b[0;34m\u001b[0m\u001b[0m\n\u001b[0;32m----> 3\u001b[0;31m \u001b[0mtext\u001b[0m \u001b[0;34m=\u001b[0m \u001b[0mtextract\u001b[0m\u001b[0;34m.\u001b[0m\u001b[0mprocess\u001b[0m\u001b[0;34m(\u001b[0m\u001b[0;34m'/content/diciembre1977N2.pdf'\u001b[0m\u001b[0;34m,\u001b[0m \u001b[0mmethod\u001b[0m\u001b[0;34m=\u001b[0m\u001b[0;34m'pdfminer'\u001b[0m\u001b[0;34m)\u001b[0m\u001b[0;34m\u001b[0m\u001b[0;34m\u001b[0m\u001b[0m\n\u001b[0m\u001b[1;32m      4\u001b[0m \u001b[0mprint\u001b[0m\u001b[0;34m(\u001b[0m\u001b[0mtext\u001b[0m\u001b[0;34m)\u001b[0m\u001b[0;34m\u001b[0m\u001b[0;34m\u001b[0m\u001b[0m\n",
            "\u001b[0;32m/usr/local/lib/python3.6/dist-packages/textract/parsers/__init__.py\u001b[0m in \u001b[0;36mprocess\u001b[0;34m(filename, encoding, extension, **kwargs)\u001b[0m\n\u001b[1;32m     75\u001b[0m \u001b[0;34m\u001b[0m\u001b[0m\n\u001b[1;32m     76\u001b[0m     \u001b[0mparser\u001b[0m \u001b[0;34m=\u001b[0m \u001b[0mfiletype_module\u001b[0m\u001b[0;34m.\u001b[0m\u001b[0mParser\u001b[0m\u001b[0;34m(\u001b[0m\u001b[0;34m)\u001b[0m\u001b[0;34m\u001b[0m\u001b[0;34m\u001b[0m\u001b[0m\n\u001b[0;32m---> 77\u001b[0;31m     \u001b[0;32mreturn\u001b[0m \u001b[0mparser\u001b[0m\u001b[0;34m.\u001b[0m\u001b[0mprocess\u001b[0m\u001b[0;34m(\u001b[0m\u001b[0mfilename\u001b[0m\u001b[0;34m,\u001b[0m \u001b[0mencoding\u001b[0m\u001b[0;34m,\u001b[0m \u001b[0;34m**\u001b[0m\u001b[0mkwargs\u001b[0m\u001b[0;34m)\u001b[0m\u001b[0;34m\u001b[0m\u001b[0;34m\u001b[0m\u001b[0m\n\u001b[0m\u001b[1;32m     78\u001b[0m \u001b[0;34m\u001b[0m\u001b[0m\n\u001b[1;32m     79\u001b[0m \u001b[0;34m\u001b[0m\u001b[0m\n",
            "\u001b[0;32m/usr/local/lib/python3.6/dist-packages/textract/parsers/utils.py\u001b[0m in \u001b[0;36mprocess\u001b[0;34m(self, filename, encoding, **kwargs)\u001b[0m\n\u001b[1;32m     44\u001b[0m         \u001b[0;31m# output encoding\u001b[0m\u001b[0;34m\u001b[0m\u001b[0;34m\u001b[0m\u001b[0;34m\u001b[0m\u001b[0m\n\u001b[1;32m     45\u001b[0m         \u001b[0;31m# http://nedbatchelder.com/text/unipain/unipain.html#35\u001b[0m\u001b[0;34m\u001b[0m\u001b[0;34m\u001b[0m\u001b[0;34m\u001b[0m\u001b[0m\n\u001b[0;32m---> 46\u001b[0;31m         \u001b[0mbyte_string\u001b[0m \u001b[0;34m=\u001b[0m \u001b[0mself\u001b[0m\u001b[0;34m.\u001b[0m\u001b[0mextract\u001b[0m\u001b[0;34m(\u001b[0m\u001b[0mfilename\u001b[0m\u001b[0;34m,\u001b[0m \u001b[0;34m**\u001b[0m\u001b[0mkwargs\u001b[0m\u001b[0;34m)\u001b[0m\u001b[0;34m\u001b[0m\u001b[0;34m\u001b[0m\u001b[0m\n\u001b[0m\u001b[1;32m     47\u001b[0m         \u001b[0municode_string\u001b[0m \u001b[0;34m=\u001b[0m \u001b[0mself\u001b[0m\u001b[0;34m.\u001b[0m\u001b[0mdecode\u001b[0m\u001b[0;34m(\u001b[0m\u001b[0mbyte_string\u001b[0m\u001b[0;34m)\u001b[0m\u001b[0;34m\u001b[0m\u001b[0;34m\u001b[0m\u001b[0m\n\u001b[1;32m     48\u001b[0m         \u001b[0;32mreturn\u001b[0m \u001b[0mself\u001b[0m\u001b[0;34m.\u001b[0m\u001b[0mencode\u001b[0m\u001b[0;34m(\u001b[0m\u001b[0municode_string\u001b[0m\u001b[0;34m,\u001b[0m \u001b[0mencoding\u001b[0m\u001b[0;34m)\u001b[0m\u001b[0;34m\u001b[0m\u001b[0;34m\u001b[0m\u001b[0m\n",
            "\u001b[0;32m/usr/local/lib/python3.6/dist-packages/textract/parsers/pdf_parser.py\u001b[0m in \u001b[0;36mextract\u001b[0;34m(self, filename, method, **kwargs)\u001b[0m\n\u001b[1;32m     29\u001b[0m \u001b[0;34m\u001b[0m\u001b[0m\n\u001b[1;32m     30\u001b[0m         \u001b[0;32melif\u001b[0m \u001b[0mmethod\u001b[0m \u001b[0;34m==\u001b[0m \u001b[0;34m'pdfminer'\u001b[0m\u001b[0;34m:\u001b[0m\u001b[0;34m\u001b[0m\u001b[0;34m\u001b[0m\u001b[0m\n\u001b[0;32m---> 31\u001b[0;31m             \u001b[0;32mreturn\u001b[0m \u001b[0mself\u001b[0m\u001b[0;34m.\u001b[0m\u001b[0mextract_pdfminer\u001b[0m\u001b[0;34m(\u001b[0m\u001b[0mfilename\u001b[0m\u001b[0;34m,\u001b[0m \u001b[0;34m**\u001b[0m\u001b[0mkwargs\u001b[0m\u001b[0;34m)\u001b[0m\u001b[0;34m\u001b[0m\u001b[0;34m\u001b[0m\u001b[0m\n\u001b[0m\u001b[1;32m     32\u001b[0m         \u001b[0;32melif\u001b[0m \u001b[0mmethod\u001b[0m \u001b[0;34m==\u001b[0m \u001b[0;34m'tesseract'\u001b[0m\u001b[0;34m:\u001b[0m\u001b[0;34m\u001b[0m\u001b[0;34m\u001b[0m\u001b[0m\n\u001b[1;32m     33\u001b[0m             \u001b[0;32mreturn\u001b[0m \u001b[0mself\u001b[0m\u001b[0;34m.\u001b[0m\u001b[0mextract_tesseract\u001b[0m\u001b[0;34m(\u001b[0m\u001b[0mfilename\u001b[0m\u001b[0;34m,\u001b[0m \u001b[0;34m**\u001b[0m\u001b[0mkwargs\u001b[0m\u001b[0;34m)\u001b[0m\u001b[0;34m\u001b[0m\u001b[0;34m\u001b[0m\u001b[0m\n",
            "\u001b[0;32m/usr/local/lib/python3.6/dist-packages/textract/parsers/pdf_parser.py\u001b[0m in \u001b[0;36mextract_pdfminer\u001b[0;34m(self, filename, **kwargs)\u001b[0m\n\u001b[1;32m     46\u001b[0m     \u001b[0;32mdef\u001b[0m \u001b[0mextract_pdfminer\u001b[0m\u001b[0;34m(\u001b[0m\u001b[0mself\u001b[0m\u001b[0;34m,\u001b[0m \u001b[0mfilename\u001b[0m\u001b[0;34m,\u001b[0m \u001b[0;34m**\u001b[0m\u001b[0mkwargs\u001b[0m\u001b[0;34m)\u001b[0m\u001b[0;34m:\u001b[0m\u001b[0;34m\u001b[0m\u001b[0;34m\u001b[0m\u001b[0m\n\u001b[1;32m     47\u001b[0m         \u001b[0;34m\"\"\"Extract text from pdfs using pdfminer.\"\"\"\u001b[0m\u001b[0;34m\u001b[0m\u001b[0;34m\u001b[0m\u001b[0m\n\u001b[0;32m---> 48\u001b[0;31m         \u001b[0mstdout\u001b[0m\u001b[0;34m,\u001b[0m \u001b[0m_\u001b[0m \u001b[0;34m=\u001b[0m \u001b[0mself\u001b[0m\u001b[0;34m.\u001b[0m\u001b[0mrun\u001b[0m\u001b[0;34m(\u001b[0m\u001b[0;34m[\u001b[0m\u001b[0;34m'pdf2txt.py'\u001b[0m\u001b[0;34m,\u001b[0m \u001b[0mfilename\u001b[0m\u001b[0;34m]\u001b[0m\u001b[0;34m)\u001b[0m\u001b[0;34m\u001b[0m\u001b[0;34m\u001b[0m\u001b[0m\n\u001b[0m\u001b[1;32m     49\u001b[0m         \u001b[0;32mreturn\u001b[0m \u001b[0mstdout\u001b[0m\u001b[0;34m\u001b[0m\u001b[0;34m\u001b[0m\u001b[0m\n\u001b[1;32m     50\u001b[0m \u001b[0;34m\u001b[0m\u001b[0m\n",
            "\u001b[0;32m/usr/local/lib/python3.6/dist-packages/textract/parsers/utils.py\u001b[0m in \u001b[0;36mrun\u001b[0;34m(self, args)\u001b[0m\n\u001b[1;32m     99\u001b[0m         \u001b[0;32mif\u001b[0m \u001b[0mpipe\u001b[0m\u001b[0;34m.\u001b[0m\u001b[0mreturncode\u001b[0m \u001b[0;34m!=\u001b[0m \u001b[0;36m0\u001b[0m\u001b[0;34m:\u001b[0m\u001b[0;34m\u001b[0m\u001b[0;34m\u001b[0m\u001b[0m\n\u001b[1;32m    100\u001b[0m             raise exceptions.ShellError(\n\u001b[0;32m--> 101\u001b[0;31m                 \u001b[0;34m' '\u001b[0m\u001b[0;34m.\u001b[0m\u001b[0mjoin\u001b[0m\u001b[0;34m(\u001b[0m\u001b[0margs\u001b[0m\u001b[0;34m)\u001b[0m\u001b[0;34m,\u001b[0m \u001b[0mpipe\u001b[0m\u001b[0;34m.\u001b[0m\u001b[0mreturncode\u001b[0m\u001b[0;34m,\u001b[0m \u001b[0mstdout\u001b[0m\u001b[0;34m,\u001b[0m \u001b[0mstderr\u001b[0m\u001b[0;34m,\u001b[0m\u001b[0;34m\u001b[0m\u001b[0;34m\u001b[0m\u001b[0m\n\u001b[0m\u001b[1;32m    102\u001b[0m             )\n\u001b[1;32m    103\u001b[0m \u001b[0;34m\u001b[0m\u001b[0m\n",
            "\u001b[0;31mShellError\u001b[0m: The command `pdf2txt.py /content/diciembre1977N2.pdf` failed with exit code 1\n------------- stdout -------------\nb''------------- stderr -------------\nb'Traceback (most recent call last):\\n  File \"/usr/local/bin/pdf2txt.py\", line 136, in <module>\\n    if __name__ == \\'__main__\\': sys.exit(main())\\n  File \"/usr/local/bin/pdf2txt.py\", line 131, in main\\n    outfp = extract_text(**vars(A))\\n  File \"/usr/local/bin/pdf2txt.py\", line 63, in extract_text\\n    pdfminer.high_level.extract_text_to_fp(fp, **locals())\\n  File \"/usr/local/lib/python3.6/dist-packages/pdfminer/high_level.py\", line 80, in extract_text_to_fp\\n    check_extractable=True):\\n  File \"/usr/local/lib/python3.6/dist-packages/pdfminer/pdfpage.py\", line 129, in get_pages\\n    doc = PDFDocument(parser, password=password, caching=caching)\\n  File \"/usr/local/lib/python3.6/dist-packages/pdfminer/pdfdocument.py\", line 585, in __init__\\n    raise PDFSyntaxError(\\'No /Root object! - Is this really a PDF?\\')\\npdfminer.pdfparser.PDFSyntaxError: No /Root object! - Is this really a PDF?\\n'"
          ]
        }
      ]
    },
    {
      "cell_type": "code",
      "metadata": {
        "id": "9zRGBdjNKjuS",
        "colab_type": "code",
        "outputId": "0b919470-5ad2-4ef9-d007-ba53758a1061",
        "colab": {
          "base_uri": "https://localhost:8080/",
          "height": 211
        }
      },
      "source": [
        "!pip install PyPDF2"
      ],
      "execution_count": 0,
      "outputs": [
        {
          "output_type": "stream",
          "text": [
            "Collecting PyPDF2\n",
            "\u001b[?25l  Downloading https://files.pythonhosted.org/packages/b4/01/68fcc0d43daf4c6bdbc6b33cc3f77bda531c86b174cac56ef0ffdb96faab/PyPDF2-1.26.0.tar.gz (77kB)\n",
            "\r\u001b[K     |████▎                           | 10kB 17.4MB/s eta 0:00:01\r\u001b[K     |████████▌                       | 20kB 1.7MB/s eta 0:00:01\r\u001b[K     |████████████▊                   | 30kB 2.6MB/s eta 0:00:01\r\u001b[K     |█████████████████               | 40kB 1.7MB/s eta 0:00:01\r\u001b[K     |█████████████████████▏          | 51kB 2.1MB/s eta 0:00:01\r\u001b[K     |█████████████████████████▍      | 61kB 2.5MB/s eta 0:00:01\r\u001b[K     |█████████████████████████████▋  | 71kB 2.9MB/s eta 0:00:01\r\u001b[K     |████████████████████████████████| 81kB 2.6MB/s \n",
            "\u001b[?25hBuilding wheels for collected packages: PyPDF2\n",
            "  Building wheel for PyPDF2 (setup.py) ... \u001b[?25l\u001b[?25hdone\n",
            "  Created wheel for PyPDF2: filename=PyPDF2-1.26.0-cp36-none-any.whl size=61086 sha256=9ea85d13f9b02d8f86d9cc76db145b6f15e338d48570d26733b1276b0c56afae\n",
            "  Stored in directory: /root/.cache/pip/wheels/53/84/19/35bc977c8bf5f0c23a8a011aa958acd4da4bbd7a229315c1b7\n",
            "Successfully built PyPDF2\n",
            "Installing collected packages: PyPDF2\n",
            "Successfully installed PyPDF2-1.26.0\n"
          ],
          "name": "stdout"
        }
      ]
    },
    {
      "cell_type": "code",
      "metadata": {
        "id": "QXN4I_6WK7dS",
        "colab_type": "code",
        "outputId": "e6353196-1513-428d-b910-ad9e1878b86c",
        "colab": {
          "base_uri": "https://localhost:8080/",
          "height": 35
        }
      },
      "source": [
        "import PyPDF2 as pdf\n",
        "import os\n",
        "file = open ('/content/RMAC_4402_1.pdf.pdf'\n",
        ",'rb')\n",
        "print(file)"
      ],
      "execution_count": 0,
      "outputs": [
        {
          "output_type": "stream",
          "text": [
            "<_io.BufferedReader name='/content/RMAC_4402_1.pdf.pdf'>\n"
          ],
          "name": "stdout"
        }
      ]
    },
    {
      "cell_type": "code",
      "metadata": {
        "id": "4bKt6pSmLWcs",
        "colab_type": "code",
        "outputId": "3ce96773-d1c5-499b-a2aa-a340762eef72",
        "colab": {
          "base_uri": "https://localhost:8080/",
          "height": 55
        }
      },
      "source": [
        "pdf_reader = pdf.PdfFileReader(file)"
      ],
      "execution_count": 0,
      "outputs": [
        {
          "output_type": "stream",
          "text": [
            "PdfReadWarning: Xref table not zero-indexed. ID numbers for objects will be corrected. [pdf.py:1736]\n"
          ],
          "name": "stderr"
        }
      ]
    },
    {
      "cell_type": "code",
      "metadata": {
        "id": "ue2VDd9HLmUO",
        "colab_type": "code",
        "outputId": "e46467dd-fac2-465c-be9a-3aba3dcf6221",
        "colab": {
          "base_uri": "https://localhost:8080/",
          "height": 35
        }
      },
      "source": [
        "print(pdf_reader)"
      ],
      "execution_count": 0,
      "outputs": [
        {
          "output_type": "stream",
          "text": [
            "<PyPDF2.pdf.PdfFileReader object at 0x7f204a6b9780>\n"
          ],
          "name": "stdout"
        }
      ]
    },
    {
      "cell_type": "code",
      "metadata": {
        "id": "T8x8B0HCLyVd",
        "colab_type": "code",
        "outputId": "f918c535-d1de-4d3e-b807-23a8c41125b1",
        "colab": {
          "base_uri": "https://localhost:8080/",
          "height": 35
        }
      },
      "source": [
        "pdf_reader.getNumPages()"
      ],
      "execution_count": 0,
      "outputs": [
        {
          "output_type": "execute_result",
          "data": {
            "text/plain": [
              "19"
            ]
          },
          "metadata": {
            "tags": []
          },
          "execution_count": 50
        }
      ]
    },
    {
      "cell_type": "code",
      "metadata": {
        "id": "h3luT0asMMPU",
        "colab_type": "code",
        "outputId": "b435599f-2205-4997-d718-c5aaa950a577",
        "colab": {
          "base_uri": "https://localhost:8080/",
          "height": 55
        }
      },
      "source": [
        "page1 = pdf_reader.getPage(15-18)\n",
        "page2 = pdf_reader.getPage(16-18)\n",
        "page3 = pdf_reader.getPage(17-18)\n",
        "page4 = pdf_reader.getPage(18)\n",
        "print(page1,page2, page3,page4)"
      ],
      "execution_count": 0,
      "outputs": [
        {
          "output_type": "stream",
          "text": [
            "{'/ArtBox': [0, 0, 476.22, 651.969], '/BleedBox': [0, 0, 476.22, 651.969], '/Contents': IndirectObject(51, 0), '/CropBox': [0, 0, 476.22, 651.969], '/MediaBox': [0, 0, 476.22, 651.969], '/Parent': IndirectObject(88, 0), '/Resources': {'/ColorSpace': {'/CS0': IndirectObject(322, 0)}, '/ExtGState': {'/GS0': IndirectObject(324, 0)}, '/Font': {'/T1_0': IndirectObject(319, 0), '/T1_1': IndirectObject(318, 0), '/T1_2': IndirectObject(60, 0), '/T1_3': IndirectObject(334, 0)}, '/ProcSet': ['/PDF', '/Text']}, '/Rotate': 0, '/StructParents': 14, '/TrimBox': [0, 0, 476.22, 651.969], '/Type': '/Page'} {'/ArtBox': [0, 0, 476.22, 651.969], '/BleedBox': [0, 0, 476.22, 651.969], '/Contents': IndirectObject(53, 0), '/CropBox': [0, 0, 476.22, 651.969], '/MediaBox': [0, 0, 476.22, 651.969], '/Parent': IndirectObject(88, 0), '/Resources': {'/ColorSpace': {'/CS0': IndirectObject(322, 0)}, '/ExtGState': {'/GS0': IndirectObject(324, 0)}, '/Font': {'/T1_0': IndirectObject(319, 0), '/T1_1': IndirectObject(60, 0), '/T1_2': IndirectObject(334, 0)}, '/ProcSet': ['/PDF', '/Text']}, '/Rotate': 0, '/StructParents': 15, '/TrimBox': [0, 0, 476.22, 651.969], '/Type': '/Page'} {'/ArtBox': [0, 0, 476.22, 651.969], '/BleedBox': [0, 0, 476.22, 651.969], '/Contents': IndirectObject(55, 0), '/CropBox': [0, 0, 476.22, 651.969], '/MediaBox': [0, 0, 476.22, 651.969], '/Parent': IndirectObject(88, 0), '/Resources': {'/ColorSpace': {'/CS0': IndirectObject(322, 0)}, '/ExtGState': {'/GS0': IndirectObject(324, 0)}, '/Font': {'/T1_0': IndirectObject(319, 0), '/T1_1': IndirectObject(60, 0), '/T1_2': IndirectObject(334, 0)}, '/ProcSet': ['/PDF', '/Text']}, '/Rotate': 0, '/StructParents': 16, '/TrimBox': [0, 0, 476.22, 651.969], '/Type': '/Page'} {'/ArtBox': [0, 0, 476.22, 651.969], '/BleedBox': [0, 0, 476.22, 651.969], '/Contents': IndirectObject(55, 0), '/CropBox': [0, 0, 476.22, 651.969], '/MediaBox': [0, 0, 476.22, 651.969], '/Parent': IndirectObject(88, 0), '/Resources': {'/ColorSpace': {'/CS0': IndirectObject(322, 0)}, '/ExtGState': {'/GS0': IndirectObject(324, 0)}, '/Font': {'/T1_0': IndirectObject(319, 0), '/T1_1': IndirectObject(60, 0), '/T1_2': IndirectObject(334, 0)}, '/ProcSet': ['/PDF', '/Text']}, '/Rotate': 0, '/StructParents': 16, '/TrimBox': [0, 0, 476.22, 651.969], '/Type': '/Page'}\n"
          ],
          "name": "stdout"
        }
      ]
    },
    {
      "cell_type": "code",
      "metadata": {
        "id": "tRslp4r3MxEw",
        "colab_type": "code",
        "outputId": "727270ca-0a4f-4861-8366-66ab372933ef",
        "colab": {
          "base_uri": "https://localhost:8080/",
          "height": 1000
        }
      },
      "source": [
        "r = page1.extractText()\n",
        "r1 = page2.extractText()\n",
        "r2 = page3.extractText()\n",
        "r3 = page4.extractText()\n",
        "print(r,r1,r2,r3)\n"
      ],
      "execution_count": 0,
      "outputs": [
        {
          "output_type": "stream",
          "text": [
            "few possible advantages over solid (tabletop) textured foods including: a) they do \n",
            "not need to be chewed, potentially aiding in increased consumption for children \n",
            "with skill de˛cits, and b) they result in the child tasting the food and facilitate rapid \n",
            "swallow more readily than solid foods, potentially aiding in increased consumption \n",
            "for children with motivational de˛cits by increasing the likelihood of contacting the \n",
            "reinforcement contingencies associated with consumption. Future research might \n",
            "determine if the reported e˙ects could be replicated with other participants and \n",
            "further examine potential di˙erences between purees and solid textures in the treat\n",
            "-ment of pediatric feeding problems. In a similar line, another limitation of this study \n",
            "is that treatment was implemented to only one participant, although we observed \n",
            "generalization between target and non-target foods, it will be important to replicate \n",
            "this procedure with more participants to evaluate the generality of our ˛ndings. \n",
            "Despite the potential limitations noted, this procedure resulted in rapid increa\n",
            "-sed in novel foods without the use of escape extinction. In addition, the high-p \n",
            "instructional sequence was faded out such that the \n",
            "DRA\n",
            " contingency remained \n",
            "e˙ective, even though initially the \n",
            "DRA\n",
            " contingency proved ine˙ective. It is possi\n",
            "-ble the use of the high-p instructional sequence was e˙ective in placing appropriate \n",
            "behavior (consumption) in contact with reinforcement and aided in the e˙ective\n",
            "-ness of \n",
            "DRA\n",
            " when the high-p instructional sequence was removed. Future research \n",
            "should continue to examine procedures that might facilitatcy of both \n",
            "antecedent- and reinforcement-based interventions or whether certain prerequisite \n",
            "skills or experiences increase the likelihood of those interventions being successful. \n",
            "Finally, it is important to mention that treatments for pediatric feeding problems \n",
            "should be implemented within the scope of competence and referrals for medical \n",
            "and oral-motor assessments are critical components of practice within this area.\n",
            "References\n",
            "Addison, L. R., Piazza, C. C., Patel, M. R., Bachmeyer, M. H., Rivas, K. M., Milnes, \n",
            "S. M., & Oddo, J. (ˆˇ˘ˆ). A comparison of sensory integrative and behavioral \n",
            "therapies as treatment for pediatric feeding disorders\n",
            "Journal of Applied Behavior \n",
            "Analysis\n",
            "˝˙˚Œ˘. doi:˘ˇ.˘ˇ˘/jaba.ˆˇ˘ˆ.-˚\n",
            "Anzman-Frasca, SSavage, J. SMarini, M. E., Fisher, J. O& Birch, L. L. (ˆˇ˘ˆ). \n",
            "Repeated exposure and associative conditioning promote preschool children™s \n",
            "liking of vegetables. \n",
            "Appetite\n",
            ", ˚, ˚-˚˚i: ˘ˇ.˘ˇ˘.appet.ˆˇ˘˘.˘˘.ˇ˘ˆ\n",
            "113†-’šš†• ‡…—–†’—–’’’…—†’\n",
            " Bachmeyer, M. H. (ˆˇˇTreatment of selective and inadequate food intake in \n",
            "children: A review and practical guide. \n",
            "Behavior Analysis in Practice, ˚, \n",
            "-˚ˇ. \n",
            "doi: ˘ˇ.˘ˇˇ\n",
            "BFˇ\n",
            "Dawson, J. E., Piazza, C. C., Sevin, B. M., Ga, C. S., Lerman, D., & Kelly, M. L. \n",
            "(ˆˇˇse of the high-probability instructional sequence and escape extinction \n",
            "in a child with food refusal. \n",
            "Journal of Applied Behavior Analysis, ˛ˆ,\n",
            " ˘ˇ˚-˘ˇ. doi: \n",
            "˘ˇ.˘ˇ˘/jaba.ˆˇ-˘ˇ˚\n",
            "Fisher, W., Piazza, C. C., Bowman, L. G., Hagopian, L. P., Owens, J. C., & Slevin, I. \n",
            "(˘ˆ). A comparison of two approaches for identifying reinforcers for persons \n",
            "with severe and profound disabilities. \n",
            "Journal of Applied Behavior Analysis, \n",
            "ˆ˚, \n",
            "˘-. doi: ˘ˇ.˘ˇ˘/jaba.˘ˆ.ˆ˚-˘\n",
            "Friman, P. (ˆˇ˘ˇ). Come on in, the water is ˛ne: Achieving mainstream relevance \n",
            "through integration with primary medical care. \n",
            "Behavior Analyst\n",
            ", ˛˛,-.\n",
            "Hernández, V., Fernand, J., & Vollmer, T. (ˆˇ˘ˆ). Pediatric feeding problems: a ˛eld \n",
            "of application in behavior analysis. \n",
            "Mexican Journal of Eating Disorders, ˇ,\n",
            "-\n",
            "˘˚. doi: ˘ˇ.˘ˇ˘.rmta.ˆˇ˘.ˇ.ˇˇ˘\n",
            "Iwata, B. A., Dorsey, M. F., Slifer, K. J., Bauman, K. E. y Richman, G. S. (˘ˆ/˘ \n",
            "Toward a functional analysis of self-injury. \n",
            "Journal of Applied Behavior Analysis, \n",
            "˚ˇ(˚), \n",
            "˘-ˆˇ. doi: ˘ˇ.˘ˇ˘/jaba.˘.ˆ-˘\n",
            "Kerwin, M. E. (˘mpirically supported treatments in pediatric psychology: \n",
            "Severe feeding problems. \n",
            "Journal of Pediatric\n",
            " Psychology\n",
            ", ˚˝,-ˆ˘.\n",
            "Levin, L., & Carr, E. (ˆˇˇ˘). Food Selectivity and Problem Behavior in Children \n",
            "with Developmental Disabilities: Analysis and Intervention. \n",
            "Behavior Modi˘ca\n",
            "-tion, ˚˙, \n",
            "-. doi: ˘ˇ.˘˘˘˚ˇ˘ˆ˚ˇˇ\n",
            "Lipschultz, J., & Wilder, D. (ˆˇ˘ecent research on the high-probability instruc\n",
            "-tional sequence: a brief review. \n",
            "Journal of Applied Behavior Analysis. ˙\n",
            "-. \n",
            "doi: ˘ˇ.˘ˇˇˆ/jaba.\n",
            "Najdowski, A., Wallece, M., Penrod, B., Tarbox, J., Reagon, K., & Higbee, T. (ˆˇˇ \n",
            "Caregiver conducted experimental functionaal analyses of inappropriate meal\n",
            "-time behavior. \n",
            "Journal of Applied Behavior Analysis\n",
            ", ˝˜-˚. doi: ˘ˇ.˘ˇ˘/\n",
            "jaba.ˆˇˇ.˘-\n",
            "Patel, M. Reed, G. K., Piazza, C. C., Mueller, M., Bachmeyer, M. H., & Layer, S. A. \n",
            "(ˆˇˇUse of a high-probability instructional sequence to increase compliance \n",
            "to feeding demand in the absence of escape extinction. \n",
            "Behavioral Interventions, \n",
            "˚˚,ˇ˚-˘ˇ. doi: ˘ˇ.˘ˇˇˆ/bin.ˆ˚˘\n",
            "114\n",
            " Penrod, B., Gardella, L., & Fernand, J. (ˆˇ˘ˆ). An evaluation of a progressive \n",
            "high-probability instructional sequence combined with low-probability demand \n",
            "fading in the treatment of food selectivity. \n",
            "Journal of Applied Behavior Analysis, \n",
            "˝˙, \n",
            "˚ˆ-˚. doi: ˘ˇ.˘ˇ˘/jaba.ˆˇ˘ˆ.-˚ˆ\n",
            "Piazza, C. C., Fisher, W. W., Brown, K. A., Shore, B. A., Patel, M. R., Katz, R. M., et \n",
            "al. (ˆˇˇunctional analysis of inappropriate mealtime behaviors. \n",
            "Journal of \n",
            "Applied Behavior Analysis, ˛ˆ,\n",
            " ˘-ˆˇ. doi: ˇ.˘ˇ˘/jaba.ˆˇˇ.-˘\n",
            "Piazza, C. C., Patel, M. R., Ga, C. S., Sevin, B. M., & Layer, S. A. (ˆˇˇ \n",
            "the relative contributions of positive reinforcement and escape extinction in the \n",
            "treatment of food refusal. \n",
            "Journal of Applied Behavior Analysis, ˛ˆ\n",
            "ˇ-ˆ. doi:  \n",
            "˘ˇ.˘ˇ˘/jaba.ˆˇ-ˇ\n",
            "Postorino, V., Sanges, V., Giovagnoli, G., Faa, L., Peppo, L., Armando, M., Vicari, \n",
            "S., & Mazzone, L. (ˆˇ˘˚). Clinical di˙erences in children with autism spectrum \n",
            "disorder with and without food selectivity. \n",
            "Appetite\n",
            ", ,˘ˆ-˘ˆ. doi: ˘ˇ.˘ˇ˘.\n",
            "appet.ˆˇ˘˚.ˇ˚.ˇ˘\n",
            "Rommel, N., De Meyer, \n",
            "AM., Feenstra, L. & veereman-Wauters G. (ˆˇˇ \n",
            "complexity of feeding problemˇ infants and young children presenting to \n",
            "a tertiary care institution. \n",
            "Journal of Pediatric Gastroenterology Nutrition, ˛ˇ(˜),\n",
            " ˚. doi: ˘ˇ.˘ˇˇˇˇ˚˘-ˆˇˇˇˇˇ-ˇˇˇ˘\n",
            "Tanner, A., & Andreone, B. E. (ˆˇ˘˚). Using graduated exposure and di˙erential \n",
            "reinforcement to increase food repertoire in a child with autism. \n",
            "Behavior Anal\n",
            "-ysis in Practice\n",
            ", , ˆ-ˆˇ. doi: ˘ˇ.˘ˇˇˇ˘-ˇ˘˚-ˇˇ\n",
            "Recibido Junio 12, 2018 /\n",
            "Received June 12, 2018\n",
            "Aceptado Octubre 3, 2018 /\n",
            "Accepted October 3, 2018\n",
            "115†-’šš†• ‡…—–†’—–’’’…—†’\n",
            " Penrod, B., Gardella, L., & Fernand, J. (ˆˇ˘ˆ). An evaluation of a progressive \n",
            "high-probability instructional sequence combined with low-probability demand \n",
            "fading in the treatment of food selectivity. \n",
            "Journal of Applied Behavior Analysis, \n",
            "˝˙, \n",
            "˚ˆ-˚. doi: ˘ˇ.˘ˇ˘/jaba.ˆˇ˘ˆ.-˚ˆ\n",
            "Piazza, C. C., Fisher, W. W., Brown, K. A., Shore, B. A., Patel, M. R., Katz, R. M., et \n",
            "al. (ˆˇˇunctional analysis of inappropriate mealtime behaviors. \n",
            "Journal of \n",
            "Applied Behavior Analysis, ˛ˆ,\n",
            " ˘-ˆˇ. doi: ˇ.˘ˇ˘/jaba.ˆˇˇ.-˘\n",
            "Piazza, C. C., Patel, M. R., Ga, C. S., Sevin, B. M., & Layer, S. A. (ˆˇˇ \n",
            "the relative contributions of positive reinforcement and escape extinction in the \n",
            "treatment of food refusal. \n",
            "Journal of Applied Behavior Analysis, ˛ˆ\n",
            "ˇ-ˆ. doi:  \n",
            "˘ˇ.˘ˇ˘/jaba.ˆˇ-ˇ\n",
            "Postorino, V., Sanges, V., Giovagnoli, G., Faa, L., Peppo, L., Armando, M., Vicari, \n",
            "S., & Mazzone, L. (ˆˇ˘˚). Clinical di˙erences in children with autism spectrum \n",
            "disorder with and without food selectivity. \n",
            "Appetite\n",
            ", ,˘ˆ-˘ˆ. doi: ˘ˇ.˘ˇ˘.\n",
            "appet.ˆˇ˘˚.ˇ˚.ˇ˘\n",
            "Rommel, N., De Meyer, \n",
            "AM., Feenstra, L. & veereman-Wauters G. (ˆˇˇ \n",
            "complexity of feeding problemˇ infants and young children presenting to \n",
            "a tertiary care institution. \n",
            "Journal of Pediatric Gastroenterology Nutrition, ˛ˇ(˜),\n",
            " ˚. doi: ˘ˇ.˘ˇˇˇˇ˚˘-ˆˇˇˇˇˇ-ˇˇˇ˘\n",
            "Tanner, A., & Andreone, B. E. (ˆˇ˘˚). Using graduated exposure and di˙erential \n",
            "reinforcement to increase food repertoire in a child with autism. \n",
            "Behavior Anal\n",
            "-ysis in Practice\n",
            ", , ˆ-ˆˇ. doi: ˘ˇ.˘ˇˇˇ˘-ˇ˘˚-ˇˇ\n",
            "Recibido Junio 12, 2018 /\n",
            "Received June 12, 2018\n",
            "Aceptado Octubre 3, 2018 /\n",
            "Accepted October 3, 2018\n",
            "115†-’šš†• ‡…—–†’—–’’’…—†’\n",
            "\n"
          ],
          "name": "stdout"
        }
      ]
    },
    {
      "cell_type": "code",
      "metadata": {
        "id": "6mLB62WtpPPf",
        "colab_type": "code",
        "outputId": "83bfe553-43e0-456e-c8e7-01f42f7e9d49",
        "colab": {
          "base_uri": "https://localhost:8080/",
          "height": 845
        }
      },
      "source": [
        "!pip install refextract\n",
        "!pip install magic\n",
        "!pip install python-magic-bin\n",
        "!pip uninstall python-magic\n",
        "!pip install python-magic-bin\n",
        "import magic\n",
        "from refextract import extract_references_from_file"
      ],
      "execution_count": 0,
      "outputs": [
        {
          "output_type": "stream",
          "text": [
            "Requirement already satisfied: refextract in /usr/local/lib/python3.6/dist-packages (1.0.1)\n",
            "Requirement already satisfied: autosemver>=0.5.3,~=0.0 in /usr/local/lib/python3.6/dist-packages (from refextract) (0.5.3)\n",
            "Requirement already satisfied: requests>=2.18.4,~=2.0 in /usr/local/lib/python3.6/dist-packages (from refextract) (2.21.0)\n",
            "Requirement already satisfied: PyPDF2>=1.26.0,~=1.0 in /usr/local/lib/python3.6/dist-packages (from refextract) (1.26.0)\n",
            "Requirement already satisfied: unidecode>=1.0.22,~=1.0 in /usr/local/lib/python3.6/dist-packages (from refextract) (1.1.1)\n",
            "Requirement already satisfied: six>=1.10.0,~=1.0 in /usr/local/lib/python3.6/dist-packages (from refextract) (1.12.0)\n",
            "Collecting python-magic>=0.4.15,~=0.0\n",
            "  Using cached https://files.pythonhosted.org/packages/42/a1/76d30c79992e3750dac6790ce16f056f870d368ba142f83f75f694d93001/python_magic-0.4.15-py2.py3-none-any.whl\n",
            "Requirement already satisfied: dulwich in /usr/local/lib/python3.6/dist-packages (from autosemver>=0.5.3,~=0.0->refextract) (0.19.15)\n",
            "Requirement already satisfied: chardet<3.1.0,>=3.0.2 in /usr/local/lib/python3.6/dist-packages (from requests>=2.18.4,~=2.0->refextract) (3.0.4)\n",
            "Requirement already satisfied: certifi>=2017.4.17 in /usr/local/lib/python3.6/dist-packages (from requests>=2.18.4,~=2.0->refextract) (2019.11.28)\n",
            "Requirement already satisfied: urllib3<1.25,>=1.21.1 in /usr/local/lib/python3.6/dist-packages (from requests>=2.18.4,~=2.0->refextract) (1.24.3)\n",
            "Requirement already satisfied: idna<2.9,>=2.5 in /usr/local/lib/python3.6/dist-packages (from requests>=2.18.4,~=2.0->refextract) (2.8)\n",
            "Installing collected packages: python-magic\n",
            "Successfully installed python-magic-0.4.15\n",
            "\u001b[31mERROR: Could not find a version that satisfies the requirement magic (from versions: none)\u001b[0m\n",
            "\u001b[31mERROR: No matching distribution found for magic\u001b[0m\n",
            "\u001b[31mERROR: Could not find a version that satisfies the requirement python-magic-bin (from versions: none)\u001b[0m\n",
            "\u001b[31mERROR: No matching distribution found for python-magic-bin\u001b[0m\n",
            "Uninstalling python-magic-0.4.15:\n",
            "  Would remove:\n",
            "    /usr/local/lib/python3.6/dist-packages/magic.py\n",
            "    /usr/local/lib/python3.6/dist-packages/python_magic-0.4.15.dist-info/*\n",
            "Proceed (y/n)? y\n",
            "  Successfully uninstalled python-magic-0.4.15\n",
            "\u001b[31mERROR: Could not find a version that satisfies the requirement python-magic-bin (from versions: none)\u001b[0m\n",
            "\u001b[31mERROR: No matching distribution found for python-magic-bin\u001b[0m\n"
          ],
          "name": "stdout"
        },
        {
          "output_type": "error",
          "ename": "ModuleNotFoundError",
          "evalue": "ignored",
          "traceback": [
            "\u001b[0;31m---------------------------------------------------------------------------\u001b[0m",
            "\u001b[0;31mModuleNotFoundError\u001b[0m                       Traceback (most recent call last)",
            "\u001b[0;32m<ipython-input-44-7f83c87ce446>\u001b[0m in \u001b[0;36m<module>\u001b[0;34m()\u001b[0m\n\u001b[1;32m      4\u001b[0m \u001b[0mget_ipython\u001b[0m\u001b[0;34m(\u001b[0m\u001b[0;34m)\u001b[0m\u001b[0;34m.\u001b[0m\u001b[0msystem\u001b[0m\u001b[0;34m(\u001b[0m\u001b[0;34m'pip uninstall python-magic'\u001b[0m\u001b[0;34m)\u001b[0m\u001b[0;34m\u001b[0m\u001b[0;34m\u001b[0m\u001b[0m\n\u001b[1;32m      5\u001b[0m \u001b[0mget_ipython\u001b[0m\u001b[0;34m(\u001b[0m\u001b[0;34m)\u001b[0m\u001b[0;34m.\u001b[0m\u001b[0msystem\u001b[0m\u001b[0;34m(\u001b[0m\u001b[0;34m'pip install python-magic-bin'\u001b[0m\u001b[0;34m)\u001b[0m\u001b[0;34m\u001b[0m\u001b[0;34m\u001b[0m\u001b[0m\n\u001b[0;32m----> 6\u001b[0;31m \u001b[0;32mimport\u001b[0m \u001b[0mmagic\u001b[0m\u001b[0;34m\u001b[0m\u001b[0;34m\u001b[0m\u001b[0m\n\u001b[0m\u001b[1;32m      7\u001b[0m \u001b[0;32mfrom\u001b[0m \u001b[0mrefextract\u001b[0m \u001b[0;32mimport\u001b[0m \u001b[0mextract_references_from_file\u001b[0m\u001b[0;34m\u001b[0m\u001b[0;34m\u001b[0m\u001b[0m\n",
            "\u001b[0;31mModuleNotFoundError\u001b[0m: No module named 'magic'",
            "",
            "\u001b[0;31m---------------------------------------------------------------------------\u001b[0;32m\nNOTE: If your import is failing due to a missing package, you can\nmanually install dependencies using either !pip or !apt.\n\nTo view examples of installing some common dependencies, click the\n\"Open Examples\" button below.\n\u001b[0;31m---------------------------------------------------------------------------\u001b[0m\n"
          ]
        }
      ]
    },
    {
      "cell_type": "code",
      "metadata": {
        "id": "QCVXhxsmz9SZ",
        "colab_type": "code",
        "outputId": "0427fcc6-3d3c-4153-d873-c43066e03692",
        "colab": {
          "base_uri": "https://localhost:8080/",
          "height": 35
        }
      },
      "source": [
        "!python--version"
      ],
      "execution_count": 0,
      "outputs": [
        {
          "output_type": "stream",
          "text": [
            "/bin/bash: python--version: command not found\n"
          ],
          "name": "stdout"
        }
      ]
    },
    {
      "cell_type": "code",
      "metadata": {
        "id": "GvGespe0yZvj",
        "colab_type": "code",
        "outputId": "2d36d2bc-7594-4b57-bddc-9792556aeda7",
        "colab": {
          "base_uri": "https://localhost:8080/",
          "height": 394
        }
      },
      "source": [
        "!pip install PyPDF2\n",
        "from PyPDF2 import PdfFileMerger, PdfFileReader\n",
        " \n",
        "# Call the PdfFileMerger\n",
        "mergedObject = PdfFileMerger()\n",
        " \n",
        "# I had 116 files in the folder that had to be merged into a single document\n",
        "# Loop through all of them and append their pages\n",
        "for fileNumber in range(1, 3):\n",
        "    mergedObject.append(PdfFileReader('RMAC_4402' + str(fileNumber)+ '.pdf', 'rb'))\n",
        " \n",
        "# Write all the files into a file which is named as shown below\n",
        "mergedObject.write(\"mergedfilesoutput.pdf\")"
      ],
      "execution_count": 0,
      "outputs": [
        {
          "output_type": "stream",
          "text": [
            "Requirement already satisfied: PyPDF2 in /usr/local/lib/python3.6/dist-packages (1.26.0)\n"
          ],
          "name": "stdout"
        },
        {
          "output_type": "error",
          "ename": "FileNotFoundError",
          "evalue": "ignored",
          "traceback": [
            "\u001b[0;31m---------------------------------------------------------------------------\u001b[0m",
            "\u001b[0;31mFileNotFoundError\u001b[0m                         Traceback (most recent call last)",
            "\u001b[0;32m<ipython-input-47-aee62abba26b>\u001b[0m in \u001b[0;36m<module>\u001b[0;34m()\u001b[0m\n\u001b[1;32m      8\u001b[0m \u001b[0;31m# Loop through all of them and append their pages\u001b[0m\u001b[0;34m\u001b[0m\u001b[0;34m\u001b[0m\u001b[0;34m\u001b[0m\u001b[0m\n\u001b[1;32m      9\u001b[0m \u001b[0;32mfor\u001b[0m \u001b[0mfileNumber\u001b[0m \u001b[0;32min\u001b[0m \u001b[0mrange\u001b[0m\u001b[0;34m(\u001b[0m\u001b[0;36m1\u001b[0m\u001b[0;34m,\u001b[0m \u001b[0;36m3\u001b[0m\u001b[0;34m)\u001b[0m\u001b[0;34m:\u001b[0m\u001b[0;34m\u001b[0m\u001b[0;34m\u001b[0m\u001b[0m\n\u001b[0;32m---> 10\u001b[0;31m     \u001b[0mmergedObject\u001b[0m\u001b[0;34m.\u001b[0m\u001b[0mappend\u001b[0m\u001b[0;34m(\u001b[0m\u001b[0mPdfFileReader\u001b[0m\u001b[0;34m(\u001b[0m\u001b[0;34m'RMAC_4402'\u001b[0m \u001b[0;34m+\u001b[0m \u001b[0mstr\u001b[0m\u001b[0;34m(\u001b[0m\u001b[0mfileNumber\u001b[0m\u001b[0;34m)\u001b[0m\u001b[0;34m+\u001b[0m \u001b[0;34m'.pdf'\u001b[0m\u001b[0;34m,\u001b[0m \u001b[0;34m'rb'\u001b[0m\u001b[0;34m)\u001b[0m\u001b[0;34m)\u001b[0m\u001b[0;34m\u001b[0m\u001b[0;34m\u001b[0m\u001b[0m\n\u001b[0m\u001b[1;32m     11\u001b[0m \u001b[0;34m\u001b[0m\u001b[0m\n\u001b[1;32m     12\u001b[0m \u001b[0;31m# Write all the files into a file which is named as shown below\u001b[0m\u001b[0;34m\u001b[0m\u001b[0;34m\u001b[0m\u001b[0;34m\u001b[0m\u001b[0m\n",
            "\u001b[0;32m/usr/local/lib/python3.6/dist-packages/PyPDF2/pdf.py\u001b[0m in \u001b[0;36m__init__\u001b[0;34m(self, stream, strict, warndest, overwriteWarnings)\u001b[0m\n\u001b[1;32m   1079\u001b[0m             \u001b[0mwarnings\u001b[0m\u001b[0;34m.\u001b[0m\u001b[0mwarn\u001b[0m\u001b[0;34m(\u001b[0m\u001b[0;34m\"PdfFileReader stream/file object is not in binary mode. It may not be read correctly.\"\u001b[0m\u001b[0;34m,\u001b[0m \u001b[0mutils\u001b[0m\u001b[0;34m.\u001b[0m\u001b[0mPdfReadWarning\u001b[0m\u001b[0;34m)\u001b[0m\u001b[0;34m\u001b[0m\u001b[0;34m\u001b[0m\u001b[0m\n\u001b[1;32m   1080\u001b[0m         \u001b[0;32mif\u001b[0m \u001b[0misString\u001b[0m\u001b[0;34m(\u001b[0m\u001b[0mstream\u001b[0m\u001b[0;34m)\u001b[0m\u001b[0;34m:\u001b[0m\u001b[0;34m\u001b[0m\u001b[0;34m\u001b[0m\u001b[0m\n\u001b[0;32m-> 1081\u001b[0;31m             \u001b[0mfileobj\u001b[0m \u001b[0;34m=\u001b[0m \u001b[0mopen\u001b[0m\u001b[0;34m(\u001b[0m\u001b[0mstream\u001b[0m\u001b[0;34m,\u001b[0m \u001b[0;34m'rb'\u001b[0m\u001b[0;34m)\u001b[0m\u001b[0;34m\u001b[0m\u001b[0;34m\u001b[0m\u001b[0m\n\u001b[0m\u001b[1;32m   1082\u001b[0m             \u001b[0mstream\u001b[0m \u001b[0;34m=\u001b[0m \u001b[0mBytesIO\u001b[0m\u001b[0;34m(\u001b[0m\u001b[0mb_\u001b[0m\u001b[0;34m(\u001b[0m\u001b[0mfileobj\u001b[0m\u001b[0;34m.\u001b[0m\u001b[0mread\u001b[0m\u001b[0;34m(\u001b[0m\u001b[0;34m)\u001b[0m\u001b[0;34m)\u001b[0m\u001b[0;34m)\u001b[0m\u001b[0;34m\u001b[0m\u001b[0;34m\u001b[0m\u001b[0m\n\u001b[1;32m   1083\u001b[0m             \u001b[0mfileobj\u001b[0m\u001b[0;34m.\u001b[0m\u001b[0mclose\u001b[0m\u001b[0;34m(\u001b[0m\u001b[0;34m)\u001b[0m\u001b[0;34m\u001b[0m\u001b[0;34m\u001b[0m\u001b[0m\n",
            "\u001b[0;31mFileNotFoundError\u001b[0m: [Errno 2] No such file or directory: 'RMAC_44021.pdf'"
          ]
        }
      ]
    },
    {
      "cell_type": "code",
      "metadata": {
        "id": "XXWgBnPOsaB1",
        "colab_type": "code",
        "outputId": "a768e415-3529-4951-c231-ae697d47ebea",
        "colab": {
          "base_uri": "https://localhost:8080/",
          "height": 176
        }
      },
      "source": [
        "#https://stackoverflow.com/questions/53093531/python-apache-tika-single-page-parser\n",
        "\n",
        "!pip install tika\n",
        "import tika\n",
        "from tika import parser\n",
        "\n",
        "page_no = 0\n",
        "\n",
        "FileName = \"/content/RMAC_4402_1.pdf.pdf\"\n",
        "PDF_Parse = parser.from_file(FileName)\n",
        "print(PDF_Parse)\n",
        "#print(PDF_Parse ['content'])\n",
        "#print(PDF_Parse ['metadata'])\n",
        "\n",
        "file = open (r\"/content.2.txt\",\"a\")\n",
        "file.writelines(FileName)\n",
        "file.close()\n"
      ],
      "execution_count": 0,
      "outputs": [
        {
          "output_type": "stream",
          "text": [
            "Requirement already satisfied: tika in /usr/local/lib/python3.6/dist-packages (1.24)\n",
            "Requirement already satisfied: requests in /usr/local/lib/python3.6/dist-packages (from tika) (2.21.0)\n",
            "Requirement already satisfied: setuptools in /usr/local/lib/python3.6/dist-packages (from tika) (46.1.3)\n",
            "Requirement already satisfied: idna<2.9,>=2.5 in /usr/local/lib/python3.6/dist-packages (from requests->tika) (2.8)\n",
            "Requirement already satisfied: chardet<3.1.0,>=3.0.2 in /usr/local/lib/python3.6/dist-packages (from requests->tika) (3.0.4)\n",
            "Requirement already satisfied: urllib3<1.25,>=1.21.1 in /usr/local/lib/python3.6/dist-packages (from requests->tika) (1.24.3)\n",
            "Requirement already satisfied: certifi>=2017.4.17 in /usr/local/lib/python3.6/dist-packages (from requests->tika) (2019.11.28)\n",
            "{'metadata': {'Content-Type': 'application/pdf', 'Creation-Date': '2019-04-25T14:31:01Z', 'Last-Modified': '2019-04-25T14:31:04Z', 'Last-Save-Date': '2019-04-25T14:31:04Z', 'X-Parsed-By': ['org.apache.tika.parser.DefaultParser', 'org.apache.tika.parser.pdf.PDFParser'], 'X-TIKA:content_handler': 'ToTextContentHandler', 'X-TIKA:embedded_depth': '0', 'X-TIKA:parse_time_millis': '127', 'access_permission:assemble_document': 'true', 'access_permission:can_modify': 'true', 'access_permission:can_print': 'true', 'access_permission:can_print_degraded': 'true', 'access_permission:extract_content': 'true', 'access_permission:extract_for_accessibility': 'true', 'access_permission:fill_in_form': 'true', 'access_permission:modify_annotations': 'true', 'created': '2019-04-25T14:31:01Z', 'date': '2019-04-25T14:31:04Z', 'dc:format': 'application/pdf; version=1.4', 'dc:language': 'es-ES', 'dcterms:created': '2019-04-25T14:31:01Z', 'dcterms:modified': '2019-04-25T14:31:04Z', 'language': 'es-ES', 'meta:creation-date': '2019-04-25T14:31:01Z', 'meta:save-date': '2019-04-25T14:31:04Z', 'modified': '2019-04-25T14:31:04Z', 'pdf:PDFVersion': '1.4', 'pdf:charsPerPage': ['1538', '2588', '2928', '2758', '2394', '2607', '2595', '2932', '1616', '2717', '364', '293', '2739', '1650', '2981', '2933', '2665', '2417', '1713'], 'pdf:docinfo:created': '2019-04-25T14:31:01Z', 'pdf:docinfo:creator_tool': 'Adobe InDesign CC 2017 (Macintosh)', 'pdf:docinfo:modified': '2019-04-25T14:31:04Z', 'pdf:docinfo:producer': 'Adobe PDF Library 15.0', 'pdf:docinfo:trapped': 'False', 'pdf:encrypted': 'false', 'pdf:hasMarkedContent': 'true', 'pdf:hasXFA': 'false', 'pdf:hasXMP': 'true', 'pdf:unmappedUnicodeCharsPerPage': ['0', '0', '0', '0', '0', '0', '0', '0', '1', '0', '2', '2', '0', '4', '0', '0', '0', '0', '0'], 'producer': 'Adobe PDF Library 15.0', 'resourceName': \"b'RMAC_4402_1.pdf.pdf'\", 'trapped': 'False', 'xmp:CreatorTool': 'Adobe InDesign CC 2017 (Macintosh)', 'xmpMM:DerivedFrom:DocumentID': 'xmp.did:a2a99187-68b5-4778-bbdb-2b37b136547c', 'xmpMM:DerivedFrom:InstanceID': 'xmp.iid:da364598-c9e3-438c-96bd-54ddba48de85', 'xmpMM:DocumentID': 'xmp.id:5e17ac49-8380-4120-9722-9b7ab3adbda6', 'xmpTPg:NPages': '19'}, 'content': '\\n\\n\\n\\n\\n\\n\\n\\n\\n\\n\\n\\n\\n\\n\\n\\n\\n\\n\\n\\n\\n\\n\\n\\n\\n\\n\\n\\n\\n\\n\\n\\n\\n\\n\\n\\n\\n\\n\\n\\n\\n\\n\\n\\n\\n\\n\\nEFFECTS OF A HIGH-PROBABILIT Y INSTRUCTIONAL \\nSEQUENCE ON GENER ALIZED FOOD CONSUMPTION\\n\\nEFECTO DE UNA SECUENCIA INSTRUCCIONAL DE \\nALTA PROBABILIDAD SOBRE L A INGESTA DE COMIDA \\n\\nGENER ALIZ ADA\\n\\nVarsovia Hernández Eslava\\nUniversidad Veracruzana-CEICAH\\n\\nJonathan K. Fernand\\nAurora University\\n\\nAbstract\\n\\nThe purpose of the current study was to examine the effects of delivering a \\nhigh-probability instructional sequence on generalized consumption of nonpre-\\nferred foods with similar properties to treatment foods. The participant was a \\n5-year-old, typically-developing child with a history of food selectivity. The partic-\\nipant was asked to complete each step of an instructional sequence in which the final \\nstep was consumption of a nonpreferred food. Praise was delivered after compliance \\nto complete each step and a preferred food was delivered after compliance with the \\n\\nVarsovia Hernández Eslava, Centro de Estudios e Investigaciones en Conocimiento y Aprendi-\\nzaje Humano (CEICAH), Universidad Veracruzana, Jonathan K. Fernand, Aurora University. The \\nfirst author was supported by grant #264560 from CONACYT.\\xa0\\n\\nCorrespondence concerning this study should be addressed to Varsovia Hernández, Centro de \\nEstudios e Investigaciones en Conocimiento y Aprendizaje Humano, Av. Orizaba No. 203, Fraccio-\\nnamiento Veracruz Xalapa, Veracruz. México, C. P. 91120. varsovia.eslava@gmail.com\\n\\nRevista Mexicana de Análisis de la Conducta • Mexican Journal of Behavior Analysis\\n2018 | Núm. 2 • diciembre | No. 2 • December | Vol. 44, 97 - 115 \\nhttp://dx.doi.org/10.5514/rmac.v44.i2.68546\\n\\n\\n\\nfinal step. The high-probability instructional sequence was effective in increasing \\nconsumption of nonpreferred foods and generalization was observed to nontarget \\nfoods with similar properties. The importance of tailoring procedures to treat food \\nselectivity displayed by typically developing children is discussed.\\n\\nKey words: Food selectivity, high-probability instructional sequence, typically \\ndeveloping children\\n\\nResumen\\n\\nEl propósito del presente estudio fue evaluar los efectos de presentar una secuencia \\ninstruccional completa sobre el consumo generalizado de comidas no preferidas \\ncon propiedades similares a las comidas bajo tratamiento. El participante fue un \\nniño de 5 años con desarrollo típico con una historia de selectividad en la ingesta. Se \\npidió al participante completar cada uno de los pasos de una secuencia de instruc-\\nciones en la que el paso final fue el consumo de alimento. Se felicitó al participante \\ndespués de cumplir con cada instrucción y después del consumo del alimento se \\nentregó un alimento altamente preferido. El uso de la secuencia instruccional de alta \\nprobabilidad fue efectiva para incrementar el consumo de comidas bajo tratamiento \\nsin utilizar extinción del escape y se observó generalización hacia alimentos con \\npropiedades similares que no estuvieron bajo tratamiento. Se discute la importancia \\nde adaptar procedimientos desarrollados con niños con discapacidad del desarrollo \\npara tratar selectividad en la ingesta de niños con desarrollo típico.\\n\\nPalabras clave: Selectividad en la ingesta, secuencia instruccional, niños con de-\\nsarrollo típico\\n\\nFood selectivity refers to the consumption of a limited variety of foods, refusal to \\nconsume foods from at least one major food category, or refusal to consume novel \\nfoods (Levin & Carr, 2001). Feeding problems are estimated to occur in upwards \\nof 35% of typically developing children and in approximately 33-80% of children \\nwith developmental disabilities (Bachmeyer, 2009). Engaging in food selectivity \\ncan result in detrimental health outcomes such as nutritional deficiencies and other \\nmedical complications, especially when these problems are persistent and remain \\nuntreated. Refusal to eat is generally accompanied by inappropriate mealtime be-\\nhavior in a variety of forms including, but not limited to, negative vocalizations (e.g., \\ncrying, screaming), disruption (e.g., throwing utensils), aggression (e.g., hitting, \\nkicking), and self-injury (e.g., head banging). In addition, picky eating and poor \\nappetite are among the top behavioral problems reported by caregivers to be highly \\n\\n98 hernández & Fernand\\n\\n\\n\\nbothersome and difficult to deal with (Friman, 2010); caregivers of children who \\nengage in inappropriate mealtime behavior report mealtimes to be highly stressful \\n(Postorino, et al., 2015). \\n\\nAs evident by extensive research on pediatric feeding disorders (see the Special \\nVirtual Issue on Pediatric Feeding, Journal of Applied Behavior Analysis), assessment \\nand treatment procedures based on behavior-analytic principles and methods are \\nhighly efficacious (e.g., Addison, et al, 2012; Kerwin, 1999; Piazza, et al. 2003). Al-\\nthough the etiology of feeding disorders can be complex and often require medical \\ninterventions or clearance prior to providing behavioral interventions, inappro-\\npriate mealtime behavior can persist even when these medical complications are \\nameliorated. Functional Analysis (FA) methodology has been used to evaluate the \\nenvironmental conditions under which inappropriate mealtime behavior occurs and \\nis maintained (e.g., Najdowski, 2008; Piazza, et al. 2003). In general, research has \\nidentified social-negative reinforcement in the form of escape from the requirement \\nto eat as a common variable maintaining inappropriate mealtime behavior (e.g., Pi-\\nazza, et al., 2003). For example, caregivers might provide breaks from eating or ter-\\nminate the meal altogether when their child refuses to eat, which could potentially \\nexacerbate inappropriate mealtime behavior. In addition, inappropriate mealtime \\nbehavior might be maintained by social-positive reinforcement in the form of at-\\ntention or access to tangible items. For example, caregivers might supply attention \\nin the form of reprimands, consoling or coaxing, and encouragement or preferred \\nfoods or toys following instances of inappropriate mealtime behavior and might \\nalso contribute to the continuation of such behavior. Regarding treatment and in \\ncorrespondence with the outcomes of FA evaluations for inappropriate mealtime \\nbehavior, a large portion of research has found that treatments using an escape ex-\\ntinction component are highly effective and often necessary to increase consump-\\ntion and decrease inappropriate mealtime behavior (e.g., Piazza, Patel, et al. 2003). \\n\\nAlthough escape extinction-based treatments are a highly effective interven-\\ntion, both antecedent- and positive reinforcement-based procedures have also been \\ndemonstrated to be effective in increasing acceptance and consumption of non-\\npreferred foods (e.g., Patel, et al. 2007; Penrod, Gardella & Fernand, 2012). An-\\ntecedent-based procedures refer to manipulations that are conducted before the \\nbite of food is presented to the child and might include alterations to the proper-\\nties of the food (e.g., blending) or requirements to obtain reinforcement (e.g., de-\\ncreased number of bites). The high-probability (high-p) instructional sequence is \\nan antecedent- and reinforcement-based procedure that has some small empirical \\n\\n99High-probability Instructional Sequence and Food Consumption\\n\\n\\n\\nsupport demonstrating the procedure can be effective in increasing compliance \\nto consume nonpreferred foods (Patel, et al. 2007; Penrod, Gardella & Fernand, \\n2012). The high-p instructional sequence is a procedure\\xa0involving the delivery of a \\nsequence of instructions comprised of demands that typically result in high levels \\nof compliance (high-p instructions) immediately followed by the delivery of a de-\\nmand that does not typically result in compliance (low-p instructions; Lipschultz \\n& Wilder, 2017).\\n\\nPenrod, Gardella, and Fernand (2012) used a high-p instructional sequence \\nin combination with demand fading with two children diagnosed with autism to \\nincrease consumption of nonpreferred foods. They established a sequence of two \\nhigh-p responses followed by one low-p response (e.g., touch the food, smell the \\nfood, kiss the food) in which new low-p responses were gradually introduced while \\npreviously high-p responses were removed as the child complied with the low-p \\ninstruction. This sequence and fading procedure continued until the final low-p \\ninstruction to consume the food was added to the sequence and compliance with \\nthe instruction occurred. The treatment package increased consumption for both \\nparticipants without the use of an EE component. However, this effect was only \\ndemonstrated with target foods, and the researchers did not demonstrate general-\\nization to additional foods. In the present study, we examined generalization effects \\nof the procedure when it was implemented with novel foods that shared similar \\nproperties (i.e., consistency, color, taste) to treatment foods.\\n\\nOne component of the high-p instructional sequence that is incorporated in the \\nprocedure employed by Penrod et al. (2012) is the gradual presentation of the food \\nto the participant, which could facilitate its ingestion. For example, Tanner and An-\\ndreone (2015) implemented a treatment that consisted of a sequence of steps that \\nended with eating the food with a 3.5-year-old boy diagnosed with Autism Spec-\\ntrum Disorder. They implemented a 12-step food hierarchy (e.g., tolerate food in \\nthe therapy room, tolerate food on therapy plate) and reinforced compliance using \\ntokens that could be exchange for preferred social reinforcement with peers. They \\ngradually moved up the sequence of steps contingent upon compliance. The pro-\\ncedure was effective at increasing consumption from 4 to 50 foods over a 9-month \\nspan and consumption generalized from treatment in the clinic to the home setting \\nfor some of the foods. \\n\\nIn Penrod, Gardella, and Fernand (2012), the low-p instructions were added as \\nthe high-p instructions where faded out, similar to a shaping procedure, whereas \\nin Tanner and Andreone (2015) instructions were presented contingent upon the \\n\\n100 hernández & Fernand\\n\\n\\n\\nlevel of compliance displayed by the participant. In the present study, we evaluat-\\ned whether the full high-p instructional sequence would increase consumption of \\nnonpreferred foods without the use of demand fading or escape extinction. Also \\nin Penrod et al. and in Tanner and Andreone the participants had a diagnosis of \\nAutism Spectrum Disorder, and we sought to extend the procedure to a typically \\ndeveloping child. Thus, the purpose of the present study was to examine the effects \\nof delivering a full instructional sequence on generalized consumption of nonpre-\\nferred foods with similar properties to treatment foods with a typically developing \\nchild who engaged in active food refusal. \\n\\nMethod\\n\\nParticipant & Setting\\nJulio was a 5-year-old, typically developing boy with a history of food selectivi-\\n\\nty. Julio’s diet primarily consisted of PediaSure (from which he met his nutritional \\nneeds), crackers, and strawberry yogurt. Julio often engaged in gagging, vomiting, \\ncrying, hair pulling (SIB), and negative vocalizations when presented with novel \\nfoods. At the time of treatment, a pediatrician had cleared Julio from any medical \\nissues that might influence his feeding problem or the course of treatment, and \\nhe was deemed safe to chew and swallow solid foods. It is important practitioners \\nproceed with caution and practice within their scope of competency given that \\nfeeding disorders are often multifaceted in nature (Rommel, DeMeyer, Feenstra, \\n& Veereman-Wauters, 2003) and medical issues (e.g., aspiration, allergies) might \\nbe undetectable without the assistance of other disciplinary collaboration. Thus, \\nbehavior analysts should refer to other professionals to ensure medical problems \\nand oral-motor deficits will not hinder the safety of the clients they treat. \\n\\nSessions were conducted in a 4 m by 3 m room at the CEICAH-University of \\nVeracruz. The treatment room contained a table, chairs, feeding utensils and the \\nfoods to be used during sessions. \\n\\nResponse Measurement & Interobserver Agreement\\nInappropriate mealtime behavior was defined as the participant vocally refusing \\n\\nto eat the food (e.g., No! I don’t want it!); throwing food or utensils; blocking access \\nto his mouth; pushing the plate, utensil, or experimenter’s arm; head turns defined \\nas moving the head in a 45-degree angle away from the play in any direction; and \\n\\n101High-probability Instructional Sequence and Food Consumption\\n\\n\\n\\nthrowing food. The main dependent variable during the treatment evaluation was \\nthe percentage of bites with consumption. Consumption was defined as the bite \\npassing the plane of the lips within 5 s of presentation and no food larger than a \\ngrain of rice remaining following a mouth clean check, and compliance was defi-\\nned as the participant completing the instruction within two prompts. We used a \\nmulti-element design (FA) and a multiple baseline design across foods (treatment \\nevaluation).\\n\\nA second observer independently observed and scored inappropriate mealtime \\nbehavior for 44% of FA sessions as well as compliance and consumption for 25% \\nof treatment evaluation sessions. Agreement for inappropriate mealtime behavior \\nwas scored using a proportional agreement method across 10-s intervals. For each \\ninterval, the smaller number of observed instances from one observer was divided \\nby the larger number of instances from the secondary observer and multiplied by \\n100 to produce a percentage. If both observers recorded a zero, an agreement of \\n100% was scored for that interval. The percentage agreement for all intervals were \\nsummed and divided by the total number of intervals in a session to obtain an avera-\\nge agreement score per session. Agreements for compliance and consumption were \\nscored on a trial-by-trial basis. Interobserver agreement for the treatment evaluation \\nwas calculated by dividing the total number of agreements by the sum of agreements \\nplus disagreements and converting to a percentage. Interobserver agreement for the \\nfunctional analysis was 95% (range, 87%-100%) and the treatment evaluation was \\n94% (range, 85%-100%).\\n\\nFunctional Analysis\\nSessions were 5 min and were based on the procedures described by Iwata, Dors-\\n\\ney, Slifer, Bauman, and Richman (1982/1994) adapted to inappropriate mealtime \\nbehavior (e.g., Najdowski, 2008; Piazza, et al. 2003). We used a multi-element \\ndesign to evaluate differential rates of inappropriate mealtime behavior across at-\\ntention, escape, no interaction, and control conditions. Sessions started with the \\nparticipant seated at the table. A bite of nonpreferred food approximately the size of \\na pea was presented in front of the participant on a plate for the entire session (see \\nthe demand condition described below for an exception). Any acceptance during \\nany condition resulted in praise. \\n\\nIn the Attention condition the experimenter sat in front of the participant wi-\\nthout interacting with him. Inappropriate mealtime behavior resulted in attention \\nthe form of coaxing, reprimands, and/or statement of concern such as “Are you \\n\\n102 hernández & Fernand\\n\\n\\n\\nok?” or “Come on, it’s not that bad!” In the Escape condition a demand to “take a \\nbite” was delivered using a three-step prompting procedure: vocal, model, followed \\nby placing the spoon to Julio’s lip. Initially the vocal demand to “take a bite” was \\nprovided. If acceptance did not occur within 5 s, the feeder modeled consumption. \\nIf acceptance did not occur after an additional 5 s, the feeder scooped the bite and \\nplaced it to the participant’s lips. If at any point inappropriate mealtime behavior \\noccurred, the bite of food was removed for 30 s. Following the 30-s break, a new \\nbite was presented and this sequence continued until the session was concluded. \\nDuring the Escape condition, no other programmed consequences were provided \\nfor inappropriate mealtime behavior (e.g., attention was not issued). In the No-In-\\nteraction condition the feeder did not provide any kind of interaction with the par-\\nticipant (i.e., no demands or programmed consequences for inappropriate mealtime \\nbehavior were delivered). Finally, in the Control condition, a preferred food was \\npresented on the plate every 15 s and the experimenter interacted continuously with \\nthe participant throughout the session.  \\n\\nPre- & Post-treatment Preference Assessment\\nWe conducted a paired-choice preference assessment following procedures si-\\n\\nmilar to those outlined by Fisher, et al. (1992). The size of each food used in the \\npreference assessment was approximately the size of a pea. Each of the 15 foods \\nwas paired once with every other food. Two foods were simultaneously presented \\nin front of the participant on separate plates for 5 s. The participant was allowed \\nto select one of the foods and consume it. If the participant attempted to reach for \\nboth foods at the same time, he was blocked. If the participant did not select either \\nfood within 5 s, the food was removed and a new trial began. A hierarchy of food \\npreferences was obtained based on the percentage of selection and consumption for \\neach food. That is, the food that was selected and consumed on a higher percentage \\nof trials was considered to be highly preferred relative to foods selected at a lower \\npercentage of trials or never selected (e.g., nonpreferred foods).\\n\\nProcedure\\n\\nSix nonpreferred foods were divided into three groups containing two foods \\neach. The foods in each group shared similar properties in terms of appearance (col-\\nor) and texture. To evaluate generalization, we sequentially implemented treatment \\nfor one of the foods in each group while the second food in the group continued \\n\\n103High-probability Instructional Sequence and Food Consumption\\n\\n\\n\\nto be presented under DRA contingencies (see description of DRA below). The \\nthree food pairs were: apple and pear, pea and green bean, and sausage and ham. \\nOnly one type of food was presented during each session and all sessions consisted \\nof 5, single-bite trials. The size of the bite was approximately the size of a pea (i.e., \\napproximately ¼ by ¼ by ¼  in. cube). We asked parents not to present the six foods \\noutside of meal sessions for the duration of the study.\\n\\nBaseline. All sessions started with the participant seated at the table with the \\nexperimenter across from him. A bite of food was presented on a spoon positioned \\non a plate and placed in front of him. If the participant did not accept the bite of \\nfood within 5 s, the experimenter delivered a verbal instruction to eat the food and \\nmodeled consumption (i.e., verbal and model prompt). If the participant failed \\nto accept the bite within 5 s of the verbal instruction, the experimenter delivered \\nanother instruction plus a model prompt. If the participant did not accept a bite \\nwithin 5 s of the second verbal instruction, the experimenter removed the bite and \\npresented the next bite 20 s later. Inappropriate mealtime behavior did not result \\nin any programmed consequences (i.e., attention or escape). Praise (e.g. “good job \\neating the apple”) was delivered for consumption. Operational definitions for inap-\\npropriate mealtime behavior were the same as previously described.\\n\\nDRA . Sessions were identical to baseline with a few exceptions. First, the par-\\nticipant was provided access to a bite of preferred food at the start of session. Next, \\nhe was told he could obtain one more bite if he consumed a new food. Last, food \\nconsumption resulted in both praise and access to a bite of preferred food.\\n\\nDRA  high-p instructional sequence. Similar to the DRA phase, the partici-\\npant was provided access to a bite of preferred food at the beginning of each session. \\nAfter this, a bite of nonpreferred food was presented and a hierarchy of instructions \\nwas delivered. Each instruction was issued in conjunction with a model prompt \\nfrom the experimenter. If compliance did not occur after 5 s from the first instruc-\\ntion, the experimenter repeated the instruction a second time. If compliance did not \\noccur after the second instruction, the experimenter moved to the next instruction \\nin the hierarchy and did not require compliance with the instruction. The partici-\\npant was asked to execute each of the following instructions: a) touch the food, b) \\npick the food up, c) smell the food, d) kiss the food, e) lick the food, f) balance food \\non tongue, g) close mouth with food inside, h) bite food into two pieces, i) chew \\nthe food, and j) swallow the chewed food. Praise was delivered after compliance \\nwith each instruction and a preferred food was delivered after compliance with \\nthe final step in the sequence (i.e., consumption). If the participant ate the food \\n\\n104 hernández & Fernand\\n\\n\\n\\nimmediately, he was given access to a bite of a preferred food and was not required \\nto go through the steps of the high-p instructional sequence. Just as in baseline, in-\\nappropriate mealtime behavior did not result in attention from the experimenter or \\nany other programmed consequences; thus, the sequence of instructions and bite \\npresentations continued regardless of inappropriate mealtime behavior. The bite \\nwas removed after a complete sequence of instructions was delivered and the next \\ntrial started after 20 s and continued until all five bites were presented. \\n\\nOnce 100% of target bites were consumed without any instances of inappropria-\\nte mealtime behavior for three consecutive sessions, a reversal to the DRA phase \\nwas conducted for the target food in an effort to test for the continued need for the \\nhigh-p sequence component; thus, all high-p instructions were no longer presented \\nand only the instruction to “take a bite” was issued. After an additional three con-\\nsecutive sessions at 100% consumption within the DRA phase, the experimenter \\nintroduced treatment with another food from the next group. \\n\\nResults\\n\\nFigure 1 shows the rate of inappropriate mealtime behavior across FA sessions. \\nInappropriate mealtime behavior occurred at increased rates across escape, atten-\\n\\n1 2 3 4 5 6 7 8 9 10 11 12 13 14 15 16 17\\n\\n0\\n\\n1\\n\\n2\\n\\n3\\nNo InteractionA�ention ControlEscape\\n\\nIn\\nap\\n\\npr\\nop\\n\\nri\\nat\\n\\ne \\nM\\n\\nea\\nlti\\n\\nm\\ne \\n\\nB\\neh\\n\\nav\\nio\\n\\nr (\\npe\\n\\nr m\\nin\\n\\nut\\ne)\\n\\nSessions\\n\\nFigure 1. Rate of inappropriate mealtime behavior per minute across attention, escape, no interac-\\ntion, and control conditions during functional analysis sessions.\\n\\n105High-probability Instructional Sequence and Food Consumption\\n\\n\\n\\ntion, and no interaction conditions relative to the control condition. Overall, the \\nhighest rates of inappropriate mealtime behavior occurred in the escape condition \\nand remained at low levels within the control condition. These results indicate that \\ninappropriate mealtime behavior was maintained by both social-negative (escape) \\nand -positive (attention) reinforcement contingencies.\\n\\nFigure 2 shows the percentage of trials with consumption across baseline, DRA \\nand the high-p instructional sequence (treatment; TX). During treatment for apple, \\ndelivering the full instructional sequence increased consumption of both the tar-\\nget (apple) and generalization-test (pear) foods even though the instructional se-\\nquence was only provided for the target food. Thus, generalization was observed \\nto pear even though the high-p instructional sequence was only implemented with \\napple. Generalization did not occur to other foods with dissimilar properties (e.g., \\npeas and green bean). During the second implementation of DRA, both apple and \\npear continued to be consumed without the implementation of the instructional \\nsequence. \\n\\nFor the second pair of foods, pea and green bean, during treatment there was \\na slight increase in consumption of peas in the third and fourth sessions of treat-\\nment but ultimately, consumption dropped to zero levels. When consumption oc-\\ncurred in those two sessions, we observed that early swallowing (i.e., swallowing \\nwithout chewing) occurred. Early or premature swallowing can pose a safety risk \\n(e.g., aspiration) and several precautions should take place to ensure the participant \\nhas the necessary chewing skills to consume table-top textured foods including \\npreassessments to measure chewing skills and ongoing measurement of mastication \\nthroughout the course of the intervention. Due to these safety concerns, we made \\na remedial change to the consistency of this pair of foods, making them softer by \\ncooking them a few minutes longer (the session when we introduced this change \\nis signaled with an asterisk in the graph). After this change was made, chewing \\nand consumption increased for peas. It should be noted that the experimenter also \\ncontinued to monitor swallowing safety by observing the participant chew these \\nfoods. Similar to the effect that was described previously between apple and pear, \\ngeneralization was observed to green beans even though the high-p instructional se-\\nquence was only implemented with peas, and generalization did not occur to other \\nfoods with dissimilar properties (i.e., sausage and ham). In addition, consumption \\nremained at 100% for both peas and green beans when the high-p sequence was \\nremoved and only the DRA component was in effect.\\n\\n106 hernández & Fernand\\n\\n\\n\\n0\\n0\\n\\n20\\n\\n40\\n\\n60\\n\\n80\\n\\n100\\n\\n0\\n0\\n\\n20\\n\\n40\\n\\n60\\n\\n80\\n\\n100 *\\n\\n0\\n0\\n\\n20\\n\\n40\\n\\n60\\n\\n80\\n\\n100\\n\\n0\\n0\\n\\n20\\n\\n40\\n\\n60\\n\\n80\\n\\n100\\n\\n0\\n0\\n\\n20\\n\\n40\\n\\n60\\n\\n80\\n\\n100\\n\\n*\\n\\n0\\n0\\n\\n20\\n\\n40\\n\\n60\\n\\n80\\n\\n100\\n\\nSession\\n\\nP\\ner\\n\\nce\\nnt\\n\\nag\\ne \\n\\nof\\n T\\n\\nria\\nls \\n\\nw\\nith\\n\\n C\\non\\n\\nsu\\nm\\n\\npt\\nio\\n\\nn\\n\\nApple\\n\\nPeas\\n\\nHam\\n\\nPear\\n\\nGreen bean\\n\\nSausage\\n\\nBL D� TX D�\\n\\nTexture change\\n\\nFigure 2. Percentage of trials \\nwith consumption during \\nbaseline, DRA, and the high-\\nprobability instructional \\nsequence (TX)\\n\\n107High-probability Instructional Sequence and Food Consumption\\n\\n\\n\\n0\\n0\\n\\n20\\n\\n40\\n\\n60\\n\\n80\\n\\n100\\n\\n0\\n0\\n\\n20\\n\\n40\\n\\n60\\n\\n80\\n\\n100 *\\n\\n0\\n0\\n\\n20\\n\\n40\\n\\n60\\n\\n80\\n\\n100\\n\\n0\\n0\\n\\n20\\n\\n40\\n\\n60\\n\\n80\\n\\n100\\n\\n0\\n0\\n\\n20\\n\\n40\\n\\n60\\n\\n80\\n\\n100\\n\\n*\\n\\n0\\n0\\n\\n20\\n\\n40\\n\\n60\\n\\n80\\n\\n100\\n\\nSession\\n\\nP\\ner\\n\\nce\\nnt\\n\\nag\\ne \\n\\nof\\n C\\n\\nom\\npl\\n\\nia\\nnc\\n\\ne\\n\\nApple\\n\\nPeas\\n\\nHam\\n\\nPear\\n\\nGreen bean\\n\\nSausage\\n\\nBL D� TX D�\\n\\nTexture change\\n\\nFigure 3. Percentage of \\ncompliance during baseline, \\nDRA, and the high-\\nprobability instructional \\nsequence.\\n\\n108 hernández & Fernand\\n\\n\\n\\nFor the third pair, sausage and ham, consumption of sausage rapidly increased \\nafter the second treatment session using the high-p instructional sequence. Further-\\nmore, consumption of the generalization-test food (ham) also increased despite \\nbeing presented under DRA contingencies and not the full high-p instructional \\nsequence. Consumption of sausage continued and ham maintained when the high-p \\nsequence was removed for sausage and only the DRA component was in effect.\\n\\nIn a similar format to the previous figure, Figure 3 shows the percentage of com-\\npliance during baseline, DRA and the high-p instructional sequence (TX). Data \\nfor compliance during DRA sessions was identical to the percentage of trials with \\nconsumption because in this condition, the high-p sequence was not presented, \\nso we recorded if the participant consumed the food or not. Because of this, we \\nwill only describe compliance during the treatment component. The percentage of \\ncompliance during treatment was dependent upon on the number of steps (ten in \\ntotal) completed across the five trials per session. \\n\\nDuring the initial baseline and DRA phases, consumption remained at zero \\nacross all foods. However, during treatment for apple, compliance rapidly increa-\\nsed from 78% in the first session to 100% for the target and generalization-test \\nfood (pear). In addition, compliance to eat the apple and pear remained high \\nwhen the high-p instructional sequence was removed and the DRA component \\nwas continued.\\n\\nFor the second pair of foods, pea and green bean, delivering the full instructional \\nsequence with peas resulted in variable compliance across the first 24 sessions (ran-\\nge, 50-90%), and compliance never reached 100% because he rarely ate any of those \\nfoods. Compliance remained at zero for the generalization-test food (green bean). \\nOnce the foods were softened, compliance rapidly increased for both peas and green \\nbeans. Compliance to eat both foods remained high when the high-p instructional \\nsequence was removed and the DRA component was continued.  \\n\\nFor the third pair of foods, ham and sausage, delivering the full instructional se-\\nquence with ham resulted in high levels of compliance from the beginning (range, \\n60% to 90%) and after a few sessions compliance stabilized at 100%. Compliance \\nalso generalized when sausage was presented under the DRA contingency. Just \\nas with the previous pairs of food, compliance to eat both foods remained high \\nwhen the high-p instructional sequence was removed and the DRA component \\nwas continued.  \\n\\nFigure 4 displays the results of the pre- and post-treatment preference assess-\\nments. Prior to treatment, the participant only consumed his highly preferred foods \\n\\n109High-probability Instructional Sequence and Food Consumption\\n\\n\\n\\nduring the preference assessment: PediaSure and cookies. He also consumed yo-\\ngurt albeit inconsistently, resulting in a low percentage of consumption during his \\npre-treatment preference assessment. The remaining 12 foods were never consumed \\nduring the pre-treatment preference assessment. However, consumption of treat-\\nment foods (apple, pea, and sausage) and generalization-test foods (pear, green bean, \\nand ham) were selected and consumed at increased percentages following treatment \\nrelative to pre-treatment. In addition, selection and consumption, on average, was hi-\\ngher for foods used in treatment relative to novel foods the subject was not exposed \\nto during the current evaluation. However, both American and manchego cheeses \\nwere selected and consumed in the post-treatment preference assessment despite \\nnot having been exposed to those foods for the duration of the study.\\n\\nDiscussion\\n\\nThe purpose of the present study was to examine the effects of delivering a full \\nhigh-p instructional sequence on generalized consumption of nonpreferred foods \\nwith similar properties to treatment foods with a typically developing child who \\nengaged in active food refusal. The implementation of a high-p instructional se-\\nquence resulted in compliance to consume previously non-preferred foods; results \\n\\n100\\n\\n80\\n\\n60\\n\\n40\\n\\n20\\n\\n0\\n\\nPe\\ndia\\n\\nSu\\nre\\n\\nCo\\nok\\n\\nie\\nYo\\n\\ngu\\nrt\\n\\nAm\\neri\\n\\nca\\nn C\\n\\nhe\\nese\\n\\nAp\\nple\\n\\n (T\\nx)\\n\\nPe\\nar \\n\\n(D\\n�\\n\\n)\\n\\nHa\\nm \\n\\n(D\\n�\\n\\n)\\n\\nGr\\nee\\n\\nn b\\nea\\n\\nns\\n (D\\n\\n�\\n)\\n\\nSa\\nus\\n\\nag\\ne(\\n\\nTx\\n)\\n\\nPe\\nas(\\n\\nTx\\n)\\n\\nRi\\nce\\n\\nPa\\nsta\\n\\nCa\\nuli\\n\\n�o\\nwe\\n\\nr\\n\\nBr\\noc\\n\\nco\\nli\\n\\nPre-Treatment\\nPost-Treatment\\n\\nM\\nan\\n\\nch\\neg\\n\\no C\\nhe\\n\\nese\\n\\nPe\\nrc\\n\\nen\\nta\\n\\nge\\n o\\n\\nf T\\nri\\n\\nal\\ns w\\n\\nith\\n C\\n\\non\\nsu\\n\\nm\\npt\\n\\nio\\nn\\n\\nFigure 4. Percentage of trials with consumption during the pre- (black) and post-treatment (gray) \\npreference assessments.\\n\\n110 hernández & Fernand\\n\\n\\n\\nconsistent with those obtained by Penrod, Gardella, and Fernand (2012). In addi-\\ntion, use of the high-p instructional sequence resulted in generalization across foods \\nwith similar properties to treatment foods but not to foods with different properties. \\nEven though we did not directly observe generalization across food pairs during the \\ntreatment evaluation, consumption of both American and manchego cheeses during \\nthe posttreatment preference assessment is an encouraging outcome; future studies \\nshould evaluate methods to promote generalized consumption. This last point is \\nespecially important since it would be extremely difficult to have to directly treat all \\nof the possible different foods that a child might be expected to consume.\\n\\nOne departure from the current study relative to Penrod, Gardella, and Fernand \\n(2012) is that we did not use a demand-fading procedure in which the initial steps in \\nthe sequence were faded as new and more difficult low-p instructions were added to \\nthe instructional sequence. However, delivering the full high-p instructional sequen-\\nce without fading the initial steps increased both compliance and consumption. \\nAlthough we did not directly compare the effects of high-p instructional sequences \\nwith and without demand fading, the current results showed that fading was not ne-\\ncessary in obtaining compliance to consume nonpreferred foods. It should be noted \\nthat we did observe independent fading of the steps over time. That is, the partici-\\npant  began to eliminate some steps in the sequence and favored directly picking \\nup, chewing and consuming the food without the need for all modeled instructions \\nwithin the sequence or the particular sequence we established. Future research mi-\\nght examine high-probability instructions that more closely resemble the sequence \\nof steps involved in eating relative to the steps outlined in the current evaluation. \\n\\nSeveral studies have evaluated the implementation of high-p sequences to increa-\\nse food consumption (Dawson, et al. 2003; Patel, et al., 2007; Penrod, Gardella & \\nFernand, 2012). Evidence currently suggests that instructional sequences involving \\nmotor responses related to eating are an important factor in increasing compliance \\nto eat (Penrod, Gardella & Fernand, 2012). That is, high-p instructions unrelated \\nto eating largely have been shown to be ineffective in increasing consumption of \\nnonpreferred foods (Dawson, et al, 2003). Although we did not directly compare \\ninstructional sequences related and unrelated to eating, our results lend additional \\nsupport to the importance of maintaining a similarity between the topography of \\neating and the instructions provided in the sequence. \\n\\nRelating to the last point, one additional component that may be presented in \\nstudies that use high-p instructional sequences related to eating is that they may \\nbe gradually exposing the participant to the physical properties of the food (e.g., \\n\\n111High-probability Instructional Sequence and Food Consumption\\n\\n\\n\\ntaste, smell). Exposure to foods has proved to be effective with some children \\n(Anzman-Frasca, Savage, Marini, & Fisher, 2012; Tanner & Andreone, 2005) but, \\nbecause neither the present study or Penrod et al. (2012) were designed to directly \\nanswer that question, future studies should determine if that’s an important com-\\nponent when using high-probability sequences with steps related to eating. \\n\\nThe present results also lend further support to the effectiveness of antecedent- \\nand reinforcement-based procedures to increase food consumption in the absence \\nof escape extinction. As mentioned before, EE procedures can be highly effective, \\nbut can also be difficult to implement and should certainly only be used by indivi-\\nduals who have received training. Also, it may not be safe to implement EE proce-\\ndures with children after a certain age due to size, potential severity of the problem \\nbehavior, as well as environmental restrictions that limit the ability to implement \\nthe intervention with fidelity. This last point highlights the importance of tailoring \\nprocedures developed for children with specific behavioral characteristics (e.g., age, \\ndiagnosis, severity of feeding problem, level of verbal behavior) to treat food selec-\\ntivity with a specific individual. In the present case, we worked with a typically de-\\nveloping child who was able to understand a wide array of rules and instructions. A \\nfruitful direction for future research might be that of analyzing the match between \\ntypes of treatments and various characteristics to determine if certain populations \\n(typically developing) or skillsets (e.g., verbal ability) might be predictive of less-in-\\ntrusive interventions having a higher likelihood of success relative to their use with \\nalternate populations or skillsets.\\n\\nFinally, there are some potential limitations with the current study. First, it was \\nnecessary to change the consistency of both peas and green beans to obtain proper \\nconsumption (i.e., acceptance, mastication, and swallowing); so, it is possible that \\nthe increase in consumption was an effect of both changes in consistency and the \\nimplementation of the instructional sequence. Although the participant had been \\ncleared as having the necessary skills to chew and swallow safely, we did not con-\\nduct a more thorough evaluation of his mastication skills and we did not directly \\nmeasure chewing and mastication throughout the study; although the experimen-\\nter was aware of up and downward motions of the jaw and looking for inadequate \\nchewing motions throughout the evaluation, directly checking for thorough mas-\\ntication prior to swallowing or decreasing texture (e.g., presenting purees) might \\nbe warranted for children who at risk of early swallowing. It could be the case that \\nearly swallowing with the current participant occurred with peas due to escape \\nfrom tasting the food by swallowing quickly without chewing. Pureed foods have a \\n\\n112 hernández & Fernand\\n\\n\\n\\nfew possible advantages over solid (tabletop) textured foods including: a) they do \\nnot need to be chewed, potentially aiding in increased consumption for children \\nwith skill deficits, and b) they result in the child tasting the food and facilitate rapid \\nswallow more readily than solid foods, potentially aiding in increased consumption \\nfor children with motivational deficits by increasing the likelihood of contacting the \\nreinforcement contingencies associated with consumption. Future research might \\ndetermine if the reported effects could be replicated with other participants and \\nfurther examine potential differences between purees and solid textures in the treat-\\nment of pediatric feeding problems. In a similar line, another limitation of this study \\nis that treatment was implemented to only one participant, although we observed \\ngeneralization between target and non-target foods, it will be important to replicate \\nthis procedure with more participants to evaluate the generality of our findings. \\n\\nDespite the potential limitations noted, this procedure resulted in rapid increa-\\nsed in novel foods without the use of escape extinction. In addition, the high-p \\ninstructional sequence was faded out such that the DRA contingency remained \\neffective, even though initially the DRA contingency proved ineffective. It is possi-\\nble the use of the high-p instructional sequence was effective in placing appropriate \\nbehavior (consumption) in contact with reinforcement and aided in the effective-\\nness of DRA when the high-p instructional sequence was removed. Future research \\nshould continue to examine procedures that might facilitate the efficacy of both \\nantecedent- and reinforcement-based interventions or whether certain prerequisite \\nskills or experiences increase the likelihood of those interventions being successful. \\nFinally, it is important to mention that treatments for pediatric feeding problems \\nshould be implemented within the scope of competence and referrals for medical \\nand oral-motor assessments are critical components of practice within this area.\\n\\nReferences\\n\\nAddison, L. R., Piazza, C. C., Patel, M. R., Bachmeyer, M. H., Rivas, K. M., Milnes, \\nS. M., & Oddo, J. (2012). A comparison of sensory integrative and behavioral \\ntherapies as treatment for pediatric feeding disorders.\\xa0Journal of Applied Behavior \\nAnalysis,\\xa045, 455–471. doi:10.1901/jaba.2012.45-455\\n\\nAnzman-Frasca, S.,\\xa0Savage, J. S.,\\xa0Marini, M. E., Fisher, J. O.,\\xa0& Birch, L. L. (2012). \\nRepeated exposure and associative conditioning promote preschool children’s \\nliking of vegetables. Appetite, 2, 543-553.\\xa0doi: 10.1016/j.appet.2011.11.012\\n\\n113High-probability Instructional Sequence and Food Consumption\\n\\n\\n\\nBachmeyer, M. H. (2009). Treatment of selective and inadequate food intake in \\nchildren: A review and practical guide. Behavior Analysis in Practice, 2, 43-50. \\ndoi: 10.1007/BF03391736\\n\\nDawson, J. E., Piazza, C. C., Sevin, B. M., Gulotta, C. S., Lerman, D., & Kelly, M. L. \\n(2003). Use of the high-probability instructional sequence and escape extinction \\nin a child with food refusal. Journal of Applied Behavior Analysis, 36, 105-108. doi: \\n10.1901/jaba.2003.36-105\\n\\nFisher, W., Piazza, C. C., Bowman, L. G., Hagopian, L. P., Owens, J. C., & Slevin, I. \\n(1992). A comparison of two approaches for identifying reinforcers for persons \\nwith severe and profound disabilities. Journal of Applied Behavior Analysis, 25, \\n491-498. doi: 10.1901/jaba.1992.25-491\\n\\nFriman, P. (2010). Come on in, the water is fine: Achieving mainstream relevance \\nthrough integration with primary medical care. Behavior Analyst, 33, 19-36.\\n\\nHernández, V., Fernand, J., & Vollmer, T. (2012). Pediatric feeding problems: a field \\nof application in behavior analysis. Mexican Journal of Eating Disorders, 7, 144-\\n156. doi: 10.1016/j.rmta.2016.07.001\\n\\nIwata, B. A., Dorsey, M. F., Slifer, K. J., Bauman, K. E. y Richman, G. S. (1982/1994). \\nToward a functional analysis of self-injury. Journal of Applied Behavior Analysis, \\n27(2), 197-209. doi: 10.1901/jaba.1994.27-197\\n\\nKerwin, M. E. (1999). Empirically supported treatments in pediatric psychology: \\nSevere feeding problems. Journal of Pediatric Psychology, 24, 193-214.\\n\\nLevin, L., & Carr, E. (2001). Food Selectivity and Problem Behavior in Children \\nwith Developmental Disabilities: Analysis and Intervention. Behavior Modifica-\\ntion, 25, 443-470. doi: 10.1177/0145445501253004\\n\\nLipschultz, J., & Wilder, D. (2017). Recent research on the high-probability instruc-\\ntional sequence: a brief review. Journal of Applied Behavior Analysis. 50, 424-428. \\ndoi: 10.1002/jaba.378\\n\\nNajdowski, A., Wallece, M., Penrod, B., Tarbox, J., Reagon, K., & Higbee, T. (2008). \\nCaregiver conducted experimental functionaal analyses of inappropriate meal-\\ntime behavior. Journal of Applied Behavior Analysis, 41, 459-465. doi: 10.1901/\\njaba.2008.41-459\\n\\nPatel, M. Reed, G. K., Piazza, C. C., Mueller, M., Bachmeyer, M. H., & Layer, S. A. \\n(2007). Use of a high-probability instructional sequence to increase compliance \\nto feeding demand in the absence of escape extinction. Behavioral Interventions, \\n22, 305-310. doi: 10.1002/bin.251\\n\\n114 hernández & Fernand\\n\\n\\n\\nPenrod, B., Gardella, L., & Fernand, J. (2012). An evaluation of a progressive \\nhigh-probability instructional sequence combined with low-probability demand \\nfading in the treatment of food selectivity. Journal of Applied Behavior Analysis, \\n45, 527-537. doi: 10.1901/jaba.2012.45-527\\n\\nPiazza, C. C., Fisher, W. W., Brown, K. A., Shore, B. A., Patel, M. R., Katz, R. M., et \\nal. (2003). Functional analysis of inappropriate mealtime behaviors. Journal of \\nApplied Behavior Analysis, 36, 187-204. doi: 0.1901/jaba.2003.36-187\\n\\nPiazza, C. C., Patel, M. R., Gulotta, C. S., Sevin, B. M., & Layer, S. A. (2003). On \\nthe relative contributions of positive reinforcement and escape extinction in the \\ntreatment of food refusal. Journal of Applied Behavior Analysis, 36, 309-324. doi:  \\n10.1901/jaba.2003.36-309\\n\\nPostorino, V., Sanges, V., Giovagnoli, G., Fatta, L., Peppo, L., Armando, M., Vicari, \\nS., & Mazzone, L. (2015). Clinical differences in children with autism spectrum \\ndisorder with and without food selectivity. Appetite, 92,126-132. doi: 10.1016/j.\\nappet.2015.05.016\\n\\nRommel, N., De Meyer, AM., Feenstra, L. & veereman-Wauters G. (2003). The \\ncomplexity of feeding problems in 700 infants and young children presenting to \\na tertiary care institution. Journal of Pediatric Gastroenterology Nutrition, 37(1), \\n75-84. doi: 10.1097/00005176-200307000-00014\\n\\nTanner, A., & Andreone, B. E. (2015). Using graduated exposure and differential \\nreinforcement to increase food repertoire in a child with autism. Behavior Anal-\\nysis in Practice, 8, 233-240. doi: 10.1007/s40617-015-0077-9\\n\\nRecibido Junio 12, 2018 /\\nReceived June 12, 2018\\nAceptado Octubre 3, 2018 /\\nAccepted October 3, 2018\\n\\n115High-probability Instructional Sequence and Food Consumption\\n\\n\\n\\t_GoBack\\n\\n', 'status': 200}\n"
          ],
          "name": "stdout"
        }
      ]
    },
    {
      "cell_type": "code",
      "metadata": {
        "id": "dz0X2izJFuUS",
        "colab_type": "code",
        "outputId": "8486a7ac-4ae0-4ede-c2bd-212d6c7d2ca8",
        "colab": {
          "base_uri": "https://localhost:8080/",
          "height": 495
        }
      },
      "source": [
        "import sys\n",
        "from pdfminer.pdfinterp import PDFResourceManager, PDFPageInterpreter\n",
        "from pdfminer.pdfpage import PDFPage\n",
        "from pdfminer.pdfparser import PDFParser\n",
        "from pdfminer.pdfdocument import PDFDocument\n",
        "from pdfminer.converter import TextConverter\n",
        "from pdfminer.layout import LAParams\n",
        "\n",
        "import io\n",
        "\n",
        "\n",
        "def pdfparser(data):\n",
        "\n",
        "    fp = open(data, 'rb')\n",
        "    rsrcmgr = PDFResourceManager()\n",
        "    retstr = io.StringIO()\n",
        "    codec = 'utf-8'\n",
        "    laparams = LAParams()\n",
        "    device = TextConverter(rsrcmgr, retstr, codec=codec, laparams=laparams)\n",
        "    # Create a PDF interpreter object.\n",
        "    interpreter = PDFPageInterpreter(rsrcmgr, device)\n",
        "    # Process each page contained in the document.\n",
        "\n",
        "    for page in PDFPage.get_pages(fp):\n",
        "        interpreter.process_page(page)\n",
        "        data =  retstr.getvalue()\n",
        "\n",
        "    print(data)\n",
        "\n",
        "if __name__ == '__main__':\n",
        "    pdfparser('/content/RMAC_4402_1.pdf.pdf')"
      ],
      "execution_count": 0,
      "outputs": [
        {
          "output_type": "error",
          "ename": "ImportError",
          "evalue": "ignored",
          "traceback": [
            "\u001b[0;31m---------------------------------------------------------------------------\u001b[0m",
            "\u001b[0;31mImportError\u001b[0m                               Traceback (most recent call last)",
            "\u001b[0;32m<ipython-input-89-dacd9ed503f6>\u001b[0m in \u001b[0;36m<module>\u001b[0;34m()\u001b[0m\n\u001b[1;32m      4\u001b[0m \u001b[0;32mfrom\u001b[0m \u001b[0mpdfminer\u001b[0m\u001b[0;34m.\u001b[0m\u001b[0mpdfparser\u001b[0m \u001b[0;32mimport\u001b[0m \u001b[0mPDFParser\u001b[0m\u001b[0;34m\u001b[0m\u001b[0;34m\u001b[0m\u001b[0m\n\u001b[1;32m      5\u001b[0m \u001b[0;32mfrom\u001b[0m \u001b[0mpdfminer\u001b[0m\u001b[0;34m.\u001b[0m\u001b[0mpdfdocument\u001b[0m \u001b[0;32mimport\u001b[0m \u001b[0mPDFDocument\u001b[0m\u001b[0;34m\u001b[0m\u001b[0;34m\u001b[0m\u001b[0m\n\u001b[0;32m----> 6\u001b[0;31m \u001b[0;32mfrom\u001b[0m \u001b[0mpdfminer\u001b[0m\u001b[0;34m.\u001b[0m\u001b[0mconverter\u001b[0m \u001b[0;32mimport\u001b[0m \u001b[0mTextConverter\u001b[0m\u001b[0;34m\u001b[0m\u001b[0;34m\u001b[0m\u001b[0m\n\u001b[0m\u001b[1;32m      7\u001b[0m \u001b[0;32mfrom\u001b[0m \u001b[0mpdfminer\u001b[0m\u001b[0;34m.\u001b[0m\u001b[0mlayout\u001b[0m \u001b[0;32mimport\u001b[0m \u001b[0mLAParams\u001b[0m\u001b[0;34m\u001b[0m\u001b[0;34m\u001b[0m\u001b[0m\n\u001b[1;32m      8\u001b[0m \u001b[0;34m\u001b[0m\u001b[0m\n",
            "\u001b[0;32m/usr/local/lib/python3.6/dist-packages/pdfminer/converter.py\u001b[0m in \u001b[0;36m<module>\u001b[0;34m()\u001b[0m\n\u001b[1;32m     20\u001b[0m \u001b[0;32mfrom\u001b[0m \u001b[0;34m.\u001b[0m\u001b[0mutils\u001b[0m \u001b[0;32mimport\u001b[0m \u001b[0mapply_matrix_pt\u001b[0m\u001b[0;34m\u001b[0m\u001b[0;34m\u001b[0m\u001b[0m\n\u001b[1;32m     21\u001b[0m \u001b[0;32mfrom\u001b[0m \u001b[0;34m.\u001b[0m\u001b[0mutils\u001b[0m \u001b[0;32mimport\u001b[0m \u001b[0mmult_matrix\u001b[0m\u001b[0;34m\u001b[0m\u001b[0;34m\u001b[0m\u001b[0m\n\u001b[0;32m---> 22\u001b[0;31m \u001b[0;32mfrom\u001b[0m \u001b[0;34m.\u001b[0m\u001b[0mutils\u001b[0m \u001b[0;32mimport\u001b[0m \u001b[0menc\u001b[0m\u001b[0;34m\u001b[0m\u001b[0;34m\u001b[0m\u001b[0m\n\u001b[0m\u001b[1;32m     23\u001b[0m \u001b[0;32mfrom\u001b[0m \u001b[0;34m.\u001b[0m\u001b[0mutils\u001b[0m \u001b[0;32mimport\u001b[0m \u001b[0mbbox2str\u001b[0m\u001b[0;34m\u001b[0m\u001b[0;34m\u001b[0m\u001b[0m\n\u001b[1;32m     24\u001b[0m \u001b[0;32mfrom\u001b[0m \u001b[0;34m.\u001b[0m \u001b[0;32mimport\u001b[0m \u001b[0mutils\u001b[0m\u001b[0;34m\u001b[0m\u001b[0;34m\u001b[0m\u001b[0m\n",
            "\u001b[0;31mImportError\u001b[0m: cannot import name 'enc'",
            "",
            "\u001b[0;31m---------------------------------------------------------------------------\u001b[0;32m\nNOTE: If your import is failing due to a missing package, you can\nmanually install dependencies using either !pip or !apt.\n\nTo view examples of installing some common dependencies, click the\n\"Open Examples\" button below.\n\u001b[0;31m---------------------------------------------------------------------------\u001b[0m\n"
          ]
        }
      ]
    },
    {
      "cell_type": "code",
      "metadata": {
        "id": "5EPJbqQl7Y4G",
        "colab_type": "code",
        "colab": {}
      },
      "source": [
        ""
      ],
      "execution_count": 0,
      "outputs": []
    },
    {
      "cell_type": "code",
      "metadata": {
        "id": "MT1UfI79I28w",
        "colab_type": "code",
        "outputId": "9d1c0843-ebba-4066-d1b7-0cd7b16386d8",
        "colab": {
          "base_uri": "https://localhost:8080/",
          "height": 55
        }
      },
      "source": [
        "!pip install PyPDF2\n"
      ],
      "execution_count": 0,
      "outputs": [
        {
          "output_type": "stream",
          "text": [
            "Requirement already satisfied: PyPDF2 in /usr/local/lib/python3.6/dist-packages (1.26.0)\n"
          ],
          "name": "stdout"
        }
      ]
    },
    {
      "cell_type": "code",
      "metadata": {
        "id": "mie4sUgIL5aU",
        "colab_type": "code",
        "colab": {}
      },
      "source": [
        "import PyPDF2"
      ],
      "execution_count": 0,
      "outputs": []
    },
    {
      "cell_type": "code",
      "metadata": {
        "id": "YRkxvpycL-Cp",
        "colab_type": "code",
        "outputId": "0d8dcabd-fcb3-40be-d0d0-a8cbda5b059f",
        "colab": {
          "base_uri": "https://localhost:8080/",
          "height": 35
        }
      },
      "source": [
        "file= open ('/content/RMAC_4402_1.pdf.pdf','rb')\n",
        "print(file)\n",
        "\n"
      ],
      "execution_count": 0,
      "outputs": [
        {
          "output_type": "stream",
          "text": [
            "<_io.BufferedReader name='/content/RMAC_4402_1.pdf.pdf'>\n"
          ],
          "name": "stdout"
        }
      ]
    },
    {
      "cell_type": "code",
      "metadata": {
        "id": "qSxea3hzPuC3",
        "colab_type": "code",
        "outputId": "78402102-e74f-4e3f-b2a5-756f249a689c",
        "colab": {
          "base_uri": "https://localhost:8080/",
          "height": 35
        }
      },
      "source": [
        "pdf_reader = pdf.PdfFileReader(file)"
      ],
      "execution_count": 0,
      "outputs": [
        {
          "output_type": "stream",
          "text": [
            "PdfReadWarning: Xref table not zero-indexed. ID numbers for objects will be corrected. [pdf.py:1736]\n"
          ],
          "name": "stderr"
        }
      ]
    },
    {
      "cell_type": "code",
      "metadata": {
        "id": "sUQOT85hN3rd",
        "colab_type": "code",
        "outputId": "3aed9245-6184-496e-e6b2-d7e5edf8b959",
        "colab": {
          "base_uri": "https://localhost:8080/",
          "height": 35
        }
      },
      "source": [
        "pdf_reader.getNumPages()"
      ],
      "execution_count": 0,
      "outputs": [
        {
          "output_type": "execute_result",
          "data": {
            "text/plain": [
              "19"
            ]
          },
          "metadata": {
            "tags": []
          },
          "execution_count": 102
        }
      ]
    },
    {
      "cell_type": "code",
      "metadata": {
        "id": "OtPTvBFdQAN_",
        "colab_type": "code",
        "colab": {}
      },
      "source": [
        "page = pdf_reader.getPage(15-19)\n",
        "text = page.extractText()\n",
        "#print(text)"
      ],
      "execution_count": 0,
      "outputs": []
    },
    {
      "cell_type": "code",
      "metadata": {
        "id": "TGTQaqUYQndo",
        "colab_type": "code",
        "colab": {}
      },
      "source": [
        "file = open (r\"/content.1.txt\",\"a\")\n",
        "file.writelines(text)\n",
        "file.close()"
      ],
      "execution_count": 0,
      "outputs": []
    },
    {
      "cell_type": "code",
      "metadata": {
        "id": "fBI3mi4cUOlN",
        "colab_type": "code",
        "outputId": "380cc739-ae1d-4678-86aa-3a89b4c15dd7",
        "colab": {
          "base_uri": "https://localhost:8080/",
          "height": 131
        }
      },
      "source": [
        "import re\n",
        "with open(\"/content.1.txt\") as infile:\n",
        "  for s in re.finditer(r'(?<=\\n).*?(?=:)',infile.read()):\n",
        "      print s.group()"
      ],
      "execution_count": 0,
      "outputs": [
        {
          "output_type": "error",
          "ename": "SyntaxError",
          "evalue": "ignored",
          "traceback": [
            "\u001b[0;36m  File \u001b[0;32m\"<ipython-input-121-9ce81a69dd00>\"\u001b[0;36m, line \u001b[0;32m4\u001b[0m\n\u001b[0;31m    print s.group()\u001b[0m\n\u001b[0m          ^\u001b[0m\n\u001b[0;31mSyntaxError\u001b[0m\u001b[0;31m:\u001b[0m invalid syntax\n"
          ]
        }
      ]
    },
    {
      "cell_type": "code",
      "metadata": {
        "id": "EhShyzSe-UAO",
        "colab_type": "code",
        "outputId": "7345aae7-aeb5-4514-f2e1-49d1ec4453a2",
        "colab": {
          "base_uri": "https://localhost:8080/",
          "height": 124
        }
      },
      "source": [
        "!pip install pdfminer.six\n",
        "\n",
        "from pdfminer.pdfparser import PDFParser\n",
        "from pdfminer.pdfdocument import PDFDocument\n",
        "from pdfminer.pdfpage import PDFPage\n",
        "from pdfminer.pdfinterp import PDFResourceManager\n",
        "from pdfminer.pdfinterp import PDFPageInterpreter\n",
        "from pdfminer.converter import TextConverter\n",
        "from pdfminer.layout import LAParams\n",
        "from pdfminer.pdfpage import PDFPage\n",
        "from io import StringIO\n",
        "import re\n",
        "import os, glob,xlwt\n",
        " \n",
        "def convert_pdf_to_txt(path):\n",
        "    rsrcmgr = PDFResourceManager()\n",
        "    retstr = StringIO()\n",
        "    codec = 'utf-8'\n",
        "    laparams = LAParams()\n",
        "    device = TextConverter(rsrcmgr, retstr, codec=codec, laparams=laparams)\n",
        "    fp = open(path, 'rb')\n",
        "    interpreter = PDFPageInterpreter(rsrcmgr, device)\n",
        "    password = \"\"\n",
        "    maxpages = 0\n",
        "    caching = True\n",
        "    pagenos=set()\n",
        "\n",
        "    for page in PDFPage.get_pages(fp, pagenos, maxpages=maxpages, password=password,caching=caching, check_extractable=True):\n",
        "        interpreter.process_page(page)\n",
        "\n",
        "    text = retstr.getvalue()\n",
        "\n",
        "    fp.close()\n",
        "    device.close()\n",
        "    retstr.close()\n",
        "    return text\n",
        "\n",
        "#give below the path in which all the pdf files are present\n",
        "\n",
        "string = ''\n",
        "list_of_files = glob.glob(r'C:/Users/mathu/OneDrive/Desktop/Data Extraction/*.pdf')\n",
        "S = open('file.txt',mode = 'w')\n",
        "row = 0 \n",
        "for file in list_of_files:\n",
        "    wholeFile = convert_pdf_to_txt(file)\n",
        "# Using ^Referenc.* to accommodate the word References (English) or Referencias (Spanish)\n",
        "    match = re.search(r'^Referenc.*', wholeFile, re.MULTILINE|re.DOTALL)\n",
        "    string = string + match.group(0) + '\\n'\n",
        "# writing to a text file\n",
        "    for line in string:\n",
        "        S.write(line)\n",
        "    row+=1\n",
        "\n",
        "\n",
        "\n"
      ],
      "execution_count": 0,
      "outputs": [
        {
          "output_type": "stream",
          "text": [
            "Requirement already satisfied: pdfminer.six in /usr/local/lib/python3.6/dist-packages (20200402)\n",
            "Requirement already satisfied: sortedcontainers in /usr/local/lib/python3.6/dist-packages (from pdfminer.six) (2.1.0)\n",
            "Requirement already satisfied: chardet; python_version > \"3.0\" in /usr/local/lib/python3.6/dist-packages (from pdfminer.six) (3.0.4)\n",
            "Requirement already satisfied: pycryptodome in /usr/local/lib/python3.6/dist-packages (from pdfminer.six) (3.9.7)\n",
            "\n"
          ],
          "name": "stdout"
        }
      ]
    }
  ]
}